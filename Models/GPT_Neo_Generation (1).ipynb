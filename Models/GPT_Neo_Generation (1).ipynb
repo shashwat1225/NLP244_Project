{
  "cells": [
    {
      "cell_type": "code",
      "execution_count": null,
      "metadata": {
        "colab": {
          "base_uri": "https://localhost:8080/"
        },
        "id": "-v3q6BFZq9Tm",
        "outputId": "4bff6ad6-355d-4513-a910-ecbbe6593a19"
      },
      "outputs": [
        {
          "name": "stdout",
          "output_type": "stream",
          "text": [
            "Looking in indexes: https://pypi.org/simple, https://us-python.pkg.dev/colab-wheels/public/simple/\n",
            "Collecting happytransformer\n",
            "  Downloading happytransformer-2.4.1-py3-none-any.whl (45 kB)\n",
            "\u001b[2K     \u001b[90m━━━━━━━━━━━━━━━━━━━━━━━━━━━━━━━━━━━━━━━\u001b[0m \u001b[32m45.5/45.5 KB\u001b[0m \u001b[31m168.9 kB/s\u001b[0m eta \u001b[36m0:00:00\u001b[0m\n",
            "\u001b[?25hCollecting transformers>=4.4.0\n",
            "  Downloading transformers-4.27.2-py3-none-any.whl (6.8 MB)\n",
            "\u001b[2K     \u001b[90m━━━━━━━━━━━━━━━━━━━━━━━━━━━━━━━━━━━━━━━━\u001b[0m \u001b[32m6.8/6.8 MB\u001b[0m \u001b[31m51.3 MB/s\u001b[0m eta \u001b[36m0:00:00\u001b[0m\n",
            "\u001b[?25hCollecting datasets>=1.6.0\n",
            "  Downloading datasets-2.10.1-py3-none-any.whl (469 kB)\n",
            "\u001b[2K     \u001b[90m━━━━━━━━━━━━━━━━━━━━━━━━━━━━━━━━━━━━━━\u001b[0m \u001b[32m469.0/469.0 KB\u001b[0m \u001b[31m26.3 MB/s\u001b[0m eta \u001b[36m0:00:00\u001b[0m\n",
            "\u001b[?25hRequirement already satisfied: torch>=1.0 in /usr/local/lib/python3.9/dist-packages (from happytransformer) (1.13.1+cu116)\n",
            "Requirement already satisfied: protobuf in /usr/local/lib/python3.9/dist-packages (from happytransformer) (3.19.6)\n",
            "Requirement already satisfied: tqdm>=4.43 in /usr/local/lib/python3.9/dist-packages (from happytransformer) (4.65.0)\n",
            "Collecting sentencepiece\n",
            "  Downloading sentencepiece-0.1.97-cp39-cp39-manylinux_2_17_x86_64.manylinux2014_x86_64.whl (1.3 MB)\n",
            "\u001b[2K     \u001b[90m━━━━━━━━━━━━━━━━━━━━━━━━━━━━━━━━━━━━━━━━\u001b[0m \u001b[32m1.3/1.3 MB\u001b[0m \u001b[31m35.6 MB/s\u001b[0m eta \u001b[36m0:00:00\u001b[0m\n",
            "\u001b[?25hRequirement already satisfied: packaging in /usr/local/lib/python3.9/dist-packages (from datasets>=1.6.0->happytransformer) (23.0)\n",
            "Requirement already satisfied: pyyaml>=5.1 in /usr/local/lib/python3.9/dist-packages (from datasets>=1.6.0->happytransformer) (6.0)\n",
            "Collecting responses<0.19\n",
            "  Downloading responses-0.18.0-py3-none-any.whl (38 kB)\n",
            "Collecting xxhash\n",
            "  Downloading xxhash-3.2.0-cp39-cp39-manylinux_2_17_x86_64.manylinux2014_x86_64.whl (212 kB)\n",
            "\u001b[2K     \u001b[90m━━━━━━━━━━━━━━━━━━━━━━━━━━━━━━━━━━━━━━\u001b[0m \u001b[32m212.2/212.2 KB\u001b[0m \u001b[31m12.5 MB/s\u001b[0m eta \u001b[36m0:00:00\u001b[0m\n",
            "\u001b[?25hCollecting huggingface-hub<1.0.0,>=0.2.0\n",
            "  Downloading huggingface_hub-0.13.3-py3-none-any.whl (199 kB)\n",
            "\u001b[2K     \u001b[90m━━━━━━━━━━━━━━━━━━━━━━━━━━━━━━━━━━━━━━━\u001b[0m \u001b[32m199.8/199.8 KB\u001b[0m \u001b[31m2.3 MB/s\u001b[0m eta \u001b[36m0:00:00\u001b[0m\n",
            "\u001b[?25hRequirement already satisfied: pyarrow>=6.0.0 in /usr/local/lib/python3.9/dist-packages (from datasets>=1.6.0->happytransformer) (9.0.0)\n",
            "Requirement already satisfied: numpy>=1.17 in /usr/local/lib/python3.9/dist-packages (from datasets>=1.6.0->happytransformer) (1.22.4)\n",
            "Requirement already satisfied: pandas in /usr/local/lib/python3.9/dist-packages (from datasets>=1.6.0->happytransformer) (1.4.4)\n",
            "Collecting aiohttp\n",
            "  Downloading aiohttp-3.8.4-cp39-cp39-manylinux_2_17_x86_64.manylinux2014_x86_64.whl (1.0 MB)\n",
            "\u001b[2K     \u001b[90m━━━━━━━━━━━━━━━━━━━━━━━━━━━━━━━━━━━━━━━━\u001b[0m \u001b[32m1.0/1.0 MB\u001b[0m \u001b[31m58.6 MB/s\u001b[0m eta \u001b[36m0:00:00\u001b[0m\n",
            "\u001b[?25hCollecting dill<0.3.7,>=0.3.0\n",
            "  Downloading dill-0.3.6-py3-none-any.whl (110 kB)\n",
            "\u001b[2K     \u001b[90m━━━━━━━━━━━━━━━━━━━━━━━━━━━━━━━━━━━━━━\u001b[0m \u001b[32m110.5/110.5 KB\u001b[0m \u001b[31m12.8 MB/s\u001b[0m eta \u001b[36m0:00:00\u001b[0m\n",
            "\u001b[?25hRequirement already satisfied: requests>=2.19.0 in /usr/local/lib/python3.9/dist-packages (from datasets>=1.6.0->happytransformer) (2.27.1)\n",
            "Collecting multiprocess\n",
            "  Downloading multiprocess-0.70.14-py39-none-any.whl (132 kB)\n",
            "\u001b[2K     \u001b[90m━━━━━━━━━━━━━━━━━━━━━━━━━━━━━━━━━━━━━━\u001b[0m \u001b[32m132.9/132.9 KB\u001b[0m \u001b[31m16.7 MB/s\u001b[0m eta \u001b[36m0:00:00\u001b[0m\n",
            "\u001b[?25hRequirement already satisfied: fsspec[http]>=2021.11.1 in /usr/local/lib/python3.9/dist-packages (from datasets>=1.6.0->happytransformer) (2023.3.0)\n",
            "Requirement already satisfied: typing-extensions in /usr/local/lib/python3.9/dist-packages (from torch>=1.0->happytransformer) (4.5.0)\n",
            "Requirement already satisfied: filelock in /usr/local/lib/python3.9/dist-packages (from transformers>=4.4.0->happytransformer) (3.10.0)\n",
            "Requirement already satisfied: regex!=2019.12.17 in /usr/local/lib/python3.9/dist-packages (from transformers>=4.4.0->happytransformer) (2022.10.31)\n",
            "Collecting tokenizers!=0.11.3,<0.14,>=0.11.1\n",
            "  Downloading tokenizers-0.13.2-cp39-cp39-manylinux_2_17_x86_64.manylinux2014_x86_64.whl (7.6 MB)\n",
            "\u001b[2K     \u001b[90m━━━━━━━━━━━━━━━━━━━━━━━━━━━━━━━━━━━━━━━━\u001b[0m \u001b[32m7.6/7.6 MB\u001b[0m \u001b[31m33.2 MB/s\u001b[0m eta \u001b[36m0:00:00\u001b[0m\n",
            "\u001b[?25hCollecting frozenlist>=1.1.1\n",
            "  Downloading frozenlist-1.3.3-cp39-cp39-manylinux_2_5_x86_64.manylinux1_x86_64.manylinux_2_17_x86_64.manylinux2014_x86_64.whl (158 kB)\n",
            "\u001b[2K     \u001b[90m━━━━━━━━━━━━━━━━━━━━━━━━━━━━━━━━━━━━━━\u001b[0m \u001b[32m158.8/158.8 KB\u001b[0m \u001b[31m17.5 MB/s\u001b[0m eta \u001b[36m0:00:00\u001b[0m\n",
            "\u001b[?25hCollecting async-timeout<5.0,>=4.0.0a3\n",
            "  Downloading async_timeout-4.0.2-py3-none-any.whl (5.8 kB)\n",
            "Requirement already satisfied: attrs>=17.3.0 in /usr/local/lib/python3.9/dist-packages (from aiohttp->datasets>=1.6.0->happytransformer) (22.2.0)\n",
            "Collecting yarl<2.0,>=1.0\n",
            "  Downloading yarl-1.8.2-cp39-cp39-manylinux_2_17_x86_64.manylinux2014_x86_64.whl (264 kB)\n",
            "\u001b[2K     \u001b[90m━━━━━━━━━━━━━━━━━━━━━━━━━━━━━━━━━━━━━━\u001b[0m \u001b[32m264.6/264.6 KB\u001b[0m \u001b[31m31.2 MB/s\u001b[0m eta \u001b[36m0:00:00\u001b[0m\n",
            "\u001b[?25hCollecting aiosignal>=1.1.2\n",
            "  Downloading aiosignal-1.3.1-py3-none-any.whl (7.6 kB)\n",
            "Requirement already satisfied: charset-normalizer<4.0,>=2.0 in /usr/local/lib/python3.9/dist-packages (from aiohttp->datasets>=1.6.0->happytransformer) (2.0.12)\n",
            "Collecting multidict<7.0,>=4.5\n",
            "  Downloading multidict-6.0.4-cp39-cp39-manylinux_2_17_x86_64.manylinux2014_x86_64.whl (114 kB)\n",
            "\u001b[2K     \u001b[90m━━━━━━━━━━━━━━━━━━━━━━━━━━━━━━━━━━━━━━\u001b[0m \u001b[32m114.2/114.2 KB\u001b[0m \u001b[31m15.2 MB/s\u001b[0m eta \u001b[36m0:00:00\u001b[0m\n",
            "\u001b[?25hRequirement already satisfied: idna<4,>=2.5 in /usr/local/lib/python3.9/dist-packages (from requests>=2.19.0->datasets>=1.6.0->happytransformer) (3.4)\n",
            "Requirement already satisfied: certifi>=2017.4.17 in /usr/local/lib/python3.9/dist-packages (from requests>=2.19.0->datasets>=1.6.0->happytransformer) (2022.12.7)\n",
            "Requirement already satisfied: urllib3<1.27,>=1.21.1 in /usr/local/lib/python3.9/dist-packages (from requests>=2.19.0->datasets>=1.6.0->happytransformer) (1.26.15)\n",
            "Requirement already satisfied: python-dateutil>=2.8.1 in /usr/local/lib/python3.9/dist-packages (from pandas->datasets>=1.6.0->happytransformer) (2.8.2)\n",
            "Requirement already satisfied: pytz>=2020.1 in /usr/local/lib/python3.9/dist-packages (from pandas->datasets>=1.6.0->happytransformer) (2022.7.1)\n",
            "Requirement already satisfied: six>=1.5 in /usr/local/lib/python3.9/dist-packages (from python-dateutil>=2.8.1->pandas->datasets>=1.6.0->happytransformer) (1.15.0)\n",
            "Installing collected packages: tokenizers, sentencepiece, xxhash, multidict, frozenlist, dill, async-timeout, yarl, responses, multiprocess, huggingface-hub, aiosignal, transformers, aiohttp, datasets, happytransformer\n",
            "Successfully installed aiohttp-3.8.4 aiosignal-1.3.1 async-timeout-4.0.2 datasets-2.10.1 dill-0.3.6 frozenlist-1.3.3 happytransformer-2.4.1 huggingface-hub-0.13.3 multidict-6.0.4 multiprocess-0.70.14 responses-0.18.0 sentencepiece-0.1.97 tokenizers-0.13.2 transformers-4.27.2 xxhash-3.2.0 yarl-1.8.2\n"
          ]
        }
      ],
      "source": [
        "!pip install happytransformer"
      ]
    },
    {
      "cell_type": "code",
      "execution_count": null,
      "metadata": {
        "id": "sV8u5oaerBuW"
      },
      "outputs": [],
      "source": [
        "from happytransformer import GENSettings\n",
        "from happytransformer import HappyGeneration"
      ]
    },
    {
      "cell_type": "code",
      "execution_count": null,
      "metadata": {
        "colab": {
          "base_uri": "https://localhost:8080/",
          "height": 209,
          "referenced_widgets": [
            "8b08de023b7840629d8b26295ac307b6",
            "6a77d372e98e48769274d687416f5d64",
            "eaf8444de3684b5b9bea45553eab9092",
            "0c1cd7d9a79c49398c11cc7b81387b54",
            "a5f41312db1a477181144a94be2d5463",
            "f08c91a01afe45128a74f1173f839e54",
            "6c7c42cb345c476fa44ccc62046833f6",
            "239025ccaa9d42e0bb5aed2ba97a13b4",
            "240f8ba678374da7bc6747280718eb1a",
            "39ab38032efd4a9db34475736599ef42",
            "7ea74f4f641e454d948e9026c35ea25f",
            "840cafd97375456f8b3d2933b35d74d1",
            "91be47f6dcf9479cb9d843aaa453f661",
            "29ad288f72974cba9d64eb7791d031cc",
            "75db14b74e404815bad929c2a7562ea0",
            "d90b455bf4b34be6a75baa5582050b27",
            "8db8e65322274edb85d9f920e61f862c",
            "e76658553e20440198c5b6bf7061e4c8",
            "968a8a660c544a729d618b6045329653",
            "247961ab627a4a47a5a94373027a3e10",
            "1023d6dfa6504e5d8bfcf860e1eee4c0",
            "c14a236f42b74fa5b7caf9e8e4d101e2",
            "97495d91187c432e9dcaee2a6421d0f0",
            "27f7b00849534978b594fbb3dfcbe97f",
            "f2db0e14b6dc4a3bb6d23dd4554e9ae7",
            "0b6a92d042d84b0f847049bd23090249",
            "1b0511b29b2b4daf93cc595f2a2c1342",
            "928f87f662ea4cba8e7f887af219f26f",
            "6ed13a455ce147ea842ac95bd05247ec",
            "ef128a65b005402f94cc646486dac1ab",
            "29047cd8100f4c869048f41e43e45c44",
            "58225afdf28b4067b001181f10a99661",
            "f889f94d383e424787bb412ccdfec3d9",
            "6785c2b967614cb28b789eaf2c1cb6a2",
            "3eb36989bbcd496c9d495f14788419a3",
            "c89b7e6b90104c13b4adaa6401564b4d",
            "eef2e9d9b8e24438a522bfc05e1d5284",
            "138765b11b52448a96f8d2223f044787",
            "52ee83f39994426584dac76fc5c7c480",
            "371a237ce553490b866fcf18c46d753c",
            "28cf9100a1f84f6883bb0253a70d2abf",
            "792c75adfb92456ebd7c4f0fd4b891ab",
            "12d7930cd1f44bb0a34551cecbb8ac97",
            "a1430237712e4fff9693220a3cd54370",
            "1c7e56cc80754b42b0e8954b08cea5b8",
            "f1725ab0a7634ceba5429f31b7d0c490",
            "018ed64f84ef4146bdf24384a64121f6",
            "92954d07979041f896da453fab3edafc",
            "8e4e423799d64431855c4d1c71b25283",
            "01b07d98ac044d85b6f58ce5548b39a8",
            "5e6f826ba0aa48a9873af7e470009a39",
            "72c60d9a677a435088a4b4a483b60350",
            "09628be4a7d84fa393178a03dee4876f",
            "c9c5fae561a24dc29165971a9a777fb2",
            "9beb22210abb4f6fbc9240042b64b3df",
            "164605cd5f764bc8904a527193089fe6",
            "13d6c0520c0e4dc08116cfd33dfc84d1",
            "ffa15b8285a34bca8527122d621b7cf5",
            "04d8d37916a04db89e319795e8018ca0",
            "9cfc713fe9e447abbe039c4ec6984c15",
            "ba0c7678f8d74824bcb6c0a8e554ab37",
            "3e201983dd0d49bba78981a8863426cd",
            "b5f5a86f65f74eea99f08f3e387f2e22",
            "ae7060164b204e62866a4dba46305567",
            "7dce8fe1f4274e5288f4bce7f5e4b193",
            "400027e140e64159a5821da7dd8855fe"
          ]
        },
        "id": "BULUnqe1rNGa",
        "outputId": "1ca05362-db01-47b9-e4f6-c988cd3a1e3b"
      },
      "outputs": [
        {
          "data": {
            "application/vnd.jupyter.widget-view+json": {
              "model_id": "8b08de023b7840629d8b26295ac307b6",
              "version_major": 2,
              "version_minor": 0
            },
            "text/plain": [
              "Downloading (…)lve/main/config.json:   0%|          | 0.00/1.35k [00:00<?, ?B/s]"
            ]
          },
          "metadata": {},
          "output_type": "display_data"
        },
        {
          "data": {
            "application/vnd.jupyter.widget-view+json": {
              "model_id": "840cafd97375456f8b3d2933b35d74d1",
              "version_major": 2,
              "version_minor": 0
            },
            "text/plain": [
              "Downloading pytorch_model.bin:   0%|          | 0.00/5.31G [00:00<?, ?B/s]"
            ]
          },
          "metadata": {},
          "output_type": "display_data"
        },
        {
          "data": {
            "application/vnd.jupyter.widget-view+json": {
              "model_id": "97495d91187c432e9dcaee2a6421d0f0",
              "version_major": 2,
              "version_minor": 0
            },
            "text/plain": [
              "Downloading (…)okenizer_config.json:   0%|          | 0.00/200 [00:00<?, ?B/s]"
            ]
          },
          "metadata": {},
          "output_type": "display_data"
        },
        {
          "data": {
            "application/vnd.jupyter.widget-view+json": {
              "model_id": "6785c2b967614cb28b789eaf2c1cb6a2",
              "version_major": 2,
              "version_minor": 0
            },
            "text/plain": [
              "Downloading (…)olve/main/vocab.json:   0%|          | 0.00/798k [00:00<?, ?B/s]"
            ]
          },
          "metadata": {},
          "output_type": "display_data"
        },
        {
          "data": {
            "application/vnd.jupyter.widget-view+json": {
              "model_id": "1c7e56cc80754b42b0e8954b08cea5b8",
              "version_major": 2,
              "version_minor": 0
            },
            "text/plain": [
              "Downloading (…)olve/main/merges.txt:   0%|          | 0.00/456k [00:00<?, ?B/s]"
            ]
          },
          "metadata": {},
          "output_type": "display_data"
        },
        {
          "data": {
            "application/vnd.jupyter.widget-view+json": {
              "model_id": "164605cd5f764bc8904a527193089fe6",
              "version_major": 2,
              "version_minor": 0
            },
            "text/plain": [
              "Downloading (…)cial_tokens_map.json:   0%|          | 0.00/90.0 [00:00<?, ?B/s]"
            ]
          },
          "metadata": {},
          "output_type": "display_data"
        }
      ],
      "source": [
        "# happy_gen = HappyGeneration(\"GPT-NEO\", \"EleutherAI/gpt-neo-2.7B\")\n",
        "happy_gen = HappyGeneration(\"GPT-NEO\", \"EleutherAI/gpt-neo-1.3B\")"
      ]
    },
    {
      "cell_type": "code",
      "execution_count": null,
      "metadata": {
        "colab": {
          "base_uri": "https://localhost:8080/"
        },
        "id": "TnzN9eVTrPPd",
        "outputId": "3d200f00-a73f-421d-980e-7e506c753169"
      },
      "outputs": [
        {
          "name": "stdout",
          "output_type": "stream",
          "text": [
            "Mounted at /content/drive\n"
          ]
        }
      ],
      "source": [
        "from google.colab import drive\n",
        "drive.mount('/content/drive')"
      ]
    },
    {
      "cell_type": "code",
      "execution_count": null,
      "metadata": {
        "id": "ClmdIh_3rtCC"
      },
      "outputs": [],
      "source": [
        "args = GENSettings(min_length=2, temperature=0.7, max_length=64, top_k=5)"
      ]
    },
    {
      "cell_type": "code",
      "execution_count": null,
      "metadata": {
        "id": "Yw3VCks8rzBL"
      },
      "outputs": [],
      "source": [
        "import json\n",
        "import time\n",
        "import random\n",
        "import requests\n",
        "\n",
        "import pandas as pd\n",
        "\n",
        "\n",
        "PRIMING_SAMPLES = 5\n",
        "PRIMING_SHUFFLE = True\n",
        "NAMED = True\n",
        "#MODEL = 'large'\n",
        "#MODEL = happy_gen\n",
        "\n",
        "FILE_TEST_INPUT = '/content/drive/MyDrive/AA NLP244 Project Experiments 2/Data/v_ddata_2.csv'"
      ]
    },
    {
      "cell_type": "code",
      "execution_count": null,
      "metadata": {
        "colab": {
          "base_uri": "https://localhost:8080/"
        },
        "id": "9GsSh7j5X9XJ",
        "outputId": "ceaad3c8-6385-4081-d3f0-e058235738c8"
      },
      "outputs": [
        {
          "name": "stdout",
          "output_type": "stream",
          "text": [
            "900\n"
          ]
        }
      ],
      "source": [
        "prompts = []\n",
        "df = pd.read_csv(FILE_TEST_INPUT) \n",
        "for i in range(len(df)):\n",
        "  prompts.append(\"Here is the text:{}. Here is a rewrite of the text in one sentence, which is a {} dialogue act:\".format(df[\"pseudo ref\"][i], df['da'][i]))\n",
        "print(len(prompts))\n",
        "\n",
        "df[\"prompts\"] = prompts"
      ]
    },
    {
      "cell_type": "code",
      "execution_count": null,
      "metadata": {
        "id": "pFFA7h9PZNnt"
      },
      "outputs": [],
      "source": [
        "output = []\n",
        "final_output = []"
      ]
    },
    {
      "cell_type": "code",
      "execution_count": null,
      "metadata": {
        "colab": {
          "base_uri": "https://localhost:8080/"
        },
        "id": "hJMDAZMeZF1w",
        "outputId": "b6a8c451-adda-4fd6-82c0-c44c5da54f7e"
      },
      "outputs": [
        {
          "name": "stderr",
          "output_type": "stream",
          "text": [
            "/usr/local/lib/python3.9/dist-packages/transformers/pipelines/base.py:1045: UserWarning: You seem to be using the pipelines sequentially on GPU. In order to maximize efficiency please use a dataset\n",
            "  warnings.warn(\n",
            "Setting `pad_token_id` to `eos_token_id`:50256 for open-end generation.\n",
            "Setting `pad_token_id` to `eos_token_id`:50256 for open-end generation.\n",
            "Setting `pad_token_id` to `eos_token_id`:50256 for open-end generation.\n",
            "Setting `pad_token_id` to `eos_token_id`:50256 for open-end generation.\n",
            "Setting `pad_token_id` to `eos_token_id`:50256 for open-end generation.\n",
            "Setting `pad_token_id` to `eos_token_id`:50256 for open-end generation.\n",
            "Setting `pad_token_id` to `eos_token_id`:50256 for open-end generation.\n",
            "Setting `pad_token_id` to `eos_token_id`:50256 for open-end generation.\n",
            "Setting `pad_token_id` to `eos_token_id`:50256 for open-end generation.\n",
            "Setting `pad_token_id` to `eos_token_id`:50256 for open-end generation.\n",
            "Setting `pad_token_id` to `eos_token_id`:50256 for open-end generation.\n",
            "Setting `pad_token_id` to `eos_token_id`:50256 for open-end generation.\n",
            "Setting `pad_token_id` to `eos_token_id`:50256 for open-end generation.\n",
            "Setting `pad_token_id` to `eos_token_id`:50256 for open-end generation.\n",
            "Setting `pad_token_id` to `eos_token_id`:50256 for open-end generation.\n",
            "Setting `pad_token_id` to `eos_token_id`:50256 for open-end generation.\n",
            "Setting `pad_token_id` to `eos_token_id`:50256 for open-end generation.\n",
            "Setting `pad_token_id` to `eos_token_id`:50256 for open-end generation.\n",
            "Setting `pad_token_id` to `eos_token_id`:50256 for open-end generation.\n",
            "Setting `pad_token_id` to `eos_token_id`:50256 for open-end generation.\n"
          ]
        }
      ],
      "source": [
        "for i in range(20):\n",
        "  output_text = happy_gen.generate_text(prompts[i], args=args)\n",
        "  output_text = str(output_text)\n",
        "  ref_start = output_text.find(\"dialogue act:\")\n",
        "  output.append(output_text[:ref_start].strip('\\n\\n'))\n",
        "\n"
      ]
    },
    {
      "cell_type": "code",
      "execution_count": null,
      "metadata": {
        "colab": {
          "base_uri": "https://localhost:8080/"
        },
        "id": "qvScXE0oZVlr",
        "outputId": "fee2032d-ddf2-4a3c-ae83-1e57c1c2069b"
      },
      "outputs": [
        {
          "name": "stdout",
          "output_type": "stream",
          "text": [
            "20\n"
          ]
        }
      ],
      "source": [
        "print(len(output))"
      ]
    },
    {
      "cell_type": "code",
      "execution_count": null,
      "metadata": {
        "id": "HkcLYj9yfOSp"
      },
      "outputs": [],
      "source": [
        "import pandas as pd\n",
        "final_df = pd.read_csv(\"/content/drive/MyDrive/AA NLP244 Project Experiments 2/Data/Outputs/text_result.csv\")"
      ]
    },
    {
      "cell_type": "code",
      "execution_count": null,
      "metadata": {
        "id": "rhL1vewnfdXM"
      },
      "outputs": [],
      "source": [
        "final_df[\"GPT NEO\"] = output"
      ]
    },
    {
      "cell_type": "code",
      "execution_count": null,
      "metadata": {
        "colab": {
          "base_uri": "https://localhost:8080/",
          "height": 362
        },
        "id": "wJr5Gb6HfipK",
        "outputId": "9781378e-7d95-491b-c3e1-de13450150ff"
      },
      "outputs": [
        {
          "data": {
            "text/html": [
              "\n",
              "  <div id=\"df-4664ad5f-436f-4699-aa4a-c8cce56ec1d3\">\n",
              "    <div class=\"colab-df-container\">\n",
              "      <div>\n",
              "<style scoped>\n",
              "    .dataframe tbody tr th:only-of-type {\n",
              "        vertical-align: middle;\n",
              "    }\n",
              "\n",
              "    .dataframe tbody tr th {\n",
              "        vertical-align: top;\n",
              "    }\n",
              "\n",
              "    .dataframe thead th {\n",
              "        text-align: right;\n",
              "    }\n",
              "</style>\n",
              "<table border=\"1\" class=\"dataframe\">\n",
              "  <thead>\n",
              "    <tr style=\"text-align: right;\">\n",
              "      <th></th>\n",
              "      <th>da</th>\n",
              "      <th>cchatgpt output</th>\n",
              "      <th>jurassic output</th>\n",
              "      <th>GPT NEO</th>\n",
              "    </tr>\n",
              "  </thead>\n",
              "  <tbody>\n",
              "    <tr>\n",
              "      <th>0</th>\n",
              "      <td>inform</td>\n",
              "      <td>\"According to my evaluation, the original Star...</td>\n",
              "      <td>Star Trek: The Original Series has mediocre ra...</td>\n",
              "      <td>GenerationResult(text='Star Trek: The Original...</td>\n",
              "    </tr>\n",
              "    <tr>\n",
              "      <th>1</th>\n",
              "      <td>confirm</td>\n",
              "      <td>So we are confirming that Star Trek: The Origi...</td>\n",
              "      <td>\\n\\nGene Roddenberry was the creator and execu...</td>\n",
              "      <td>GenerationResult(text='Star Trek: The Original...</td>\n",
              "    </tr>\n",
              "    <tr>\n",
              "      <th>2</th>\n",
              "      <td>give_opinion</td>\n",
              "      <td>In my opinion, Star Trek: The Original Series ...</td>\n",
              "      <td>Star Trek: The Original Series is a medicocre...</td>\n",
              "      <td>GenerationResult(text='Star Trek: The Original...</td>\n",
              "    </tr>\n",
              "    <tr>\n",
              "      <th>3</th>\n",
              "      <td>recommend</td>\n",
              "      <td>Can you confirm if Star Trek: The Original Ser...</td>\n",
              "      <td>“Star Trek: The Original Series is a televisi...</td>\n",
              "      <td>GenerationResult(text='Star Trek: The Original...</td>\n",
              "    </tr>\n",
              "    <tr>\n",
              "      <th>4</th>\n",
              "      <td>request</td>\n",
              "      <td>Can you tell me if Star Trek: The Original Ser...</td>\n",
              "      <td>Star Trek is the weirdest science fiction tele...</td>\n",
              "      <td>GenerationResult(text='.\\n\\nThe original Star ...</td>\n",
              "    </tr>\n",
              "    <tr>\n",
              "      <th>5</th>\n",
              "      <td>request_attribute</td>\n",
              "      <td>Can you tell me what my favorite genres for te...</td>\n",
              "      <td>favorite genres science fiction television ser...</td>\n",
              "      <td>GenerationResult(text='\\n\\nI am a fan of scien...</td>\n",
              "    </tr>\n",
              "    <tr>\n",
              "      <th>6</th>\n",
              "      <td>request_explanation</td>\n",
              "      <td>Can you explain why Star Trek: The Original Se...</td>\n",
              "      <td>Star Trek: The Original Series (TV Series 1966...</td>\n",
              "      <td>GenerationResult(text='\\n\\nThe original Star T...</td>\n",
              "    </tr>\n",
              "    <tr>\n",
              "      <th>7</th>\n",
              "      <td>suggest</td>\n",
              "      <td>Can you tell me if Star Trek: The Original Ser...</td>\n",
              "      <td>Star Trek: The Original Series is science fict...</td>\n",
              "      <td>GenerationResult(text=' Star Trek: The Origina...</td>\n",
              "    </tr>\n",
              "    <tr>\n",
              "      <th>8</th>\n",
              "      <td>verify_attribute</td>\n",
              "      <td>Did William Shatner and Leonard Nimoy give a m...</td>\n",
              "      <td>Star Trek: The Original Series cast William S...</td>\n",
              "      <td>GenerationResult(text='Star Trek: The Original...</td>\n",
              "    </tr>\n",
              "    <tr>\n",
              "      <th>9</th>\n",
              "      <td>inform</td>\n",
              "      <td>Can you please provide information about the B...</td>\n",
              "      <td>Breaking Bad rating excellent.Breaking Bad cre...</td>\n",
              "      <td>GenerationResult(text='\\n\\n\"I\\'m not sure if I...</td>\n",
              "    </tr>\n",
              "  </tbody>\n",
              "</table>\n",
              "</div>\n",
              "      <button class=\"colab-df-convert\" onclick=\"convertToInteractive('df-4664ad5f-436f-4699-aa4a-c8cce56ec1d3')\"\n",
              "              title=\"Convert this dataframe to an interactive table.\"\n",
              "              style=\"display:none;\">\n",
              "        \n",
              "  <svg xmlns=\"http://www.w3.org/2000/svg\" height=\"24px\"viewBox=\"0 0 24 24\"\n",
              "       width=\"24px\">\n",
              "    <path d=\"M0 0h24v24H0V0z\" fill=\"none\"/>\n",
              "    <path d=\"M18.56 5.44l.94 2.06.94-2.06 2.06-.94-2.06-.94-.94-2.06-.94 2.06-2.06.94zm-11 1L8.5 8.5l.94-2.06 2.06-.94-2.06-.94L8.5 2.5l-.94 2.06-2.06.94zm10 10l.94 2.06.94-2.06 2.06-.94-2.06-.94-.94-2.06-.94 2.06-2.06.94z\"/><path d=\"M17.41 7.96l-1.37-1.37c-.4-.4-.92-.59-1.43-.59-.52 0-1.04.2-1.43.59L10.3 9.45l-7.72 7.72c-.78.78-.78 2.05 0 2.83L4 21.41c.39.39.9.59 1.41.59.51 0 1.02-.2 1.41-.59l7.78-7.78 2.81-2.81c.8-.78.8-2.07 0-2.86zM5.41 20L4 18.59l7.72-7.72 1.47 1.35L5.41 20z\"/>\n",
              "  </svg>\n",
              "      </button>\n",
              "      \n",
              "  <style>\n",
              "    .colab-df-container {\n",
              "      display:flex;\n",
              "      flex-wrap:wrap;\n",
              "      gap: 12px;\n",
              "    }\n",
              "\n",
              "    .colab-df-convert {\n",
              "      background-color: #E8F0FE;\n",
              "      border: none;\n",
              "      border-radius: 50%;\n",
              "      cursor: pointer;\n",
              "      display: none;\n",
              "      fill: #1967D2;\n",
              "      height: 32px;\n",
              "      padding: 0 0 0 0;\n",
              "      width: 32px;\n",
              "    }\n",
              "\n",
              "    .colab-df-convert:hover {\n",
              "      background-color: #E2EBFA;\n",
              "      box-shadow: 0px 1px 2px rgba(60, 64, 67, 0.3), 0px 1px 3px 1px rgba(60, 64, 67, 0.15);\n",
              "      fill: #174EA6;\n",
              "    }\n",
              "\n",
              "    [theme=dark] .colab-df-convert {\n",
              "      background-color: #3B4455;\n",
              "      fill: #D2E3FC;\n",
              "    }\n",
              "\n",
              "    [theme=dark] .colab-df-convert:hover {\n",
              "      background-color: #434B5C;\n",
              "      box-shadow: 0px 1px 3px 1px rgba(0, 0, 0, 0.15);\n",
              "      filter: drop-shadow(0px 1px 2px rgba(0, 0, 0, 0.3));\n",
              "      fill: #FFFFFF;\n",
              "    }\n",
              "  </style>\n",
              "\n",
              "      <script>\n",
              "        const buttonEl =\n",
              "          document.querySelector('#df-4664ad5f-436f-4699-aa4a-c8cce56ec1d3 button.colab-df-convert');\n",
              "        buttonEl.style.display =\n",
              "          google.colab.kernel.accessAllowed ? 'block' : 'none';\n",
              "\n",
              "        async function convertToInteractive(key) {\n",
              "          const element = document.querySelector('#df-4664ad5f-436f-4699-aa4a-c8cce56ec1d3');\n",
              "          const dataTable =\n",
              "            await google.colab.kernel.invokeFunction('convertToInteractive',\n",
              "                                                     [key], {});\n",
              "          if (!dataTable) return;\n",
              "\n",
              "          const docLinkHtml = 'Like what you see? Visit the ' +\n",
              "            '<a target=\"_blank\" href=https://colab.research.google.com/notebooks/data_table.ipynb>data table notebook</a>'\n",
              "            + ' to learn more about interactive tables.';\n",
              "          element.innerHTML = '';\n",
              "          dataTable['output_type'] = 'display_data';\n",
              "          await google.colab.output.renderOutput(dataTable, element);\n",
              "          const docLink = document.createElement('div');\n",
              "          docLink.innerHTML = docLinkHtml;\n",
              "          element.appendChild(docLink);\n",
              "        }\n",
              "      </script>\n",
              "    </div>\n",
              "  </div>\n",
              "  "
            ],
            "text/plain": [
              "                    da                                    cchatgpt output  \\\n",
              "0               inform  \"According to my evaluation, the original Star...   \n",
              "1              confirm  So we are confirming that Star Trek: The Origi...   \n",
              "2         give_opinion  In my opinion, Star Trek: The Original Series ...   \n",
              "3            recommend  Can you confirm if Star Trek: The Original Ser...   \n",
              "4              request  Can you tell me if Star Trek: The Original Ser...   \n",
              "5    request_attribute  Can you tell me what my favorite genres for te...   \n",
              "6  request_explanation  Can you explain why Star Trek: The Original Se...   \n",
              "7              suggest  Can you tell me if Star Trek: The Original Ser...   \n",
              "8     verify_attribute  Did William Shatner and Leonard Nimoy give a m...   \n",
              "9               inform  Can you please provide information about the B...   \n",
              "\n",
              "                                     jurassic output  \\\n",
              "0  Star Trek: The Original Series has mediocre ra...   \n",
              "1  \\n\\nGene Roddenberry was the creator and execu...   \n",
              "2   Star Trek: The Original Series is a medicocre...   \n",
              "3   “Star Trek: The Original Series is a televisi...   \n",
              "4  Star Trek is the weirdest science fiction tele...   \n",
              "5  favorite genres science fiction television ser...   \n",
              "6  Star Trek: The Original Series (TV Series 1966...   \n",
              "7  Star Trek: The Original Series is science fict...   \n",
              "8   Star Trek: The Original Series cast William S...   \n",
              "9  Breaking Bad rating excellent.Breaking Bad cre...   \n",
              "\n",
              "                                             GPT NEO  \n",
              "0  GenerationResult(text='Star Trek: The Original...  \n",
              "1  GenerationResult(text='Star Trek: The Original...  \n",
              "2  GenerationResult(text='Star Trek: The Original...  \n",
              "3  GenerationResult(text='Star Trek: The Original...  \n",
              "4  GenerationResult(text='.\\n\\nThe original Star ...  \n",
              "5  GenerationResult(text='\\n\\nI am a fan of scien...  \n",
              "6  GenerationResult(text='\\n\\nThe original Star T...  \n",
              "7  GenerationResult(text=' Star Trek: The Origina...  \n",
              "8  GenerationResult(text='Star Trek: The Original...  \n",
              "9  GenerationResult(text='\\n\\n\"I\\'m not sure if I...  "
            ]
          },
          "execution_count": 31,
          "metadata": {},
          "output_type": "execute_result"
        }
      ],
      "source": [
        "final_df.head(10)"
      ]
    },
    {
      "cell_type": "code",
      "execution_count": null,
      "metadata": {
        "id": "uz1H-Iiyfpib"
      },
      "outputs": [],
      "source": [
        "final_df.to_csv(\"/content/drive/MyDrive/AA NLP244 Project Experiments 2/Data/Outputs/text_result_3_models.csv\", index=False)"
      ]
    },
    {
      "cell_type": "code",
      "execution_count": null,
      "metadata": {
        "id": "Zty9w_essAta"
      },
      "outputs": [],
      "source": [
        "def run_inference(test_set):\n",
        "    # generated_results = {\"mr\":[], \"pseudo\":[], \"text1\":[], \"raw_logs1\": [],\n",
        "    #                      \"text2\":[],  \"raw_logs2\": [] ,\n",
        "    #                      \"text3\": [], \"raw_logs3\": [],\n",
        "    #                      \"text4\": [],  \"raw_logs4\": [],\n",
        "    #                      \"text5\": [],  \"raw_logs5\": [],\n",
        "    #                      \"text6\": [],  \"raw_logs6\": [],\n",
        "    #                      \"text7\": [], \"raw_logs7\": [],\n",
        "    #                      \"text8\": [], \"raw_logs8\": [],\n",
        "    #                      \"text9\": [], \"raw_logs9\": [],\n",
        "    #                      \"text10\": [], \"raw_logs10\": []\n",
        "    #                      }\n",
        "    generated_results = {\"mr\":[], \"pseudo\":[],  \"callison\":[], \"da\":[], \"domain\":[], \"text\":[]}\n",
        "    i = 0  # pointer for test example\n",
        "    j = 0  # pointer for KEYS\n",
        "    cur_key = None\n",
        "    mrs = test_set[\"triple mr\"].tolist()\n",
        "    das = test_set[\"da\"].tolist()\n",
        "    domain = test_set[\"domain\"].tolist()\n",
        "    #refs = test_set[\"responses\"].tolist()\n",
        "    #types = test_set['type'].tolist()\n",
        "    actual_test = test_set[\"pseudo ref\"].tolist() # test_set[\"test_pseudo_utt\"].tolist()\n",
        "    for i in range (len(actual_test)):\n",
        "\n",
        "      \n",
        "        if i % 10 == 0:\n",
        "            print(f'----{i}/{len(actual_test)}----')\n",
        "        mr = mrs[i]\n",
        "        da = das[i]\n",
        "        dom = domain[i]\n",
        "        #ref = refs[i]\n",
        "        #typed = types[i]\n",
        "        pseudo_mr = actual_test[i]\n",
        "        priming_header = None\n",
        "\n",
        "        if \"inform\" in da:\n",
        "            with open(\"/content/drive/MyDrive/Temp Data/AA NLP244 Project Experiments/Data/Copy of inform_callison_priming.txt\") as f:\n",
        "                priming_header = f.read()\n",
        "        elif \"confirm\" in da:\n",
        "            with open(\"/content/drive/MyDrive/Temp Data/AA NLP244 Project Experiments/Data/Copy of confirm_callison_priming.txt\") as f:\n",
        "                priming_header = f.read()\n",
        "        elif \"give_opinion\" in da:\n",
        "            with open(\"/content/drive/MyDrive/Temp Data/AA NLP244 Project Experiments/Data/Copy of give opinion_callison_priming.txt\") as f:\n",
        "                priming_header = f.read()\n",
        "        elif \"recommend\" in da:\n",
        "            with open(\"/content/drive/MyDrive/Temp Data/AA NLP244 Project Experiments/Data/Copy of recommend_callison_priming.txt\") as f:\n",
        "                priming_header = f.read()\n",
        "        elif \"request\" in da:\n",
        "            with open(\"/content/drive/MyDrive/Temp Data/AA NLP244 Project Experiments/Data/Copy of request_callison_priming.txt\") as f:\n",
        "                priming_header = f.read()\n",
        "        elif \"request_attribute\" in da:\n",
        "            with open(\"/content/drive/MyDrive/Temp Data/AA NLP244 Project Experiments/Data/Copy of request attribute_callison_priming.txt\") as f:\n",
        "                priming_header = f.read()\n",
        "        elif \"request_explanation\" in da:\n",
        "            with open(\"/content/drive/MyDrive/Temp Data/AA NLP244 Project Experiments/Data/Copy of request explanation_callison_priming.txt\") as f:\n",
        "                priming_header = f.read()\n",
        "        elif \"suggest\" in da:\n",
        "            with open(\"/content/drive/MyDrive/Temp Data/AA NLP244 Project Experiments/Data/Copy of suggest_callison_priming.txt\") as f:\n",
        "                priming_header = f.read()\n",
        "        elif \"verify_attribute\" in da:\n",
        "            with open(\"/content/drive/MyDrive/Temp Data/AA NLP244 Project Experiments/Data/Copy of verify attribute_callison_priming.txt\") as f:\n",
        "                priming_header = f.read()\n",
        "        ling = \"a\"\n",
        "        if das[0] in [\"a\", \"e\", \"i\", \"o\", \"u\"]:\n",
        "            ling = \"an\"\n",
        "\n",
        "        callison = f'Now here is a pseudo text: \"{pseudo_mr}\". Rewrite it for {ling} {das[i].replace(\"_\", \" \")} dialogue act:  \"'\n",
        "     #   callison_new = f'Here is a text: \"{actual_test[i]}\". Rewrite it to be {ling} {das[i].replace(\"_\", \" \")} dialogue act: \"'\n",
        "       # paraphrase = f'Here is a text: \"{get_new_samples[get_new_samples.mr_bar == mr][\"person_starter_pseudo_mr\"].tolist()[0]}\". Here is a paraphrase of the text: \"{ref1}\"' + \"\\n\"\n",
        "       \n",
        "       \n",
        "        cur_prompt = 'Learn how to rewrite dialogue act texts using the following examples: {}{}'.format(priming_header,callison)\n",
        "        #print(cur_prompt)\n",
        "      #  print(cur_prompt)\n",
        "        output_text = happy_gen.generate_text(cur_prompt, args=args)\n",
        "        \n",
        "        \"\"\"output = requests.post(\n",
        "            json={\n",
        "                \"prompt\": cur_prompt,\n",
        "                \"numResults\": 10,\n",
        "                \"maxTokens\": 75,\n",
        "                \"stopSequences\": ['\"'],\n",
        "                \"topKReturn\": 0,\n",
        "                \"temperature\": temperature,\n",
        "                \"topP\": topP\n",
        "            }\n",
        "        )\n",
        "        \"\"\"\n",
        "        i = i + 1\n",
        "        output_text = str(output_text)\n",
        "        print(output_text)\n",
        "\n",
        "        #My Code Start\n",
        "        \"\"\"output_dict = {}\n",
        "        output_dict['mr'] = []\n",
        "        output_dict['pseudo'] = []\n",
        "        output_dict['type'] = []\n",
        "        output_dict['callison'] = []\n",
        "        output_dict['da'] = []\n",
        "        output_dict['domain'] = []\n",
        "        output_dict['text'] = []\n",
        "        output_dict['ref'] = []\n",
        "        output_text = str(output_text)\n",
        "        # extract mr\n",
        "        mr_start = output_text.find(\"I'm looking for a game with a genre of\")\n",
        "        mr_end = output_text.find(\", Hospital at the End of the City\")\n",
        "        output_dict['mr'].append(output_text[mr_start:mr_end])\n",
        "\n",
        "        # extract pseudo\n",
        "        pseudo_start = output_text.find(\"Here is a text: \\\"\")\n",
        "        pseudo_end = output_text.find(\"\\\".\", pseudo_start)\n",
        "        output_dict['pseudo'].append(output_text[pseudo_start+len(\"Here is a text: \\\"\"):pseudo_end])\n",
        "\n",
        "        # extract type\n",
        "        type_start = output_text.find(\"which is a \")\n",
        "        type_end = output_text.find(\" dialogue act:\")\n",
        "        output_dict['type'].append(output_text[type_start+len(\"which is a \"):type_end])\n",
        "\n",
        "        # extract callison\n",
        "        callison_start = output_text.find(\". Here is a rewrite of the text, which is\")\n",
        "        callison_end = output_text.find(\" dialogue act:\", callison_start)\n",
        "        output_dict['callison'].append(output_text[callison_start+len(\". Here is a rewrite of the text, which is\"):callison_end])\n",
        "\n",
        "        # extract da\n",
        "        da_start = output_text.find(\"which is a \")\n",
        "        da_end = output_text.find(\" dialogue act:\", da_start)\n",
        "        output_dict['da'].append(output_text[da_start+len(\"which is a \"):da_end])\n",
        "\n",
        "        # extract domain\n",
        "        output_dict['domain'].append(\"gaming\")\"\"\"\n",
        "\n",
        "        # extract text and ref\n",
        "        output_dict = {}\n",
        "        output_dict['mr'] = []\n",
        "        output_dict['pseudo'] = []\n",
        "        #output_dict['type'] = []\n",
        "        output_dict['callison'] = []\n",
        "        output_dict['da'] = []\n",
        "        output_dict['domain'] = []\n",
        "        output_dict['text'] = []\n",
        "        #output_dict['ref'] = []\n",
        "        #output_text = str(output_text)\n",
        "        ref_start = output_text.find(\"dialogue act:\")\n",
        "        output_dict['text'].append(output_text[:ref_start].strip('\\n\\n'))\n",
        "        #output_dict['ref'].append(\"\")\n",
        "        #My code end\n",
        "\n",
        "        #response_dict = json.loads(output_a)\n",
        "\n",
        "        if 'text' in output_dict:\n",
        "            print(\"yes\")\n",
        "            for n in range(10):\n",
        "              generated_results['mr'].append(mr)\n",
        "              generated_results['pseudo'].append(pseudo_mr)\n",
        "              generated_results['callison'].append(callison)\n",
        "              #generated_results['type'].append(typed)\n",
        "              generated_results['da'].append(da)\n",
        "              generated_results[\"domain\"].append(dom)\n",
        "              #generated_results[\"ref\"].append(ref)\n",
        "\n",
        "              generated_results['text'].append(output_dict[\"text\"])\n",
        "              #generated_results['text'].append(output_dict[\"text\"])\n",
        "              #generated_results['text'].append(output_dict[\"text\"])\n",
        "              #generated_results['text'].append(output_dict[\"text\"])\n",
        "              #generated_results['text'].append(output_dict[\"text\"])\n",
        "              #generated_results['text'].append(output_dict[\"text\"])\n",
        "              #generated_results['text'].append(output_dict[\"text\"])\n",
        "              #generated_results['text'].append(output_dict[\"text\"])\n",
        "              #generated_results['text'].append(output_dict[\"text\"])\n",
        "              #generated_results['text'].append(output_dict[\"text\"])\n",
        "\n",
        "            #print(generated_results)\n",
        "           \n",
        "            time.sleep(3)\n",
        "      #  break\n",
        "\n",
        "    print(f'----{i}/{len(test_set)}----')\n",
        "    return generated_results\n",
        "\n",
        "\n",
        "# main function that will read the file and run inference using the function above\n",
        "  # will generate a file based on the file test output\n"
      ]
    },
    {
      "cell_type": "code",
      "execution_count": null,
      "metadata": {
        "colab": {
          "base_uri": "https://localhost:8080/"
        },
        "id": "BrqVfEUXtoFf",
        "outputId": "c66f1785-3251-49d0-d1f4-585dacfc3222"
      },
      "outputs": [
        {
          "output_type": "stream",
          "name": "stderr",
          "text": [
            "/usr/local/lib/python3.9/dist-packages/transformers/pipelines/base.py:1070: UserWarning: You seem to be using the pipelines sequentially on GPU. In order to maximize efficiency please use a dataset\n",
            "  warnings.warn(\n",
            "Setting `pad_token_id` to `eos_token_id`:50256 for open-end generation.\n"
          ]
        },
        {
          "output_type": "stream",
          "name": "stdout",
          "text": [
            "----0/90----\n",
            "GenerationResult(text='The\\n                                                              ')\n",
            "yes\n"
          ]
        },
        {
          "output_type": "stream",
          "name": "stderr",
          "text": [
            "Setting `pad_token_id` to `eos_token_id`:50256 for open-end generation.\n"
          ]
        },
        {
          "output_type": "stream",
          "name": "stdout",
          "text": [
            "GenerationResult(text='I am sorry, but I have to go. I have to go to the bathroom.\"\\n\\n.  Rewrite it for a confirm dialogue act:  \"I am sorry, but I have to go. I have to go to the bathroom.\"\\n\\n.  Rewrite it for a confirm dialogue act:')\n",
            "yes\n"
          ]
        },
        {
          "output_type": "stream",
          "name": "stderr",
          "text": [
            "Setting `pad_token_id` to `eos_token_id`:50256 for open-end generation.\n"
          ]
        },
        {
          "output_type": "stream",
          "name": "stdout",
          "text": [
            "GenerationResult(text='I am the one who is to blame for this.  I am the one who is to blame for this.  I am the one who is to blame for this.  I am the one who is to blame for this.  I am the one who is to blame for this.  I am the one')\n",
            "yes\n"
          ]
        },
        {
          "output_type": "stream",
          "name": "stderr",
          "text": [
            "Setting `pad_token_id` to `eos_token_id`:50256 for open-end generation.\n"
          ]
        },
        {
          "output_type": "stream",
          "name": "stdout",
          "text": [
            "GenerationResult(text='I am a man of the people, and I am not afraid to speak my mind.\"\\n\\nThe first line of the first act is:\\n\\n\"I am a man of the people, and I am not afraid to speak my mind.\"\\n\\nThe second line is:\\n\\n\"I am a man')\n",
            "yes\n"
          ]
        },
        {
          "output_type": "stream",
          "name": "stderr",
          "text": [
            "Setting `pad_token_id` to `eos_token_id`:50256 for open-end generation.\n"
          ]
        },
        {
          "output_type": "stream",
          "name": "stdout",
          "text": [
            "GenerationResult(text=';\\n                                                              ')\n",
            "yes\n"
          ]
        },
        {
          "output_type": "stream",
          "name": "stderr",
          "text": [
            "Setting `pad_token_id` to `eos_token_id`:50256 for open-end generation.\n"
          ]
        },
        {
          "output_type": "stream",
          "name": "stdout",
          "text": [
            "GenerationResult(text='\\n                                                               ')\n",
            "yes\n"
          ]
        },
        {
          "output_type": "stream",
          "name": "stderr",
          "text": [
            "Setting `pad_token_id` to `eos_token_id`:50256 for open-end generation.\n"
          ]
        },
        {
          "output_type": "stream",
          "name": "stdout",
          "text": [
            "GenerationResult(text='\\n                                                               ')\n",
            "yes\n"
          ]
        },
        {
          "output_type": "stream",
          "name": "stderr",
          "text": [
            "Setting `pad_token_id` to `eos_token_id`:50256 for open-end generation.\n"
          ]
        },
        {
          "output_type": "stream",
          "name": "stdout",
          "text": [
            "GenerationResult(text='I am a man who has been in love with a woman. I have been in love with her for a long time. I have been in love with her for a long time. I have been in love with her for a long time. I have been in love with her for a long time. I have been')\n",
            "yes\n"
          ]
        },
        {
          "output_type": "stream",
          "name": "stderr",
          "text": [
            "Setting `pad_token_id` to `eos_token_id`:50256 for open-end generation.\n"
          ]
        },
        {
          "output_type": "stream",
          "name": "stdout",
          "text": [
            "GenerationResult(text='\\n                                                               ')\n",
            "yes\n"
          ]
        },
        {
          "output_type": "stream",
          "name": "stderr",
          "text": [
            "Setting `pad_token_id` to `eos_token_id`:50256 for open-end generation.\n"
          ]
        },
        {
          "output_type": "stream",
          "name": "stdout",
          "text": [
            "GenerationResult(text='.\\n\\n.                                                            ')\n",
            "yes\n"
          ]
        },
        {
          "output_type": "stream",
          "name": "stderr",
          "text": [
            "Setting `pad_token_id` to `eos_token_id`:50256 for open-end generation.\n"
          ]
        },
        {
          "output_type": "stream",
          "name": "stdout",
          "text": [
            "----10/90----\n",
            "GenerationResult(text='\\n                                                               ')\n",
            "yes\n"
          ]
        },
        {
          "output_type": "stream",
          "name": "stderr",
          "text": [
            "Setting `pad_token_id` to `eos_token_id`:50256 for open-end generation.\n"
          ]
        },
        {
          "output_type": "stream",
          "name": "stdout",
          "text": [
            "GenerationResult(text='The                                                               ')\n",
            "yes\n"
          ]
        },
        {
          "output_type": "stream",
          "name": "stderr",
          "text": [
            "Setting `pad_token_id` to `eos_token_id`:50256 for open-end generation.\n"
          ]
        },
        {
          "output_type": "stream",
          "name": "stdout",
          "text": [
            "GenerationResult(text='I\\'m not going to be a party to this.\"\\n\\nThe following is a list of the most common types of dialogue acts:\\n\\nAct I\\n\\nAct I is the first act of a play. It is the first scene of the play. It is the first scene of the play. It is the')\n",
            "yes\n"
          ]
        },
        {
          "output_type": "stream",
          "name": "stderr",
          "text": [
            "Setting `pad_token_id` to `eos_token_id`:50256 for open-end generation.\n"
          ]
        },
        {
          "output_type": "stream",
          "name": "stdout",
          "text": [
            "GenerationResult(text='\\n                                                               ')\n",
            "yes\n"
          ]
        },
        {
          "output_type": "stream",
          "name": "stderr",
          "text": [
            "Setting `pad_token_id` to `eos_token_id`:50256 for open-end generation.\n"
          ]
        },
        {
          "output_type": "stream",
          "name": "stdout",
          "text": [
            "GenerationResult(text='\\n                                                               ')\n",
            "yes\n"
          ]
        },
        {
          "output_type": "stream",
          "name": "stderr",
          "text": [
            "Setting `pad_token_id` to `eos_token_id`:50256 for open-end generation.\n"
          ]
        },
        {
          "output_type": "stream",
          "name": "stdout",
          "text": [
            "GenerationResult(text='I am sorry, but I have to go now.  I have to go to the bathroom.\"                                            ')\n",
            "yes\n"
          ]
        },
        {
          "output_type": "stream",
          "name": "stderr",
          "text": [
            "Setting `pad_token_id` to `eos_token_id`:50256 for open-end generation.\n"
          ]
        },
        {
          "output_type": "stream",
          "name": "stdout",
          "text": [
            "GenerationResult(text=\"I'm sorry, but I have to go. I have to go. I have to go. I have to go. I have to go. I have to go. I have to go. I have to go. I have to go. I have to go. I have to go. I have to go\")\n",
            "yes\n"
          ]
        },
        {
          "output_type": "stream",
          "name": "stderr",
          "text": [
            "Setting `pad_token_id` to `eos_token_id`:50256 for open-end generation.\n"
          ]
        },
        {
          "output_type": "stream",
          "name": "stdout",
          "text": [
            "GenerationResult(text='\\n                                                               ')\n",
            "yes\n"
          ]
        },
        {
          "output_type": "stream",
          "name": "stderr",
          "text": [
            "Setting `pad_token_id` to `eos_token_id`:50256 for open-end generation.\n"
          ]
        },
        {
          "output_type": "stream",
          "name": "stdout",
          "text": [
            "GenerationResult(text=';\\n                                                              ')\n",
            "yes\n"
          ]
        },
        {
          "output_type": "stream",
          "name": "stderr",
          "text": [
            "Setting `pad_token_id` to `eos_token_id`:50256 for open-end generation.\n"
          ]
        },
        {
          "output_type": "stream",
          "name": "stdout",
          "text": [
            "GenerationResult(text='\\n                                                               ')\n",
            "yes\n"
          ]
        },
        {
          "output_type": "stream",
          "name": "stderr",
          "text": [
            "Setting `pad_token_id` to `eos_token_id`:50256 for open-end generation.\n"
          ]
        },
        {
          "output_type": "stream",
          "name": "stdout",
          "text": [
            "----20/90----\n",
            "GenerationResult(text='\\n                                                               ')\n",
            "yes\n"
          ]
        },
        {
          "output_type": "stream",
          "name": "stderr",
          "text": [
            "Setting `pad_token_id` to `eos_token_id`:50256 for open-end generation.\n"
          ]
        },
        {
          "output_type": "stream",
          "name": "stdout",
          "text": [
            "GenerationResult(text='\\n                                                               ')\n",
            "yes\n"
          ]
        },
        {
          "output_type": "stream",
          "name": "stderr",
          "text": [
            "Setting `pad_token_id` to `eos_token_id`:50256 for open-end generation.\n"
          ]
        },
        {
          "output_type": "stream",
          "name": "stdout",
          "text": [
            "GenerationResult(text=';\\n                                                              ')\n",
            "yes\n"
          ]
        },
        {
          "output_type": "stream",
          "name": "stderr",
          "text": [
            "Setting `pad_token_id` to `eos_token_id`:50256 for open-end generation.\n"
          ]
        },
        {
          "output_type": "stream",
          "name": "stdout",
          "text": [
            "GenerationResult(text='\\n                                                               ')\n",
            "yes\n"
          ]
        },
        {
          "output_type": "stream",
          "name": "stderr",
          "text": [
            "Setting `pad_token_id` to `eos_token_id`:50256 for open-end generation.\n"
          ]
        },
        {
          "output_type": "stream",
          "name": "stdout",
          "text": [
            "GenerationResult(text='\\n                                                               ')\n",
            "yes\n"
          ]
        },
        {
          "output_type": "stream",
          "name": "stderr",
          "text": [
            "Setting `pad_token_id` to `eos_token_id`:50256 for open-end generation.\n"
          ]
        },
        {
          "output_type": "stream",
          "name": "stdout",
          "text": [
            "GenerationResult(text='\\n                                                               ')\n",
            "yes\n"
          ]
        },
        {
          "output_type": "stream",
          "name": "stderr",
          "text": [
            "Setting `pad_token_id` to `eos_token_id`:50256 for open-end generation.\n"
          ]
        },
        {
          "output_type": "stream",
          "name": "stdout",
          "text": [
            "GenerationResult(text='\\n                                                               ')\n",
            "yes\n"
          ]
        },
        {
          "output_type": "stream",
          "name": "stderr",
          "text": [
            "Setting `pad_token_id` to `eos_token_id`:50256 for open-end generation.\n"
          ]
        },
        {
          "output_type": "stream",
          "name": "stdout",
          "text": [
            "GenerationResult(text='The                                                               ')\n",
            "yes\n"
          ]
        },
        {
          "output_type": "stream",
          "name": "stderr",
          "text": [
            "Setting `pad_token_id` to `eos_token_id`:50256 for open-end generation.\n"
          ]
        },
        {
          "output_type": "stream",
          "name": "stdout",
          "text": [
            "GenerationResult(text='I am sorry, but I have to go.  I have to go to the bathroom.\"                                             ')\n",
            "yes\n"
          ]
        },
        {
          "output_type": "stream",
          "name": "stderr",
          "text": [
            "Setting `pad_token_id` to `eos_token_id`:50256 for open-end generation.\n"
          ]
        },
        {
          "output_type": "stream",
          "name": "stdout",
          "text": [
            "GenerationResult(text='I am a man of the world, and I know that the world is not my oyster.\"\\n\\nThe first line of the dialogue is the same as the first line of the first act.  The second line is the same as the second line of the first act.  The third line is the same as')\n",
            "yes\n"
          ]
        },
        {
          "output_type": "stream",
          "name": "stderr",
          "text": [
            "Setting `pad_token_id` to `eos_token_id`:50256 for open-end generation.\n"
          ]
        },
        {
          "output_type": "stream",
          "name": "stdout",
          "text": [
            "----30/90----\n",
            "GenerationResult(text='I\\'m sorry, but I can\\'t do that.\"\\n\\nThe following is a list of the most common errors in the dialogue:\\n\\n\"I\\'m sorry, but I can\\'t do that.\"\\n\"I\\'m sorry, but I can\\'t do that.\"\\n\"I\\'m sorry, but I can\\'t')\n",
            "yes\n"
          ]
        },
        {
          "output_type": "stream",
          "name": "stderr",
          "text": [
            "Setting `pad_token_id` to `eos_token_id`:50256 for open-end generation.\n"
          ]
        },
        {
          "output_type": "stream",
          "name": "stdout",
          "text": [
            "GenerationResult(text='\\n                                                               ')\n",
            "yes\n"
          ]
        },
        {
          "output_type": "stream",
          "name": "stderr",
          "text": [
            "Setting `pad_token_id` to `eos_token_id`:50256 for open-end generation.\n"
          ]
        },
        {
          "output_type": "stream",
          "name": "stdout",
          "text": [
            "GenerationResult(text='\\n                                                               ')\n",
            "yes\n"
          ]
        },
        {
          "output_type": "stream",
          "name": "stderr",
          "text": [
            "Setting `pad_token_id` to `eos_token_id`:50256 for open-end generation.\n"
          ]
        },
        {
          "output_type": "stream",
          "name": "stdout",
          "text": [
            "GenerationResult(text='I am sorry, but I have to go now. I have to go to the bathroom.\"\\n\\nThe dialogue is not a request, but a request for a request.  The request is not a request for a request, but a request for a request.  The request is not a request for a request,')\n",
            "yes\n"
          ]
        },
        {
          "output_type": "stream",
          "name": "stderr",
          "text": [
            "Setting `pad_token_id` to `eos_token_id`:50256 for open-end generation.\n"
          ]
        },
        {
          "output_type": "stream",
          "name": "stdout",
          "text": [
            "GenerationResult(text='I\\'m sorry, but I can\\'t do that.\"\\n\\nThe following is a list of the most common ways to say \"I\\'m sorry\":\\n\\nI\\'m sorry, I\\'m sorry, I\\'m sorry, I\\'m sorry, I\\'m sorry, I\\'m sorry, I\\'m sorry, I\\'m sorry,')\n",
            "yes\n"
          ]
        },
        {
          "output_type": "stream",
          "name": "stderr",
          "text": [
            "Setting `pad_token_id` to `eos_token_id`:50256 for open-end generation.\n"
          ]
        },
        {
          "output_type": "stream",
          "name": "stdout",
          "text": [
            "GenerationResult(text=';\\n                                                              ')\n",
            "yes\n"
          ]
        },
        {
          "output_type": "stream",
          "name": "stderr",
          "text": [
            "Setting `pad_token_id` to `eos_token_id`:50256 for open-end generation.\n"
          ]
        },
        {
          "output_type": "stream",
          "name": "stdout",
          "text": [
            "GenerationResult(text='\\n                                                               ')\n",
            "yes\n"
          ]
        },
        {
          "output_type": "stream",
          "name": "stderr",
          "text": [
            "Setting `pad_token_id` to `eos_token_id`:50256 for open-end generation.\n"
          ]
        },
        {
          "output_type": "stream",
          "name": "stdout",
          "text": [
            "GenerationResult(text='\\n                                                               ')\n",
            "yes\n"
          ]
        },
        {
          "output_type": "stream",
          "name": "stderr",
          "text": [
            "Setting `pad_token_id` to `eos_token_id`:50256 for open-end generation.\n"
          ]
        },
        {
          "output_type": "stream",
          "name": "stdout",
          "text": [
            "GenerationResult(text='\\n                                                               ')\n",
            "yes\n"
          ]
        },
        {
          "output_type": "stream",
          "name": "stderr",
          "text": [
            "Setting `pad_token_id` to `eos_token_id`:50256 for open-end generation.\n"
          ]
        },
        {
          "output_type": "stream",
          "name": "stdout",
          "text": [
            "GenerationResult(text='\\n                                                               ')\n",
            "yes\n"
          ]
        },
        {
          "output_type": "stream",
          "name": "stderr",
          "text": [
            "Setting `pad_token_id` to `eos_token_id`:50256 for open-end generation.\n"
          ]
        },
        {
          "output_type": "stream",
          "name": "stdout",
          "text": [
            "----40/90----\n",
            "GenerationResult(text='\\n                                                               ')\n",
            "yes\n"
          ]
        },
        {
          "output_type": "stream",
          "name": "stderr",
          "text": [
            "Setting `pad_token_id` to `eos_token_id`:50256 for open-end generation.\n"
          ]
        },
        {
          "output_type": "stream",
          "name": "stdout",
          "text": [
            "GenerationResult(text='\\n                                                               ')\n",
            "yes\n"
          ]
        },
        {
          "output_type": "stream",
          "name": "stderr",
          "text": [
            "Setting `pad_token_id` to `eos_token_id`:50256 for open-end generation.\n"
          ]
        },
        {
          "output_type": "stream",
          "name": "stdout",
          "text": [
            "GenerationResult(text='\\n                                                               ')\n",
            "yes\n"
          ]
        },
        {
          "output_type": "stream",
          "name": "stderr",
          "text": [
            "Setting `pad_token_id` to `eos_token_id`:50256 for open-end generation.\n"
          ]
        },
        {
          "output_type": "stream",
          "name": "stdout",
          "text": [
            "GenerationResult(text='\\n                                                               ')\n",
            "yes\n"
          ]
        },
        {
          "output_type": "stream",
          "name": "stderr",
          "text": [
            "Setting `pad_token_id` to `eos_token_id`:50256 for open-end generation.\n"
          ]
        },
        {
          "output_type": "stream",
          "name": "stdout",
          "text": [
            "GenerationResult(text='\\n                                                               ')\n",
            "yes\n"
          ]
        },
        {
          "output_type": "stream",
          "name": "stderr",
          "text": [
            "Setting `pad_token_id` to `eos_token_id`:50256 for open-end generation.\n"
          ]
        },
        {
          "output_type": "stream",
          "name": "stdout",
          "text": [
            "GenerationResult(text='\\n                                                               ')\n",
            "yes\n"
          ]
        },
        {
          "output_type": "stream",
          "name": "stderr",
          "text": [
            "Setting `pad_token_id` to `eos_token_id`:50256 for open-end generation.\n"
          ]
        },
        {
          "output_type": "stream",
          "name": "stdout",
          "text": [
            "GenerationResult(text='\\n                                                               ')\n",
            "yes\n"
          ]
        },
        {
          "output_type": "stream",
          "name": "stderr",
          "text": [
            "Setting `pad_token_id` to `eos_token_id`:50256 for open-end generation.\n"
          ]
        },
        {
          "output_type": "stream",
          "name": "stdout",
          "text": [
            "GenerationResult(text='\\n                                                               ')\n",
            "yes\n"
          ]
        },
        {
          "output_type": "stream",
          "name": "stderr",
          "text": [
            "Setting `pad_token_id` to `eos_token_id`:50256 for open-end generation.\n"
          ]
        },
        {
          "output_type": "stream",
          "name": "stdout",
          "text": [
            "GenerationResult(text='\\n                                                               ')\n",
            "yes\n"
          ]
        },
        {
          "output_type": "stream",
          "name": "stderr",
          "text": [
            "Setting `pad_token_id` to `eos_token_id`:50256 for open-end generation.\n"
          ]
        },
        {
          "output_type": "stream",
          "name": "stdout",
          "text": [
            "GenerationResult(text=';\\n                                                              ')\n",
            "yes\n"
          ]
        },
        {
          "output_type": "stream",
          "name": "stderr",
          "text": [
            "Setting `pad_token_id` to `eos_token_id`:50256 for open-end generation.\n"
          ]
        },
        {
          "output_type": "stream",
          "name": "stdout",
          "text": [
            "----50/90----\n",
            "GenerationResult(text='\\n                                                               ')\n",
            "yes\n"
          ]
        },
        {
          "output_type": "stream",
          "name": "stderr",
          "text": [
            "Setting `pad_token_id` to `eos_token_id`:50256 for open-end generation.\n"
          ]
        },
        {
          "output_type": "stream",
          "name": "stdout",
          "text": [
            "GenerationResult(text='I am the president of the United States. I am the president of the United States. I am the president of the United States. I am the president of the United States. I am the president of the United States. I am the president of the United States. I am the president of the United States. I')\n",
            "yes\n"
          ]
        },
        {
          "output_type": "stream",
          "name": "stderr",
          "text": [
            "Setting `pad_token_id` to `eos_token_id`:50256 for open-end generation.\n"
          ]
        },
        {
          "output_type": "stream",
          "name": "stdout",
          "text": [
            "GenerationResult(text='\\n                                                               ')\n",
            "yes\n"
          ]
        },
        {
          "output_type": "stream",
          "name": "stderr",
          "text": [
            "Setting `pad_token_id` to `eos_token_id`:50256 for open-end generation.\n"
          ]
        },
        {
          "output_type": "stream",
          "name": "stdout",
          "text": [
            "GenerationResult(text='\\n                                                               ')\n",
            "yes\n"
          ]
        },
        {
          "output_type": "stream",
          "name": "stderr",
          "text": [
            "Setting `pad_token_id` to `eos_token_id`:50256 for open-end generation.\n"
          ]
        },
        {
          "output_type": "stream",
          "name": "stdout",
          "text": [
            "GenerationResult(text='\\n                                                               ')\n",
            "yes\n"
          ]
        },
        {
          "output_type": "stream",
          "name": "stderr",
          "text": [
            "Setting `pad_token_id` to `eos_token_id`:50256 for open-end generation.\n"
          ]
        },
        {
          "output_type": "stream",
          "name": "stdout",
          "text": [
            "GenerationResult(text='\\n                                                               ')\n",
            "yes\n"
          ]
        },
        {
          "output_type": "stream",
          "name": "stderr",
          "text": [
            "Setting `pad_token_id` to `eos_token_id`:50256 for open-end generation.\n"
          ]
        },
        {
          "output_type": "stream",
          "name": "stdout",
          "text": [
            "GenerationResult(text='\\n                                                               ')\n",
            "yes\n"
          ]
        },
        {
          "output_type": "stream",
          "name": "stderr",
          "text": [
            "Setting `pad_token_id` to `eos_token_id`:50256 for open-end generation.\n"
          ]
        },
        {
          "output_type": "stream",
          "name": "stdout",
          "text": [
            "GenerationResult(text='\\n                                                               ')\n",
            "yes\n"
          ]
        },
        {
          "output_type": "stream",
          "name": "stderr",
          "text": [
            "Setting `pad_token_id` to `eos_token_id`:50256 for open-end generation.\n"
          ]
        },
        {
          "output_type": "stream",
          "name": "stdout",
          "text": [
            "GenerationResult(text='\\n                                                               ')\n",
            "yes\n"
          ]
        },
        {
          "output_type": "stream",
          "name": "stderr",
          "text": [
            "Setting `pad_token_id` to `eos_token_id`:50256 for open-end generation.\n"
          ]
        },
        {
          "output_type": "stream",
          "name": "stdout",
          "text": [
            "GenerationResult(text='\\n                                                               ')\n",
            "yes\n"
          ]
        },
        {
          "output_type": "stream",
          "name": "stderr",
          "text": [
            "Setting `pad_token_id` to `eos_token_id`:50256 for open-end generation.\n"
          ]
        },
        {
          "output_type": "stream",
          "name": "stdout",
          "text": [
            "----60/90----\n",
            "GenerationResult(text='\\n                                                               ')\n",
            "yes\n"
          ]
        },
        {
          "output_type": "stream",
          "name": "stderr",
          "text": [
            "Setting `pad_token_id` to `eos_token_id`:50256 for open-end generation.\n"
          ]
        },
        {
          "output_type": "stream",
          "name": "stdout",
          "text": [
            "GenerationResult(text='\\n                                                               ')\n",
            "yes\n"
          ]
        },
        {
          "output_type": "stream",
          "name": "stderr",
          "text": [
            "Setting `pad_token_id` to `eos_token_id`:50256 for open-end generation.\n"
          ]
        },
        {
          "output_type": "stream",
          "name": "stdout",
          "text": [
            "GenerationResult(text='\\n                                                               ')\n",
            "yes\n"
          ]
        },
        {
          "output_type": "stream",
          "name": "stderr",
          "text": [
            "Setting `pad_token_id` to `eos_token_id`:50256 for open-end generation.\n"
          ]
        },
        {
          "output_type": "stream",
          "name": "stdout",
          "text": [
            "GenerationResult(text='The                                                               ')\n",
            "yes\n"
          ]
        },
        {
          "output_type": "stream",
          "name": "stderr",
          "text": [
            "Setting `pad_token_id` to `eos_token_id`:50256 for open-end generation.\n"
          ]
        },
        {
          "output_type": "stream",
          "name": "stdout",
          "text": [
            "GenerationResult(text='\\n                                                               ')\n",
            "yes\n"
          ]
        },
        {
          "output_type": "stream",
          "name": "stderr",
          "text": [
            "Setting `pad_token_id` to `eos_token_id`:50256 for open-end generation.\n"
          ]
        },
        {
          "output_type": "stream",
          "name": "stdout",
          "text": [
            "GenerationResult(text='The                                                               ')\n",
            "yes\n"
          ]
        },
        {
          "output_type": "stream",
          "name": "stderr",
          "text": [
            "Setting `pad_token_id` to `eos_token_id`:50256 for open-end generation.\n"
          ]
        },
        {
          "output_type": "stream",
          "name": "stdout",
          "text": [
            "GenerationResult(text='The Avengers\"\\n\\n.                                                          ')\n",
            "yes\n"
          ]
        },
        {
          "output_type": "stream",
          "name": "stderr",
          "text": [
            "Setting `pad_token_id` to `eos_token_id`:50256 for open-end generation.\n"
          ]
        },
        {
          "output_type": "stream",
          "name": "stdout",
          "text": [
            "GenerationResult(text='\\n                                                               ')\n",
            "yes\n"
          ]
        },
        {
          "output_type": "stream",
          "name": "stderr",
          "text": [
            "Setting `pad_token_id` to `eos_token_id`:50256 for open-end generation.\n"
          ]
        },
        {
          "output_type": "stream",
          "name": "stdout",
          "text": [
            "GenerationResult(text='\\n                                                               ')\n",
            "yes\n"
          ]
        },
        {
          "output_type": "stream",
          "name": "stderr",
          "text": [
            "Setting `pad_token_id` to `eos_token_id`:50256 for open-end generation.\n"
          ]
        },
        {
          "output_type": "stream",
          "name": "stdout",
          "text": [
            "GenerationResult(text='\\n                                                               ')\n",
            "yes\n"
          ]
        },
        {
          "output_type": "stream",
          "name": "stderr",
          "text": [
            "Setting `pad_token_id` to `eos_token_id`:50256 for open-end generation.\n"
          ]
        },
        {
          "output_type": "stream",
          "name": "stdout",
          "text": [
            "----70/90----\n",
            "GenerationResult(text='\\n                                                               ')\n",
            "yes\n"
          ]
        },
        {
          "output_type": "stream",
          "name": "stderr",
          "text": [
            "Setting `pad_token_id` to `eos_token_id`:50256 for open-end generation.\n"
          ]
        },
        {
          "output_type": "stream",
          "name": "stdout",
          "text": [
            "GenerationResult(text='\\n                                                               ')\n",
            "yes\n"
          ]
        },
        {
          "output_type": "stream",
          "name": "stderr",
          "text": [
            "Setting `pad_token_id` to `eos_token_id`:50256 for open-end generation.\n"
          ]
        },
        {
          "output_type": "stream",
          "name": "stdout",
          "text": [
            "GenerationResult(text=';\\n                                                              ')\n",
            "yes\n"
          ]
        },
        {
          "output_type": "stream",
          "name": "stderr",
          "text": [
            "Setting `pad_token_id` to `eos_token_id`:50256 for open-end generation.\n"
          ]
        },
        {
          "output_type": "stream",
          "name": "stdout",
          "text": [
            "GenerationResult(text='\\n                                                               ')\n",
            "yes\n"
          ]
        },
        {
          "output_type": "stream",
          "name": "stderr",
          "text": [
            "Setting `pad_token_id` to `eos_token_id`:50256 for open-end generation.\n"
          ]
        },
        {
          "output_type": "stream",
          "name": "stdout",
          "text": [
            "GenerationResult(text='\\n                                                               ')\n",
            "yes\n"
          ]
        },
        {
          "output_type": "stream",
          "name": "stderr",
          "text": [
            "Setting `pad_token_id` to `eos_token_id`:50256 for open-end generation.\n"
          ]
        },
        {
          "output_type": "stream",
          "name": "stdout",
          "text": [
            "GenerationResult(text='\\n                                                               ')\n",
            "yes\n"
          ]
        },
        {
          "output_type": "stream",
          "name": "stderr",
          "text": [
            "Setting `pad_token_id` to `eos_token_id`:50256 for open-end generation.\n"
          ]
        },
        {
          "output_type": "stream",
          "name": "stdout",
          "text": [
            "GenerationResult(text='\\n                                                               ')\n",
            "yes\n"
          ]
        },
        {
          "output_type": "stream",
          "name": "stderr",
          "text": [
            "Setting `pad_token_id` to `eos_token_id`:50256 for open-end generation.\n"
          ]
        },
        {
          "output_type": "stream",
          "name": "stdout",
          "text": [
            "GenerationResult(text='\\n                                                               ')\n",
            "yes\n"
          ]
        },
        {
          "output_type": "stream",
          "name": "stderr",
          "text": [
            "Setting `pad_token_id` to `eos_token_id`:50256 for open-end generation.\n"
          ]
        },
        {
          "output_type": "stream",
          "name": "stdout",
          "text": [
            "GenerationResult(text='\\n                                                               ')\n",
            "yes\n"
          ]
        },
        {
          "output_type": "stream",
          "name": "stderr",
          "text": [
            "Setting `pad_token_id` to `eos_token_id`:50256 for open-end generation.\n"
          ]
        },
        {
          "output_type": "stream",
          "name": "stdout",
          "text": [
            "GenerationResult(text='\\n                                                               ')\n",
            "yes\n"
          ]
        },
        {
          "output_type": "stream",
          "name": "stderr",
          "text": [
            "Setting `pad_token_id` to `eos_token_id`:50256 for open-end generation.\n"
          ]
        },
        {
          "output_type": "stream",
          "name": "stdout",
          "text": [
            "----80/90----\n",
            "GenerationResult(text='\\n                                                               ')\n",
            "yes\n"
          ]
        },
        {
          "output_type": "stream",
          "name": "stderr",
          "text": [
            "Setting `pad_token_id` to `eos_token_id`:50256 for open-end generation.\n"
          ]
        },
        {
          "output_type": "stream",
          "name": "stdout",
          "text": [
            "GenerationResult(text='I am a man of my word, and I will not be a party to any such agreement.\"\\n\\nThe second part of the sentence is a bit of a problem.  The word \"I\" is not a pronoun, so it cannot be used as a subject.  The word \"word\" is a noun')\n",
            "yes\n"
          ]
        },
        {
          "output_type": "stream",
          "name": "stderr",
          "text": [
            "Setting `pad_token_id` to `eos_token_id`:50256 for open-end generation.\n"
          ]
        },
        {
          "output_type": "stream",
          "name": "stdout",
          "text": [
            "GenerationResult(text='\\n                                                               ')\n",
            "yes\n"
          ]
        },
        {
          "output_type": "stream",
          "name": "stderr",
          "text": [
            "Setting `pad_token_id` to `eos_token_id`:50256 for open-end generation.\n"
          ]
        },
        {
          "output_type": "stream",
          "name": "stdout",
          "text": [
            "GenerationResult(text='The                                                               ')\n",
            "yes\n"
          ]
        },
        {
          "output_type": "stream",
          "name": "stderr",
          "text": [
            "Setting `pad_token_id` to `eos_token_id`:50256 for open-end generation.\n"
          ]
        },
        {
          "output_type": "stream",
          "name": "stdout",
          "text": [
            "GenerationResult(text='\\n                                                               ')\n",
            "yes\n"
          ]
        },
        {
          "output_type": "stream",
          "name": "stderr",
          "text": [
            "Setting `pad_token_id` to `eos_token_id`:50256 for open-end generation.\n"
          ]
        },
        {
          "output_type": "stream",
          "name": "stdout",
          "text": [
            "GenerationResult(text='\\n                                                               ')\n",
            "yes\n"
          ]
        },
        {
          "output_type": "stream",
          "name": "stderr",
          "text": [
            "Setting `pad_token_id` to `eos_token_id`:50256 for open-end generation.\n"
          ]
        },
        {
          "output_type": "stream",
          "name": "stdout",
          "text": [
            "GenerationResult(text='\\n                                                               ')\n",
            "yes\n"
          ]
        },
        {
          "output_type": "stream",
          "name": "stderr",
          "text": [
            "Setting `pad_token_id` to `eos_token_id`:50256 for open-end generation.\n"
          ]
        },
        {
          "output_type": "stream",
          "name": "stdout",
          "text": [
            "GenerationResult(text='I am sorry, but I am not able to accept your request.\".\\n\\nA:\\n\\nI think you need to use the following:\\n\\n\"I am sorry, but I am not able to accept your request.\"\\n\\nThis is a request for a response, not a request for a dialogue.')\n",
            "yes\n"
          ]
        },
        {
          "output_type": "stream",
          "name": "stderr",
          "text": [
            "Setting `pad_token_id` to `eos_token_id`:50256 for open-end generation.\n"
          ]
        },
        {
          "output_type": "stream",
          "name": "stdout",
          "text": [
            "GenerationResult(text='I\\'m sorry, but I can\\'t do that.\"\\n\\n\"I\\'m sorry, but I can\\'t do that.\"\\n\\n\"I\\'m sorry, but I can\\'t do that.\"\\n\\n\"I\\'m sorry, but I can\\'t do that.\"\\n\\n\"I\\'m sorry, but I can\\'t')\n",
            "yes\n"
          ]
        },
        {
          "output_type": "stream",
          "name": "stderr",
          "text": [
            "Setting `pad_token_id` to `eos_token_id`:50256 for open-end generation.\n"
          ]
        },
        {
          "output_type": "stream",
          "name": "stdout",
          "text": [
            "GenerationResult(text='\\n                                                               ')\n",
            "yes\n",
            "----90/90----\n"
          ]
        }
      ],
      "source": [
        "test_set = pd.read_csv(FILE_TEST_INPUT)\n",
        "generated_results = run_inference(test_set=test_set)\n"
      ]
    },
    {
      "cell_type": "code",
      "execution_count": null,
      "metadata": {
        "id": "HLZTLSiktvOk"
      },
      "outputs": [],
      "source": [
        "FILE_TEST_OUTPUT='/content/drive/MyDrive/Temp Data/AA NLP244 Project Experiments/Data/Outputs/GPTNeo_Gen.csv'\n",
        "generated_df = pd.DataFrame.from_dict(generated_results)\n",
        "generated_df.to_csv(FILE_TEST_OUTPUT, index=False)"
      ]
    },
    {
      "cell_type": "code",
      "execution_count": null,
      "metadata": {
        "colab": {
          "base_uri": "https://localhost:8080/"
        },
        "id": "bbOnpKpovHAd",
        "outputId": "9b49c18e-a70b-4b83-db5e-4d1fd8c21262"
      },
      "outputs": [
        {
          "output_type": "execute_result",
          "data": {
            "text/plain": [
              "{'mr': ['Sasural Simar Ka = genres = drama television series | Sasural Simar Ka = genres = drama television series | Sasural Simar Ka = genres = drama television series | Sasural Simar Ka = genres = drama television series | Sasural Simar Ka = genres = drama television series | Sasural Simar Ka = genres = drama television series | Sasural Simar Ka = genres = drama television series | Sasural Simar Ka = genres = drama television series | ',\n",
              "  'Sasural Simar Ka = genres = drama television series | Sasural Simar Ka = genres = drama television series | Sasural Simar Ka = genres = drama television series | Sasural Simar Ka = genres = drama television series | Sasural Simar Ka = genres = drama television series | Sasural Simar Ka = genres = drama television series | Sasural Simar Ka = genres = drama television series | Sasural Simar Ka = genres = drama television series | ',\n",
              "  'Sasural Simar Ka = genres = drama television series | Sasural Simar Ka = genres = drama television series | Sasural Simar Ka = genres = drama television series | Sasural Simar Ka = genres = drama television series | Sasural Simar Ka = genres = drama television series | Sasural Simar Ka = genres = drama television series | Sasural Simar Ka = genres = drama television series | Sasural Simar Ka = genres = drama television series | ',\n",
              "  'Sasural Simar Ka = genres = drama television series | Sasural Simar Ka = genres = drama television series | Sasural Simar Ka = genres = drama television series | Sasural Simar Ka = genres = drama television series | Sasural Simar Ka = genres = drama television series | Sasural Simar Ka = genres = drama television series | Sasural Simar Ka = genres = drama television series | Sasural Simar Ka = genres = drama television series | ',\n",
              "  'Sasural Simar Ka = genres = drama television series | Sasural Simar Ka = genres = drama television series | Sasural Simar Ka = genres = drama television series | Sasural Simar Ka = genres = drama television series | Sasural Simar Ka = genres = drama television series | Sasural Simar Ka = genres = drama television series | Sasural Simar Ka = genres = drama television series | Sasural Simar Ka = genres = drama television series | ',\n",
              "  'Sasural Simar Ka = genres = drama television series | Sasural Simar Ka = genres = drama television series | Sasural Simar Ka = genres = drama television series | Sasural Simar Ka = genres = drama television series | Sasural Simar Ka = genres = drama television series | Sasural Simar Ka = genres = drama television series | Sasural Simar Ka = genres = drama television series | Sasural Simar Ka = genres = drama television series | ',\n",
              "  'Sasural Simar Ka = genres = drama television series | Sasural Simar Ka = genres = drama television series | Sasural Simar Ka = genres = drama television series | Sasural Simar Ka = genres = drama television series | Sasural Simar Ka = genres = drama television series | Sasural Simar Ka = genres = drama television series | Sasural Simar Ka = genres = drama television series | Sasural Simar Ka = genres = drama television series | ',\n",
              "  'Sasural Simar Ka = genres = drama television series | Sasural Simar Ka = genres = drama television series | Sasural Simar Ka = genres = drama television series | Sasural Simar Ka = genres = drama television series | Sasural Simar Ka = genres = drama television series | Sasural Simar Ka = genres = drama television series | Sasural Simar Ka = genres = drama television series | Sasural Simar Ka = genres = drama television series | ',\n",
              "  'Sasural Simar Ka = genres = drama television series | Sasural Simar Ka = genres = drama television series | Sasural Simar Ka = genres = drama television series | Sasural Simar Ka = genres = drama television series | Sasural Simar Ka = genres = drama television series | Sasural Simar Ka = genres = drama television series | Sasural Simar Ka = genres = drama television series | Sasural Simar Ka = genres = drama television series | ',\n",
              "  'Sasural Simar Ka = genres = drama television series | Sasural Simar Ka = genres = drama television series | Sasural Simar Ka = genres = drama television series | Sasural Simar Ka = genres = drama television series | Sasural Simar Ka = genres = drama television series | Sasural Simar Ka = genres = drama television series | Sasural Simar Ka = genres = drama television series | Sasural Simar Ka = genres = drama television series | ',\n",
              "  'Sasural Simar Ka = genres = drama television series | Sasural Simar Ka = genres = drama television series | Sasural Simar Ka = genres = drama television series | ',\n",
              "  'Sasural Simar Ka = genres = drama television series | Sasural Simar Ka = genres = drama television series | Sasural Simar Ka = genres = drama television series | ',\n",
              "  'Sasural Simar Ka = genres = drama television series | Sasural Simar Ka = genres = drama television series | Sasural Simar Ka = genres = drama television series | ',\n",
              "  'Sasural Simar Ka = genres = drama television series | Sasural Simar Ka = genres = drama television series | Sasural Simar Ka = genres = drama television series | ',\n",
              "  'Sasural Simar Ka = genres = drama television series | Sasural Simar Ka = genres = drama television series | Sasural Simar Ka = genres = drama television series | ',\n",
              "  'Sasural Simar Ka = genres = drama television series | Sasural Simar Ka = genres = drama television series | Sasural Simar Ka = genres = drama television series | ',\n",
              "  'Sasural Simar Ka = genres = drama television series | Sasural Simar Ka = genres = drama television series | Sasural Simar Ka = genres = drama television series | ',\n",
              "  'Sasural Simar Ka = genres = drama television series | Sasural Simar Ka = genres = drama television series | Sasural Simar Ka = genres = drama television series | ',\n",
              "  'Sasural Simar Ka = genres = drama television series | Sasural Simar Ka = genres = drama television series | Sasural Simar Ka = genres = drama television series | ',\n",
              "  'Sasural Simar Ka = genres = drama television series | Sasural Simar Ka = genres = drama television series | Sasural Simar Ka = genres = drama television series | ',\n",
              "  'Sasural Simar Ka = rating = bad | Sasural Simar Ka = genres = drama television series | ',\n",
              "  'Sasural Simar Ka = rating = bad | Sasural Simar Ka = genres = drama television series | ',\n",
              "  'Sasural Simar Ka = rating = bad | Sasural Simar Ka = genres = drama television series | ',\n",
              "  'Sasural Simar Ka = rating = bad | Sasural Simar Ka = genres = drama television series | ',\n",
              "  'Sasural Simar Ka = rating = bad | Sasural Simar Ka = genres = drama television series | ',\n",
              "  'Sasural Simar Ka = rating = bad | Sasural Simar Ka = genres = drama television series | ',\n",
              "  'Sasural Simar Ka = rating = bad | Sasural Simar Ka = genres = drama television series | ',\n",
              "  'Sasural Simar Ka = rating = bad | Sasural Simar Ka = genres = drama television series | ',\n",
              "  'Sasural Simar Ka = rating = bad | Sasural Simar Ka = genres = drama television series | ',\n",
              "  'Sasural Simar Ka = rating = bad | Sasural Simar Ka = genres = drama television series | ',\n",
              "  'Sasural Simar Ka = genres = drama television series | Sasural Simar Ka = genres = drama television series | Sasural Simar Ka = genres = drama television series | Sasural Simar Ka = genres = drama television series | ',\n",
              "  'Sasural Simar Ka = genres = drama television series | Sasural Simar Ka = genres = drama television series | Sasural Simar Ka = genres = drama television series | Sasural Simar Ka = genres = drama television series | ',\n",
              "  'Sasural Simar Ka = genres = drama television series | Sasural Simar Ka = genres = drama television series | Sasural Simar Ka = genres = drama television series | Sasural Simar Ka = genres = drama television series | ',\n",
              "  'Sasural Simar Ka = genres = drama television series | Sasural Simar Ka = genres = drama television series | Sasural Simar Ka = genres = drama television series | Sasural Simar Ka = genres = drama television series | ',\n",
              "  'Sasural Simar Ka = genres = drama television series | Sasural Simar Ka = genres = drama television series | Sasural Simar Ka = genres = drama television series | Sasural Simar Ka = genres = drama television series | ',\n",
              "  'Sasural Simar Ka = genres = drama television series | Sasural Simar Ka = genres = drama television series | Sasural Simar Ka = genres = drama television series | Sasural Simar Ka = genres = drama television series | ',\n",
              "  'Sasural Simar Ka = genres = drama television series | Sasural Simar Ka = genres = drama television series | Sasural Simar Ka = genres = drama television series | Sasural Simar Ka = genres = drama television series | ',\n",
              "  'Sasural Simar Ka = genres = drama television series | Sasural Simar Ka = genres = drama television series | Sasural Simar Ka = genres = drama television series | Sasural Simar Ka = genres = drama television series | ',\n",
              "  'Sasural Simar Ka = genres = drama television series | Sasural Simar Ka = genres = drama television series | Sasural Simar Ka = genres = drama television series | Sasural Simar Ka = genres = drama television series | ',\n",
              "  'Sasural Simar Ka = genres = drama television series | Sasural Simar Ka = genres = drama television series | Sasural Simar Ka = genres = drama television series | Sasural Simar Ka = genres = drama television series | ',\n",
              "  'weirdest . genres . drama television series .',\n",
              "  'weirdest . genres . drama television series .',\n",
              "  'weirdest . genres . drama television series .',\n",
              "  'weirdest . genres . drama television series .',\n",
              "  'weirdest . genres . drama television series .',\n",
              "  'weirdest . genres . drama television series .',\n",
              "  'weirdest . genres . drama television series .',\n",
              "  'weirdest . genres . drama television series .',\n",
              "  'weirdest . genres . drama television series .',\n",
              "  'weirdest . genres . drama television series .',\n",
              "  'weirdest . genres . drama television series .',\n",
              "  'weirdest . genres . drama television series .',\n",
              "  'weirdest . genres . drama television series .',\n",
              "  'weirdest . genres . drama television series .',\n",
              "  'weirdest . genres . drama television series .',\n",
              "  'weirdest . genres . drama television series .',\n",
              "  'weirdest . genres . drama television series .',\n",
              "  'weirdest . genres . drama television series .',\n",
              "  'weirdest . genres . drama television series .',\n",
              "  'weirdest . genres . drama television series .',\n",
              "  'Sasural Simar Ka = rating = bad | ',\n",
              "  'Sasural Simar Ka = rating = bad | ',\n",
              "  'Sasural Simar Ka = rating = bad | ',\n",
              "  'Sasural Simar Ka = rating = bad | ',\n",
              "  'Sasural Simar Ka = rating = bad | ',\n",
              "  'Sasural Simar Ka = rating = bad | ',\n",
              "  'Sasural Simar Ka = rating = bad | ',\n",
              "  'Sasural Simar Ka = rating = bad | ',\n",
              "  'Sasural Simar Ka = rating = bad | ',\n",
              "  'Sasural Simar Ka = rating = bad | ',\n",
              "  'Sasural Simar Ka = genres = drama television series | Sasural Simar Ka = genres = drama television series | Sasural Simar Ka = genres = drama television series | ',\n",
              "  'Sasural Simar Ka = genres = drama television series | Sasural Simar Ka = genres = drama television series | Sasural Simar Ka = genres = drama television series | ',\n",
              "  'Sasural Simar Ka = genres = drama television series | Sasural Simar Ka = genres = drama television series | Sasural Simar Ka = genres = drama television series | ',\n",
              "  'Sasural Simar Ka = genres = drama television series | Sasural Simar Ka = genres = drama television series | Sasural Simar Ka = genres = drama television series | ',\n",
              "  'Sasural Simar Ka = genres = drama television series | Sasural Simar Ka = genres = drama television series | Sasural Simar Ka = genres = drama television series | ',\n",
              "  'Sasural Simar Ka = genres = drama television series | Sasural Simar Ka = genres = drama television series | Sasural Simar Ka = genres = drama television series | ',\n",
              "  'Sasural Simar Ka = genres = drama television series | Sasural Simar Ka = genres = drama television series | Sasural Simar Ka = genres = drama television series | ',\n",
              "  'Sasural Simar Ka = genres = drama television series | Sasural Simar Ka = genres = drama television series | Sasural Simar Ka = genres = drama television series | ',\n",
              "  'Sasural Simar Ka = genres = drama television series | Sasural Simar Ka = genres = drama television series | Sasural Simar Ka = genres = drama television series | ',\n",
              "  'Sasural Simar Ka = genres = drama television series | Sasural Simar Ka = genres = drama television series | Sasural Simar Ka = genres = drama television series | ',\n",
              "  'Sasural Simar Ka = rating = bad | ',\n",
              "  'Sasural Simar Ka = rating = bad | ',\n",
              "  'Sasural Simar Ka = rating = bad | ',\n",
              "  'Sasural Simar Ka = rating = bad | ',\n",
              "  'Sasural Simar Ka = rating = bad | ',\n",
              "  'Sasural Simar Ka = rating = bad | ',\n",
              "  'Sasural Simar Ka = rating = bad | ',\n",
              "  'Sasural Simar Ka = rating = bad | ',\n",
              "  'Sasural Simar Ka = rating = bad | ',\n",
              "  'Sasural Simar Ka = rating = bad | ',\n",
              "  'Everybody Hates Chris = creator = Chris Rock, Chris Rock, Chris Rock | Everybody Hates Chris = other_show = The Chris Rock Show, Totally Biased with W. Kamau Bell, Everybody Hates Chris | Everybody Hates Chris = creator = Chris Rock, Chris Rock, Chris Rock | Everybody Hates Chris = creator = Chris Rock, Chris Rock, Chris Rock | Everybody Hates Chris = genres = teen sitcom, American television sitcom, teen sitcom, American television sitcom | Everybody Hates Chris = creator = Chris Rock, Chris Rock, Chris Rock | Everybody Hates Chris = other_show = The Chris Rock Show, Totally Biased with W. Kamau Bell, Everybody Hates Chris | Everybody Hates Chris = other_show = The Chris Rock Show, Totally Biased with W. Kamau Bell, Everybody Hates Chris | ',\n",
              "  'Everybody Hates Chris = creator = Chris Rock, Chris Rock, Chris Rock | Everybody Hates Chris = other_show = The Chris Rock Show, Totally Biased with W. Kamau Bell, Everybody Hates Chris | Everybody Hates Chris = creator = Chris Rock, Chris Rock, Chris Rock | Everybody Hates Chris = creator = Chris Rock, Chris Rock, Chris Rock | Everybody Hates Chris = genres = teen sitcom, American television sitcom, teen sitcom, American television sitcom | Everybody Hates Chris = creator = Chris Rock, Chris Rock, Chris Rock | Everybody Hates Chris = other_show = The Chris Rock Show, Totally Biased with W. Kamau Bell, Everybody Hates Chris | Everybody Hates Chris = other_show = The Chris Rock Show, Totally Biased with W. Kamau Bell, Everybody Hates Chris | ',\n",
              "  'Everybody Hates Chris = creator = Chris Rock, Chris Rock, Chris Rock | Everybody Hates Chris = other_show = The Chris Rock Show, Totally Biased with W. Kamau Bell, Everybody Hates Chris | Everybody Hates Chris = creator = Chris Rock, Chris Rock, Chris Rock | Everybody Hates Chris = creator = Chris Rock, Chris Rock, Chris Rock | Everybody Hates Chris = genres = teen sitcom, American television sitcom, teen sitcom, American television sitcom | Everybody Hates Chris = creator = Chris Rock, Chris Rock, Chris Rock | Everybody Hates Chris = other_show = The Chris Rock Show, Totally Biased with W. Kamau Bell, Everybody Hates Chris | Everybody Hates Chris = other_show = The Chris Rock Show, Totally Biased with W. Kamau Bell, Everybody Hates Chris | ',\n",
              "  'Everybody Hates Chris = creator = Chris Rock, Chris Rock, Chris Rock | Everybody Hates Chris = other_show = The Chris Rock Show, Totally Biased with W. Kamau Bell, Everybody Hates Chris | Everybody Hates Chris = creator = Chris Rock, Chris Rock, Chris Rock | Everybody Hates Chris = creator = Chris Rock, Chris Rock, Chris Rock | Everybody Hates Chris = genres = teen sitcom, American television sitcom, teen sitcom, American television sitcom | Everybody Hates Chris = creator = Chris Rock, Chris Rock, Chris Rock | Everybody Hates Chris = other_show = The Chris Rock Show, Totally Biased with W. Kamau Bell, Everybody Hates Chris | Everybody Hates Chris = other_show = The Chris Rock Show, Totally Biased with W. Kamau Bell, Everybody Hates Chris | ',\n",
              "  'Everybody Hates Chris = creator = Chris Rock, Chris Rock, Chris Rock | Everybody Hates Chris = other_show = The Chris Rock Show, Totally Biased with W. Kamau Bell, Everybody Hates Chris | Everybody Hates Chris = creator = Chris Rock, Chris Rock, Chris Rock | Everybody Hates Chris = creator = Chris Rock, Chris Rock, Chris Rock | Everybody Hates Chris = genres = teen sitcom, American television sitcom, teen sitcom, American television sitcom | Everybody Hates Chris = creator = Chris Rock, Chris Rock, Chris Rock | Everybody Hates Chris = other_show = The Chris Rock Show, Totally Biased with W. Kamau Bell, Everybody Hates Chris | Everybody Hates Chris = other_show = The Chris Rock Show, Totally Biased with W. Kamau Bell, Everybody Hates Chris | ',\n",
              "  'Everybody Hates Chris = creator = Chris Rock, Chris Rock, Chris Rock | Everybody Hates Chris = other_show = The Chris Rock Show, Totally Biased with W. Kamau Bell, Everybody Hates Chris | Everybody Hates Chris = creator = Chris Rock, Chris Rock, Chris Rock | Everybody Hates Chris = creator = Chris Rock, Chris Rock, Chris Rock | Everybody Hates Chris = genres = teen sitcom, American television sitcom, teen sitcom, American television sitcom | Everybody Hates Chris = creator = Chris Rock, Chris Rock, Chris Rock | Everybody Hates Chris = other_show = The Chris Rock Show, Totally Biased with W. Kamau Bell, Everybody Hates Chris | Everybody Hates Chris = other_show = The Chris Rock Show, Totally Biased with W. Kamau Bell, Everybody Hates Chris | ',\n",
              "  'Everybody Hates Chris = creator = Chris Rock, Chris Rock, Chris Rock | Everybody Hates Chris = other_show = The Chris Rock Show, Totally Biased with W. Kamau Bell, Everybody Hates Chris | Everybody Hates Chris = creator = Chris Rock, Chris Rock, Chris Rock | Everybody Hates Chris = creator = Chris Rock, Chris Rock, Chris Rock | Everybody Hates Chris = genres = teen sitcom, American television sitcom, teen sitcom, American television sitcom | Everybody Hates Chris = creator = Chris Rock, Chris Rock, Chris Rock | Everybody Hates Chris = other_show = The Chris Rock Show, Totally Biased with W. Kamau Bell, Everybody Hates Chris | Everybody Hates Chris = other_show = The Chris Rock Show, Totally Biased with W. Kamau Bell, Everybody Hates Chris | ',\n",
              "  'Everybody Hates Chris = creator = Chris Rock, Chris Rock, Chris Rock | Everybody Hates Chris = other_show = The Chris Rock Show, Totally Biased with W. Kamau Bell, Everybody Hates Chris | Everybody Hates Chris = creator = Chris Rock, Chris Rock, Chris Rock | Everybody Hates Chris = creator = Chris Rock, Chris Rock, Chris Rock | Everybody Hates Chris = genres = teen sitcom, American television sitcom, teen sitcom, American television sitcom | Everybody Hates Chris = creator = Chris Rock, Chris Rock, Chris Rock | Everybody Hates Chris = other_show = The Chris Rock Show, Totally Biased with W. Kamau Bell, Everybody Hates Chris | Everybody Hates Chris = other_show = The Chris Rock Show, Totally Biased with W. Kamau Bell, Everybody Hates Chris | ',\n",
              "  'Everybody Hates Chris = creator = Chris Rock, Chris Rock, Chris Rock | Everybody Hates Chris = other_show = The Chris Rock Show, Totally Biased with W. Kamau Bell, Everybody Hates Chris | Everybody Hates Chris = creator = Chris Rock, Chris Rock, Chris Rock | Everybody Hates Chris = creator = Chris Rock, Chris Rock, Chris Rock | Everybody Hates Chris = genres = teen sitcom, American television sitcom, teen sitcom, American television sitcom | Everybody Hates Chris = creator = Chris Rock, Chris Rock, Chris Rock | Everybody Hates Chris = other_show = The Chris Rock Show, Totally Biased with W. Kamau Bell, Everybody Hates Chris | Everybody Hates Chris = other_show = The Chris Rock Show, Totally Biased with W. Kamau Bell, Everybody Hates Chris | ',\n",
              "  'Everybody Hates Chris = creator = Chris Rock, Chris Rock, Chris Rock | Everybody Hates Chris = other_show = The Chris Rock Show, Totally Biased with W. Kamau Bell, Everybody Hates Chris | Everybody Hates Chris = creator = Chris Rock, Chris Rock, Chris Rock | Everybody Hates Chris = creator = Chris Rock, Chris Rock, Chris Rock | Everybody Hates Chris = genres = teen sitcom, American television sitcom, teen sitcom, American television sitcom | Everybody Hates Chris = creator = Chris Rock, Chris Rock, Chris Rock | Everybody Hates Chris = other_show = The Chris Rock Show, Totally Biased with W. Kamau Bell, Everybody Hates Chris | Everybody Hates Chris = other_show = The Chris Rock Show, Totally Biased with W. Kamau Bell, Everybody Hates Chris | '],\n",
              " 'pseudo': [' Sasural Simar Ka genres drama television series  <|endoftext|>  . Sasural Simar Ka genres drama television series  <|endoftext|>  . Sasural Simar Ka genres drama television series  <|endoftext|>  . Sasural Simar Ka genres drama television series  <|endoftext|>  . Sasural Simar Ka genres drama television series  <|endoftext|>  . Sasural Simar Ka genres drama television series  <|endoftext|>  . Sasural Simar Ka genres drama television series  <|endoftext|>  . Sasural Simar Ka genres drama television series  <|endoftext|>  .',\n",
              "  ' Sasural Simar Ka genres drama television series  <|endoftext|>  . Sasural Simar Ka genres drama television series  <|endoftext|>  . Sasural Simar Ka genres drama television series  <|endoftext|>  . Sasural Simar Ka genres drama television series  <|endoftext|>  . Sasural Simar Ka genres drama television series  <|endoftext|>  . Sasural Simar Ka genres drama television series  <|endoftext|>  . Sasural Simar Ka genres drama television series  <|endoftext|>  . Sasural Simar Ka genres drama television series  <|endoftext|>  .',\n",
              "  ' Sasural Simar Ka genres drama television series  <|endoftext|>  . Sasural Simar Ka genres drama television series  <|endoftext|>  . Sasural Simar Ka genres drama television series  <|endoftext|>  . Sasural Simar Ka genres drama television series  <|endoftext|>  . Sasural Simar Ka genres drama television series  <|endoftext|>  . Sasural Simar Ka genres drama television series  <|endoftext|>  . Sasural Simar Ka genres drama television series  <|endoftext|>  . Sasural Simar Ka genres drama television series  <|endoftext|>  .',\n",
              "  ' Sasural Simar Ka genres drama television series  <|endoftext|>  . Sasural Simar Ka genres drama television series  <|endoftext|>  . Sasural Simar Ka genres drama television series  <|endoftext|>  . Sasural Simar Ka genres drama television series  <|endoftext|>  . Sasural Simar Ka genres drama television series  <|endoftext|>  . Sasural Simar Ka genres drama television series  <|endoftext|>  . Sasural Simar Ka genres drama television series  <|endoftext|>  . Sasural Simar Ka genres drama television series  <|endoftext|>  .',\n",
              "  ' Sasural Simar Ka genres drama television series  <|endoftext|>  . Sasural Simar Ka genres drama television series  <|endoftext|>  . Sasural Simar Ka genres drama television series  <|endoftext|>  . Sasural Simar Ka genres drama television series  <|endoftext|>  . Sasural Simar Ka genres drama television series  <|endoftext|>  . Sasural Simar Ka genres drama television series  <|endoftext|>  . Sasural Simar Ka genres drama television series  <|endoftext|>  . Sasural Simar Ka genres drama television series  <|endoftext|>  .',\n",
              "  ' Sasural Simar Ka genres drama television series  <|endoftext|>  . Sasural Simar Ka genres drama television series  <|endoftext|>  . Sasural Simar Ka genres drama television series  <|endoftext|>  . Sasural Simar Ka genres drama television series  <|endoftext|>  . Sasural Simar Ka genres drama television series  <|endoftext|>  . Sasural Simar Ka genres drama television series  <|endoftext|>  . Sasural Simar Ka genres drama television series  <|endoftext|>  . Sasural Simar Ka genres drama television series  <|endoftext|>  .',\n",
              "  ' Sasural Simar Ka genres drama television series  <|endoftext|>  . Sasural Simar Ka genres drama television series  <|endoftext|>  . Sasural Simar Ka genres drama television series  <|endoftext|>  . Sasural Simar Ka genres drama television series  <|endoftext|>  . Sasural Simar Ka genres drama television series  <|endoftext|>  . Sasural Simar Ka genres drama television series  <|endoftext|>  . Sasural Simar Ka genres drama television series  <|endoftext|>  . Sasural Simar Ka genres drama television series  <|endoftext|>  .',\n",
              "  ' Sasural Simar Ka genres drama television series  <|endoftext|>  . Sasural Simar Ka genres drama television series  <|endoftext|>  . Sasural Simar Ka genres drama television series  <|endoftext|>  . Sasural Simar Ka genres drama television series  <|endoftext|>  . Sasural Simar Ka genres drama television series  <|endoftext|>  . Sasural Simar Ka genres drama television series  <|endoftext|>  . Sasural Simar Ka genres drama television series  <|endoftext|>  . Sasural Simar Ka genres drama television series  <|endoftext|>  .',\n",
              "  ' Sasural Simar Ka genres drama television series  <|endoftext|>  . Sasural Simar Ka genres drama television series  <|endoftext|>  . Sasural Simar Ka genres drama television series  <|endoftext|>  . Sasural Simar Ka genres drama television series  <|endoftext|>  . Sasural Simar Ka genres drama television series  <|endoftext|>  . Sasural Simar Ka genres drama television series  <|endoftext|>  . Sasural Simar Ka genres drama television series  <|endoftext|>  . Sasural Simar Ka genres drama television series  <|endoftext|>  .',\n",
              "  ' Sasural Simar Ka genres drama television series  <|endoftext|>  . Sasural Simar Ka genres drama television series  <|endoftext|>  . Sasural Simar Ka genres drama television series  <|endoftext|>  . Sasural Simar Ka genres drama television series  <|endoftext|>  . Sasural Simar Ka genres drama television series  <|endoftext|>  . Sasural Simar Ka genres drama television series  <|endoftext|>  . Sasural Simar Ka genres drama television series  <|endoftext|>  . Sasural Simar Ka genres drama television series  <|endoftext|>  .',\n",
              "  ' Sasural Simar Ka genres drama television series  <|endoftext|>  . Sasural Simar Ka genres drama television series  <|endoftext|>  . Sasural Simar Ka genres drama television series  <|endoftext|>  .',\n",
              "  ' Sasural Simar Ka genres drama television series  <|endoftext|>  . Sasural Simar Ka genres drama television series  <|endoftext|>  . Sasural Simar Ka genres drama television series  <|endoftext|>  .',\n",
              "  ' Sasural Simar Ka genres drama television series  <|endoftext|>  . Sasural Simar Ka genres drama television series  <|endoftext|>  . Sasural Simar Ka genres drama television series  <|endoftext|>  .',\n",
              "  ' Sasural Simar Ka genres drama television series  <|endoftext|>  . Sasural Simar Ka genres drama television series  <|endoftext|>  . Sasural Simar Ka genres drama television series  <|endoftext|>  .',\n",
              "  ' Sasural Simar Ka genres drama television series  <|endoftext|>  . Sasural Simar Ka genres drama television series  <|endoftext|>  . Sasural Simar Ka genres drama television series  <|endoftext|>  .',\n",
              "  ' Sasural Simar Ka genres drama television series  <|endoftext|>  . Sasural Simar Ka genres drama television series  <|endoftext|>  . Sasural Simar Ka genres drama television series  <|endoftext|>  .',\n",
              "  ' Sasural Simar Ka genres drama television series  <|endoftext|>  . Sasural Simar Ka genres drama television series  <|endoftext|>  . Sasural Simar Ka genres drama television series  <|endoftext|>  .',\n",
              "  ' Sasural Simar Ka genres drama television series  <|endoftext|>  . Sasural Simar Ka genres drama television series  <|endoftext|>  . Sasural Simar Ka genres drama television series  <|endoftext|>  .',\n",
              "  ' Sasural Simar Ka genres drama television series  <|endoftext|>  . Sasural Simar Ka genres drama television series  <|endoftext|>  . Sasural Simar Ka genres drama television series  <|endoftext|>  .',\n",
              "  ' Sasural Simar Ka genres drama television series  <|endoftext|>  . Sasural Simar Ka genres drama television series  <|endoftext|>  . Sasural Simar Ka genres drama television series  <|endoftext|>  .',\n",
              "  ' Sasural Simar Ka rating bad  <|endoftext|>  . Sasural Simar Ka genres drama television series  <|endoftext|>  .',\n",
              "  ' Sasural Simar Ka rating bad  <|endoftext|>  . Sasural Simar Ka genres drama television series  <|endoftext|>  .',\n",
              "  ' Sasural Simar Ka rating bad  <|endoftext|>  . Sasural Simar Ka genres drama television series  <|endoftext|>  .',\n",
              "  ' Sasural Simar Ka rating bad  <|endoftext|>  . Sasural Simar Ka genres drama television series  <|endoftext|>  .',\n",
              "  ' Sasural Simar Ka rating bad  <|endoftext|>  . Sasural Simar Ka genres drama television series  <|endoftext|>  .',\n",
              "  ' Sasural Simar Ka rating bad  <|endoftext|>  . Sasural Simar Ka genres drama television series  <|endoftext|>  .',\n",
              "  ' Sasural Simar Ka rating bad  <|endoftext|>  . Sasural Simar Ka genres drama television series  <|endoftext|>  .',\n",
              "  ' Sasural Simar Ka rating bad  <|endoftext|>  . Sasural Simar Ka genres drama television series  <|endoftext|>  .',\n",
              "  ' Sasural Simar Ka rating bad  <|endoftext|>  . Sasural Simar Ka genres drama television series  <|endoftext|>  .',\n",
              "  ' Sasural Simar Ka rating bad  <|endoftext|>  . Sasural Simar Ka genres drama television series  <|endoftext|>  .',\n",
              "  ' Sasural Simar Ka genres drama television series  <|endoftext|>  . Sasural Simar Ka genres drama television series  <|endoftext|>  . Sasural Simar Ka genres drama television series  <|endoftext|>  . Sasural Simar Ka genres drama television series  <|endoftext|>  .',\n",
              "  ' Sasural Simar Ka genres drama television series  <|endoftext|>  . Sasural Simar Ka genres drama television series  <|endoftext|>  . Sasural Simar Ka genres drama television series  <|endoftext|>  . Sasural Simar Ka genres drama television series  <|endoftext|>  .',\n",
              "  ' Sasural Simar Ka genres drama television series  <|endoftext|>  . Sasural Simar Ka genres drama television series  <|endoftext|>  . Sasural Simar Ka genres drama television series  <|endoftext|>  . Sasural Simar Ka genres drama television series  <|endoftext|>  .',\n",
              "  ' Sasural Simar Ka genres drama television series  <|endoftext|>  . Sasural Simar Ka genres drama television series  <|endoftext|>  . Sasural Simar Ka genres drama television series  <|endoftext|>  . Sasural Simar Ka genres drama television series  <|endoftext|>  .',\n",
              "  ' Sasural Simar Ka genres drama television series  <|endoftext|>  . Sasural Simar Ka genres drama television series  <|endoftext|>  . Sasural Simar Ka genres drama television series  <|endoftext|>  . Sasural Simar Ka genres drama television series  <|endoftext|>  .',\n",
              "  ' Sasural Simar Ka genres drama television series  <|endoftext|>  . Sasural Simar Ka genres drama television series  <|endoftext|>  . Sasural Simar Ka genres drama television series  <|endoftext|>  . Sasural Simar Ka genres drama television series  <|endoftext|>  .',\n",
              "  ' Sasural Simar Ka genres drama television series  <|endoftext|>  . Sasural Simar Ka genres drama television series  <|endoftext|>  . Sasural Simar Ka genres drama television series  <|endoftext|>  . Sasural Simar Ka genres drama television series  <|endoftext|>  .',\n",
              "  ' Sasural Simar Ka genres drama television series  <|endoftext|>  . Sasural Simar Ka genres drama television series  <|endoftext|>  . Sasural Simar Ka genres drama television series  <|endoftext|>  . Sasural Simar Ka genres drama television series  <|endoftext|>  .',\n",
              "  ' Sasural Simar Ka genres drama television series  <|endoftext|>  . Sasural Simar Ka genres drama television series  <|endoftext|>  . Sasural Simar Ka genres drama television series  <|endoftext|>  . Sasural Simar Ka genres drama television series  <|endoftext|>  .',\n",
              "  ' Sasural Simar Ka genres drama television series  <|endoftext|>  . Sasural Simar Ka genres drama television series  <|endoftext|>  . Sasural Simar Ka genres drama television series  <|endoftext|>  . Sasural Simar Ka genres drama television series  <|endoftext|>  .',\n",
              "  ' <|startoftext|>  weirdest genres drama television series  <|endoftext|>  .',\n",
              "  ' <|startoftext|>  weirdest genres drama television series  <|endoftext|>  .',\n",
              "  ' <|startoftext|>  weirdest genres drama television series  <|endoftext|>  .',\n",
              "  ' <|startoftext|>  weirdest genres drama television series  <|endoftext|>  .',\n",
              "  ' <|startoftext|>  weirdest genres drama television series  <|endoftext|>  .',\n",
              "  ' <|startoftext|>  weirdest genres drama television series  <|endoftext|>  .',\n",
              "  ' <|startoftext|>  weirdest genres drama television series  <|endoftext|>  .',\n",
              "  ' <|startoftext|>  weirdest genres drama television series  <|endoftext|>  .',\n",
              "  ' <|startoftext|>  weirdest genres drama television series  <|endoftext|>  .',\n",
              "  ' <|startoftext|>  weirdest genres drama television series  <|endoftext|>  .',\n",
              "  ' <|startoftext|>  weirdest genres drama television series  <|endoftext|>  .',\n",
              "  ' <|startoftext|>  weirdest genres drama television series  <|endoftext|>  .',\n",
              "  ' <|startoftext|>  weirdest genres drama television series  <|endoftext|>  .',\n",
              "  ' <|startoftext|>  weirdest genres drama television series  <|endoftext|>  .',\n",
              "  ' <|startoftext|>  weirdest genres drama television series  <|endoftext|>  .',\n",
              "  ' <|startoftext|>  weirdest genres drama television series  <|endoftext|>  .',\n",
              "  ' <|startoftext|>  weirdest genres drama television series  <|endoftext|>  .',\n",
              "  ' <|startoftext|>  weirdest genres drama television series  <|endoftext|>  .',\n",
              "  ' <|startoftext|>  weirdest genres drama television series  <|endoftext|>  .',\n",
              "  ' <|startoftext|>  weirdest genres drama television series  <|endoftext|>  .',\n",
              "  ' Sasural Simar Ka rating bad  <|endoftext|>  .',\n",
              "  ' Sasural Simar Ka rating bad  <|endoftext|>  .',\n",
              "  ' Sasural Simar Ka rating bad  <|endoftext|>  .',\n",
              "  ' Sasural Simar Ka rating bad  <|endoftext|>  .',\n",
              "  ' Sasural Simar Ka rating bad  <|endoftext|>  .',\n",
              "  ' Sasural Simar Ka rating bad  <|endoftext|>  .',\n",
              "  ' Sasural Simar Ka rating bad  <|endoftext|>  .',\n",
              "  ' Sasural Simar Ka rating bad  <|endoftext|>  .',\n",
              "  ' Sasural Simar Ka rating bad  <|endoftext|>  .',\n",
              "  ' Sasural Simar Ka rating bad  <|endoftext|>  .',\n",
              "  ' Sasural Simar Ka genres drama television series  <|endoftext|>  . Sasural Simar Ka genres drama television series  <|endoftext|>  . Sasural Simar Ka genres drama television series  <|endoftext|>  .',\n",
              "  ' Sasural Simar Ka genres drama television series  <|endoftext|>  . Sasural Simar Ka genres drama television series  <|endoftext|>  . Sasural Simar Ka genres drama television series  <|endoftext|>  .',\n",
              "  ' Sasural Simar Ka genres drama television series  <|endoftext|>  . Sasural Simar Ka genres drama television series  <|endoftext|>  . Sasural Simar Ka genres drama television series  <|endoftext|>  .',\n",
              "  ' Sasural Simar Ka genres drama television series  <|endoftext|>  . Sasural Simar Ka genres drama television series  <|endoftext|>  . Sasural Simar Ka genres drama television series  <|endoftext|>  .',\n",
              "  ' Sasural Simar Ka genres drama television series  <|endoftext|>  . Sasural Simar Ka genres drama television series  <|endoftext|>  . Sasural Simar Ka genres drama television series  <|endoftext|>  .',\n",
              "  ' Sasural Simar Ka genres drama television series  <|endoftext|>  . Sasural Simar Ka genres drama television series  <|endoftext|>  . Sasural Simar Ka genres drama television series  <|endoftext|>  .',\n",
              "  ' Sasural Simar Ka genres drama television series  <|endoftext|>  . Sasural Simar Ka genres drama television series  <|endoftext|>  . Sasural Simar Ka genres drama television series  <|endoftext|>  .',\n",
              "  ' Sasural Simar Ka genres drama television series  <|endoftext|>  . Sasural Simar Ka genres drama television series  <|endoftext|>  . Sasural Simar Ka genres drama television series  <|endoftext|>  .',\n",
              "  ' Sasural Simar Ka genres drama television series  <|endoftext|>  . Sasural Simar Ka genres drama television series  <|endoftext|>  . Sasural Simar Ka genres drama television series  <|endoftext|>  .',\n",
              "  ' Sasural Simar Ka genres drama television series  <|endoftext|>  . Sasural Simar Ka genres drama television series  <|endoftext|>  . Sasural Simar Ka genres drama television series  <|endoftext|>  .',\n",
              "  ' Sasural Simar Ka rating bad  <|endoftext|>  .',\n",
              "  ' Sasural Simar Ka rating bad  <|endoftext|>  .',\n",
              "  ' Sasural Simar Ka rating bad  <|endoftext|>  .',\n",
              "  ' Sasural Simar Ka rating bad  <|endoftext|>  .',\n",
              "  ' Sasural Simar Ka rating bad  <|endoftext|>  .',\n",
              "  ' Sasural Simar Ka rating bad  <|endoftext|>  .',\n",
              "  ' Sasural Simar Ka rating bad  <|endoftext|>  .',\n",
              "  ' Sasural Simar Ka rating bad  <|endoftext|>  .',\n",
              "  ' Sasural Simar Ka rating bad  <|endoftext|>  .',\n",
              "  ' Sasural Simar Ka rating bad  <|endoftext|>  .',\n",
              "  ' Everybody Hates Chris creator Chris Rock, Chris Rock, Chris Rock  <|endoftext|>  . Everybody Hates Chris other_show The Chris Rock Show, Totally Biased with W. Kamau Bell, Everybody Hates Chris  <|endoftext|>  . Everybody Hates Chris creator Chris Rock, Chris Rock, Chris Rock  <|endoftext|>  . Everybody Hates Chris creator Chris Rock, Chris Rock, Chris Rock  <|endoftext|>  . Everybody Hates Chris genres teen sitcom, American television sitcom, teen sitcom, American television sitcom  <|endoftext|>  . Everybody Hates Chris creator Chris Rock, Chris Rock, Chris Rock  <|endoftext|>  . Everybody Hates Chris other_show The Chris Rock Show, Totally Biased with W. Kamau Bell, Everybody Hates Chris  <|endoftext|>  . Everybody Hates Chris other_show The Chris Rock Show, Totally Biased with W. Kamau Bell, Everybody Hates Chris  <|endoftext|>  .',\n",
              "  ' Everybody Hates Chris creator Chris Rock, Chris Rock, Chris Rock  <|endoftext|>  . Everybody Hates Chris other_show The Chris Rock Show, Totally Biased with W. Kamau Bell, Everybody Hates Chris  <|endoftext|>  . Everybody Hates Chris creator Chris Rock, Chris Rock, Chris Rock  <|endoftext|>  . Everybody Hates Chris creator Chris Rock, Chris Rock, Chris Rock  <|endoftext|>  . Everybody Hates Chris genres teen sitcom, American television sitcom, teen sitcom, American television sitcom  <|endoftext|>  . Everybody Hates Chris creator Chris Rock, Chris Rock, Chris Rock  <|endoftext|>  . Everybody Hates Chris other_show The Chris Rock Show, Totally Biased with W. Kamau Bell, Everybody Hates Chris  <|endoftext|>  . Everybody Hates Chris other_show The Chris Rock Show, Totally Biased with W. Kamau Bell, Everybody Hates Chris  <|endoftext|>  .',\n",
              "  ' Everybody Hates Chris creator Chris Rock, Chris Rock, Chris Rock  <|endoftext|>  . Everybody Hates Chris other_show The Chris Rock Show, Totally Biased with W. Kamau Bell, Everybody Hates Chris  <|endoftext|>  . Everybody Hates Chris creator Chris Rock, Chris Rock, Chris Rock  <|endoftext|>  . Everybody Hates Chris creator Chris Rock, Chris Rock, Chris Rock  <|endoftext|>  . Everybody Hates Chris genres teen sitcom, American television sitcom, teen sitcom, American television sitcom  <|endoftext|>  . Everybody Hates Chris creator Chris Rock, Chris Rock, Chris Rock  <|endoftext|>  . Everybody Hates Chris other_show The Chris Rock Show, Totally Biased with W. Kamau Bell, Everybody Hates Chris  <|endoftext|>  . Everybody Hates Chris other_show The Chris Rock Show, Totally Biased with W. Kamau Bell, Everybody Hates Chris  <|endoftext|>  .',\n",
              "  ' Everybody Hates Chris creator Chris Rock, Chris Rock, Chris Rock  <|endoftext|>  . Everybody Hates Chris other_show The Chris Rock Show, Totally Biased with W. Kamau Bell, Everybody Hates Chris  <|endoftext|>  . Everybody Hates Chris creator Chris Rock, Chris Rock, Chris Rock  <|endoftext|>  . Everybody Hates Chris creator Chris Rock, Chris Rock, Chris Rock  <|endoftext|>  . Everybody Hates Chris genres teen sitcom, American television sitcom, teen sitcom, American television sitcom  <|endoftext|>  . Everybody Hates Chris creator Chris Rock, Chris Rock, Chris Rock  <|endoftext|>  . Everybody Hates Chris other_show The Chris Rock Show, Totally Biased with W. Kamau Bell, Everybody Hates Chris  <|endoftext|>  . Everybody Hates Chris other_show The Chris Rock Show, Totally Biased with W. Kamau Bell, Everybody Hates Chris  <|endoftext|>  .',\n",
              "  ' Everybody Hates Chris creator Chris Rock, Chris Rock, Chris Rock  <|endoftext|>  . Everybody Hates Chris other_show The Chris Rock Show, Totally Biased with W. Kamau Bell, Everybody Hates Chris  <|endoftext|>  . Everybody Hates Chris creator Chris Rock, Chris Rock, Chris Rock  <|endoftext|>  . Everybody Hates Chris creator Chris Rock, Chris Rock, Chris Rock  <|endoftext|>  . Everybody Hates Chris genres teen sitcom, American television sitcom, teen sitcom, American television sitcom  <|endoftext|>  . Everybody Hates Chris creator Chris Rock, Chris Rock, Chris Rock  <|endoftext|>  . Everybody Hates Chris other_show The Chris Rock Show, Totally Biased with W. Kamau Bell, Everybody Hates Chris  <|endoftext|>  . Everybody Hates Chris other_show The Chris Rock Show, Totally Biased with W. Kamau Bell, Everybody Hates Chris  <|endoftext|>  .',\n",
              "  ' Everybody Hates Chris creator Chris Rock, Chris Rock, Chris Rock  <|endoftext|>  . Everybody Hates Chris other_show The Chris Rock Show, Totally Biased with W. Kamau Bell, Everybody Hates Chris  <|endoftext|>  . Everybody Hates Chris creator Chris Rock, Chris Rock, Chris Rock  <|endoftext|>  . Everybody Hates Chris creator Chris Rock, Chris Rock, Chris Rock  <|endoftext|>  . Everybody Hates Chris genres teen sitcom, American television sitcom, teen sitcom, American television sitcom  <|endoftext|>  . Everybody Hates Chris creator Chris Rock, Chris Rock, Chris Rock  <|endoftext|>  . Everybody Hates Chris other_show The Chris Rock Show, Totally Biased with W. Kamau Bell, Everybody Hates Chris  <|endoftext|>  . Everybody Hates Chris other_show The Chris Rock Show, Totally Biased with W. Kamau Bell, Everybody Hates Chris  <|endoftext|>  .',\n",
              "  ' Everybody Hates Chris creator Chris Rock, Chris Rock, Chris Rock  <|endoftext|>  . Everybody Hates Chris other_show The Chris Rock Show, Totally Biased with W. Kamau Bell, Everybody Hates Chris  <|endoftext|>  . Everybody Hates Chris creator Chris Rock, Chris Rock, Chris Rock  <|endoftext|>  . Everybody Hates Chris creator Chris Rock, Chris Rock, Chris Rock  <|endoftext|>  . Everybody Hates Chris genres teen sitcom, American television sitcom, teen sitcom, American television sitcom  <|endoftext|>  . Everybody Hates Chris creator Chris Rock, Chris Rock, Chris Rock  <|endoftext|>  . Everybody Hates Chris other_show The Chris Rock Show, Totally Biased with W. Kamau Bell, Everybody Hates Chris  <|endoftext|>  . Everybody Hates Chris other_show The Chris Rock Show, Totally Biased with W. Kamau Bell, Everybody Hates Chris  <|endoftext|>  .',\n",
              "  ' Everybody Hates Chris creator Chris Rock, Chris Rock, Chris Rock  <|endoftext|>  . Everybody Hates Chris other_show The Chris Rock Show, Totally Biased with W. Kamau Bell, Everybody Hates Chris  <|endoftext|>  . Everybody Hates Chris creator Chris Rock, Chris Rock, Chris Rock  <|endoftext|>  . Everybody Hates Chris creator Chris Rock, Chris Rock, Chris Rock  <|endoftext|>  . Everybody Hates Chris genres teen sitcom, American television sitcom, teen sitcom, American television sitcom  <|endoftext|>  . Everybody Hates Chris creator Chris Rock, Chris Rock, Chris Rock  <|endoftext|>  . Everybody Hates Chris other_show The Chris Rock Show, Totally Biased with W. Kamau Bell, Everybody Hates Chris  <|endoftext|>  . Everybody Hates Chris other_show The Chris Rock Show, Totally Biased with W. Kamau Bell, Everybody Hates Chris  <|endoftext|>  .',\n",
              "  ' Everybody Hates Chris creator Chris Rock, Chris Rock, Chris Rock  <|endoftext|>  . Everybody Hates Chris other_show The Chris Rock Show, Totally Biased with W. Kamau Bell, Everybody Hates Chris  <|endoftext|>  . Everybody Hates Chris creator Chris Rock, Chris Rock, Chris Rock  <|endoftext|>  . Everybody Hates Chris creator Chris Rock, Chris Rock, Chris Rock  <|endoftext|>  . Everybody Hates Chris genres teen sitcom, American television sitcom, teen sitcom, American television sitcom  <|endoftext|>  . Everybody Hates Chris creator Chris Rock, Chris Rock, Chris Rock  <|endoftext|>  . Everybody Hates Chris other_show The Chris Rock Show, Totally Biased with W. Kamau Bell, Everybody Hates Chris  <|endoftext|>  . Everybody Hates Chris other_show The Chris Rock Show, Totally Biased with W. Kamau Bell, Everybody Hates Chris  <|endoftext|>  .',\n",
              "  ' Everybody Hates Chris creator Chris Rock, Chris Rock, Chris Rock  <|endoftext|>  . Everybody Hates Chris other_show The Chris Rock Show, Totally Biased with W. Kamau Bell, Everybody Hates Chris  <|endoftext|>  . Everybody Hates Chris creator Chris Rock, Chris Rock, Chris Rock  <|endoftext|>  . Everybody Hates Chris creator Chris Rock, Chris Rock, Chris Rock  <|endoftext|>  . Everybody Hates Chris genres teen sitcom, American television sitcom, teen sitcom, American television sitcom  <|endoftext|>  . Everybody Hates Chris creator Chris Rock, Chris Rock, Chris Rock  <|endoftext|>  . Everybody Hates Chris other_show The Chris Rock Show, Totally Biased with W. Kamau Bell, Everybody Hates Chris  <|endoftext|>  . Everybody Hates Chris other_show The Chris Rock Show, Totally Biased with W. Kamau Bell, Everybody Hates Chris  <|endoftext|>  .'],\n",
              " 'callison': ['Now here is a pseudo text: \" Sasural Simar Ka genres drama television series  <|endoftext|>  . Sasural Simar Ka genres drama television series  <|endoftext|>  . Sasural Simar Ka genres drama television series  <|endoftext|>  . Sasural Simar Ka genres drama television series  <|endoftext|>  . Sasural Simar Ka genres drama television series  <|endoftext|>  . Sasural Simar Ka genres drama television series  <|endoftext|>  . Sasural Simar Ka genres drama television series  <|endoftext|>  . Sasural Simar Ka genres drama television series  <|endoftext|>  .\". Rewrite it for a inform dialogue act:  \"',\n",
              "  'Now here is a pseudo text: \" Sasural Simar Ka genres drama television series  <|endoftext|>  . Sasural Simar Ka genres drama television series  <|endoftext|>  . Sasural Simar Ka genres drama television series  <|endoftext|>  . Sasural Simar Ka genres drama television series  <|endoftext|>  . Sasural Simar Ka genres drama television series  <|endoftext|>  . Sasural Simar Ka genres drama television series  <|endoftext|>  . Sasural Simar Ka genres drama television series  <|endoftext|>  . Sasural Simar Ka genres drama television series  <|endoftext|>  .\". Rewrite it for a inform dialogue act:  \"',\n",
              "  'Now here is a pseudo text: \" Sasural Simar Ka genres drama television series  <|endoftext|>  . Sasural Simar Ka genres drama television series  <|endoftext|>  . Sasural Simar Ka genres drama television series  <|endoftext|>  . Sasural Simar Ka genres drama television series  <|endoftext|>  . Sasural Simar Ka genres drama television series  <|endoftext|>  . Sasural Simar Ka genres drama television series  <|endoftext|>  . Sasural Simar Ka genres drama television series  <|endoftext|>  . Sasural Simar Ka genres drama television series  <|endoftext|>  .\". Rewrite it for a inform dialogue act:  \"',\n",
              "  'Now here is a pseudo text: \" Sasural Simar Ka genres drama television series  <|endoftext|>  . Sasural Simar Ka genres drama television series  <|endoftext|>  . Sasural Simar Ka genres drama television series  <|endoftext|>  . Sasural Simar Ka genres drama television series  <|endoftext|>  . Sasural Simar Ka genres drama television series  <|endoftext|>  . Sasural Simar Ka genres drama television series  <|endoftext|>  . Sasural Simar Ka genres drama television series  <|endoftext|>  . Sasural Simar Ka genres drama television series  <|endoftext|>  .\". Rewrite it for a inform dialogue act:  \"',\n",
              "  'Now here is a pseudo text: \" Sasural Simar Ka genres drama television series  <|endoftext|>  . Sasural Simar Ka genres drama television series  <|endoftext|>  . Sasural Simar Ka genres drama television series  <|endoftext|>  . Sasural Simar Ka genres drama television series  <|endoftext|>  . Sasural Simar Ka genres drama television series  <|endoftext|>  . Sasural Simar Ka genres drama television series  <|endoftext|>  . Sasural Simar Ka genres drama television series  <|endoftext|>  . Sasural Simar Ka genres drama television series  <|endoftext|>  .\". Rewrite it for a inform dialogue act:  \"',\n",
              "  'Now here is a pseudo text: \" Sasural Simar Ka genres drama television series  <|endoftext|>  . Sasural Simar Ka genres drama television series  <|endoftext|>  . Sasural Simar Ka genres drama television series  <|endoftext|>  . Sasural Simar Ka genres drama television series  <|endoftext|>  . Sasural Simar Ka genres drama television series  <|endoftext|>  . Sasural Simar Ka genres drama television series  <|endoftext|>  . Sasural Simar Ka genres drama television series  <|endoftext|>  . Sasural Simar Ka genres drama television series  <|endoftext|>  .\". Rewrite it for a inform dialogue act:  \"',\n",
              "  'Now here is a pseudo text: \" Sasural Simar Ka genres drama television series  <|endoftext|>  . Sasural Simar Ka genres drama television series  <|endoftext|>  . Sasural Simar Ka genres drama television series  <|endoftext|>  . Sasural Simar Ka genres drama television series  <|endoftext|>  . Sasural Simar Ka genres drama television series  <|endoftext|>  . Sasural Simar Ka genres drama television series  <|endoftext|>  . Sasural Simar Ka genres drama television series  <|endoftext|>  . Sasural Simar Ka genres drama television series  <|endoftext|>  .\". Rewrite it for a inform dialogue act:  \"',\n",
              "  'Now here is a pseudo text: \" Sasural Simar Ka genres drama television series  <|endoftext|>  . Sasural Simar Ka genres drama television series  <|endoftext|>  . Sasural Simar Ka genres drama television series  <|endoftext|>  . Sasural Simar Ka genres drama television series  <|endoftext|>  . Sasural Simar Ka genres drama television series  <|endoftext|>  . Sasural Simar Ka genres drama television series  <|endoftext|>  . Sasural Simar Ka genres drama television series  <|endoftext|>  . Sasural Simar Ka genres drama television series  <|endoftext|>  .\". Rewrite it for a inform dialogue act:  \"',\n",
              "  'Now here is a pseudo text: \" Sasural Simar Ka genres drama television series  <|endoftext|>  . Sasural Simar Ka genres drama television series  <|endoftext|>  . Sasural Simar Ka genres drama television series  <|endoftext|>  . Sasural Simar Ka genres drama television series  <|endoftext|>  . Sasural Simar Ka genres drama television series  <|endoftext|>  . Sasural Simar Ka genres drama television series  <|endoftext|>  . Sasural Simar Ka genres drama television series  <|endoftext|>  . Sasural Simar Ka genres drama television series  <|endoftext|>  .\". Rewrite it for a inform dialogue act:  \"',\n",
              "  'Now here is a pseudo text: \" Sasural Simar Ka genres drama television series  <|endoftext|>  . Sasural Simar Ka genres drama television series  <|endoftext|>  . Sasural Simar Ka genres drama television series  <|endoftext|>  . Sasural Simar Ka genres drama television series  <|endoftext|>  . Sasural Simar Ka genres drama television series  <|endoftext|>  . Sasural Simar Ka genres drama television series  <|endoftext|>  . Sasural Simar Ka genres drama television series  <|endoftext|>  . Sasural Simar Ka genres drama television series  <|endoftext|>  .\". Rewrite it for a inform dialogue act:  \"',\n",
              "  'Now here is a pseudo text: \" Sasural Simar Ka genres drama television series  <|endoftext|>  . Sasural Simar Ka genres drama television series  <|endoftext|>  . Sasural Simar Ka genres drama television series  <|endoftext|>  .\". Rewrite it for a confirm dialogue act:  \"',\n",
              "  'Now here is a pseudo text: \" Sasural Simar Ka genres drama television series  <|endoftext|>  . Sasural Simar Ka genres drama television series  <|endoftext|>  . Sasural Simar Ka genres drama television series  <|endoftext|>  .\". Rewrite it for a confirm dialogue act:  \"',\n",
              "  'Now here is a pseudo text: \" Sasural Simar Ka genres drama television series  <|endoftext|>  . Sasural Simar Ka genres drama television series  <|endoftext|>  . Sasural Simar Ka genres drama television series  <|endoftext|>  .\". Rewrite it for a confirm dialogue act:  \"',\n",
              "  'Now here is a pseudo text: \" Sasural Simar Ka genres drama television series  <|endoftext|>  . Sasural Simar Ka genres drama television series  <|endoftext|>  . Sasural Simar Ka genres drama television series  <|endoftext|>  .\". Rewrite it for a confirm dialogue act:  \"',\n",
              "  'Now here is a pseudo text: \" Sasural Simar Ka genres drama television series  <|endoftext|>  . Sasural Simar Ka genres drama television series  <|endoftext|>  . Sasural Simar Ka genres drama television series  <|endoftext|>  .\". Rewrite it for a confirm dialogue act:  \"',\n",
              "  'Now here is a pseudo text: \" Sasural Simar Ka genres drama television series  <|endoftext|>  . Sasural Simar Ka genres drama television series  <|endoftext|>  . Sasural Simar Ka genres drama television series  <|endoftext|>  .\". Rewrite it for a confirm dialogue act:  \"',\n",
              "  'Now here is a pseudo text: \" Sasural Simar Ka genres drama television series  <|endoftext|>  . Sasural Simar Ka genres drama television series  <|endoftext|>  . Sasural Simar Ka genres drama television series  <|endoftext|>  .\". Rewrite it for a confirm dialogue act:  \"',\n",
              "  'Now here is a pseudo text: \" Sasural Simar Ka genres drama television series  <|endoftext|>  . Sasural Simar Ka genres drama television series  <|endoftext|>  . Sasural Simar Ka genres drama television series  <|endoftext|>  .\". Rewrite it for a confirm dialogue act:  \"',\n",
              "  'Now here is a pseudo text: \" Sasural Simar Ka genres drama television series  <|endoftext|>  . Sasural Simar Ka genres drama television series  <|endoftext|>  . Sasural Simar Ka genres drama television series  <|endoftext|>  .\". Rewrite it for a confirm dialogue act:  \"',\n",
              "  'Now here is a pseudo text: \" Sasural Simar Ka genres drama television series  <|endoftext|>  . Sasural Simar Ka genres drama television series  <|endoftext|>  . Sasural Simar Ka genres drama television series  <|endoftext|>  .\". Rewrite it for a confirm dialogue act:  \"',\n",
              "  'Now here is a pseudo text: \" Sasural Simar Ka rating bad  <|endoftext|>  . Sasural Simar Ka genres drama television series  <|endoftext|>  .\". Rewrite it for a give opinion dialogue act:  \"',\n",
              "  'Now here is a pseudo text: \" Sasural Simar Ka rating bad  <|endoftext|>  . Sasural Simar Ka genres drama television series  <|endoftext|>  .\". Rewrite it for a give opinion dialogue act:  \"',\n",
              "  'Now here is a pseudo text: \" Sasural Simar Ka rating bad  <|endoftext|>  . Sasural Simar Ka genres drama television series  <|endoftext|>  .\". Rewrite it for a give opinion dialogue act:  \"',\n",
              "  'Now here is a pseudo text: \" Sasural Simar Ka rating bad  <|endoftext|>  . Sasural Simar Ka genres drama television series  <|endoftext|>  .\". Rewrite it for a give opinion dialogue act:  \"',\n",
              "  'Now here is a pseudo text: \" Sasural Simar Ka rating bad  <|endoftext|>  . Sasural Simar Ka genres drama television series  <|endoftext|>  .\". Rewrite it for a give opinion dialogue act:  \"',\n",
              "  'Now here is a pseudo text: \" Sasural Simar Ka rating bad  <|endoftext|>  . Sasural Simar Ka genres drama television series  <|endoftext|>  .\". Rewrite it for a give opinion dialogue act:  \"',\n",
              "  'Now here is a pseudo text: \" Sasural Simar Ka rating bad  <|endoftext|>  . Sasural Simar Ka genres drama television series  <|endoftext|>  .\". Rewrite it for a give opinion dialogue act:  \"',\n",
              "  'Now here is a pseudo text: \" Sasural Simar Ka rating bad  <|endoftext|>  . Sasural Simar Ka genres drama television series  <|endoftext|>  .\". Rewrite it for a give opinion dialogue act:  \"',\n",
              "  'Now here is a pseudo text: \" Sasural Simar Ka rating bad  <|endoftext|>  . Sasural Simar Ka genres drama television series  <|endoftext|>  .\". Rewrite it for a give opinion dialogue act:  \"',\n",
              "  'Now here is a pseudo text: \" Sasural Simar Ka rating bad  <|endoftext|>  . Sasural Simar Ka genres drama television series  <|endoftext|>  .\". Rewrite it for a give opinion dialogue act:  \"',\n",
              "  'Now here is a pseudo text: \" Sasural Simar Ka genres drama television series  <|endoftext|>  . Sasural Simar Ka genres drama television series  <|endoftext|>  . Sasural Simar Ka genres drama television series  <|endoftext|>  . Sasural Simar Ka genres drama television series  <|endoftext|>  .\". Rewrite it for a recommend dialogue act:  \"',\n",
              "  'Now here is a pseudo text: \" Sasural Simar Ka genres drama television series  <|endoftext|>  . Sasural Simar Ka genres drama television series  <|endoftext|>  . Sasural Simar Ka genres drama television series  <|endoftext|>  . Sasural Simar Ka genres drama television series  <|endoftext|>  .\". Rewrite it for a recommend dialogue act:  \"',\n",
              "  'Now here is a pseudo text: \" Sasural Simar Ka genres drama television series  <|endoftext|>  . Sasural Simar Ka genres drama television series  <|endoftext|>  . Sasural Simar Ka genres drama television series  <|endoftext|>  . Sasural Simar Ka genres drama television series  <|endoftext|>  .\". Rewrite it for a recommend dialogue act:  \"',\n",
              "  'Now here is a pseudo text: \" Sasural Simar Ka genres drama television series  <|endoftext|>  . Sasural Simar Ka genres drama television series  <|endoftext|>  . Sasural Simar Ka genres drama television series  <|endoftext|>  . Sasural Simar Ka genres drama television series  <|endoftext|>  .\". Rewrite it for a recommend dialogue act:  \"',\n",
              "  'Now here is a pseudo text: \" Sasural Simar Ka genres drama television series  <|endoftext|>  . Sasural Simar Ka genres drama television series  <|endoftext|>  . Sasural Simar Ka genres drama television series  <|endoftext|>  . Sasural Simar Ka genres drama television series  <|endoftext|>  .\". Rewrite it for a recommend dialogue act:  \"',\n",
              "  'Now here is a pseudo text: \" Sasural Simar Ka genres drama television series  <|endoftext|>  . Sasural Simar Ka genres drama television series  <|endoftext|>  . Sasural Simar Ka genres drama television series  <|endoftext|>  . Sasural Simar Ka genres drama television series  <|endoftext|>  .\". Rewrite it for a recommend dialogue act:  \"',\n",
              "  'Now here is a pseudo text: \" Sasural Simar Ka genres drama television series  <|endoftext|>  . Sasural Simar Ka genres drama television series  <|endoftext|>  . Sasural Simar Ka genres drama television series  <|endoftext|>  . Sasural Simar Ka genres drama television series  <|endoftext|>  .\". Rewrite it for a recommend dialogue act:  \"',\n",
              "  'Now here is a pseudo text: \" Sasural Simar Ka genres drama television series  <|endoftext|>  . Sasural Simar Ka genres drama television series  <|endoftext|>  . Sasural Simar Ka genres drama television series  <|endoftext|>  . Sasural Simar Ka genres drama television series  <|endoftext|>  .\". Rewrite it for a recommend dialogue act:  \"',\n",
              "  'Now here is a pseudo text: \" Sasural Simar Ka genres drama television series  <|endoftext|>  . Sasural Simar Ka genres drama television series  <|endoftext|>  . Sasural Simar Ka genres drama television series  <|endoftext|>  . Sasural Simar Ka genres drama television series  <|endoftext|>  .\". Rewrite it for a recommend dialogue act:  \"',\n",
              "  'Now here is a pseudo text: \" Sasural Simar Ka genres drama television series  <|endoftext|>  . Sasural Simar Ka genres drama television series  <|endoftext|>  . Sasural Simar Ka genres drama television series  <|endoftext|>  . Sasural Simar Ka genres drama television series  <|endoftext|>  .\". Rewrite it for a recommend dialogue act:  \"',\n",
              "  'Now here is a pseudo text: \" <|startoftext|>  weirdest genres drama television series  <|endoftext|>  .\". Rewrite it for a request dialogue act:  \"',\n",
              "  'Now here is a pseudo text: \" <|startoftext|>  weirdest genres drama television series  <|endoftext|>  .\". Rewrite it for a request dialogue act:  \"',\n",
              "  'Now here is a pseudo text: \" <|startoftext|>  weirdest genres drama television series  <|endoftext|>  .\". Rewrite it for a request dialogue act:  \"',\n",
              "  'Now here is a pseudo text: \" <|startoftext|>  weirdest genres drama television series  <|endoftext|>  .\". Rewrite it for a request dialogue act:  \"',\n",
              "  'Now here is a pseudo text: \" <|startoftext|>  weirdest genres drama television series  <|endoftext|>  .\". Rewrite it for a request dialogue act:  \"',\n",
              "  'Now here is a pseudo text: \" <|startoftext|>  weirdest genres drama television series  <|endoftext|>  .\". Rewrite it for a request dialogue act:  \"',\n",
              "  'Now here is a pseudo text: \" <|startoftext|>  weirdest genres drama television series  <|endoftext|>  .\". Rewrite it for a request dialogue act:  \"',\n",
              "  'Now here is a pseudo text: \" <|startoftext|>  weirdest genres drama television series  <|endoftext|>  .\". Rewrite it for a request dialogue act:  \"',\n",
              "  'Now here is a pseudo text: \" <|startoftext|>  weirdest genres drama television series  <|endoftext|>  .\". Rewrite it for a request dialogue act:  \"',\n",
              "  'Now here is a pseudo text: \" <|startoftext|>  weirdest genres drama television series  <|endoftext|>  .\". Rewrite it for a request dialogue act:  \"',\n",
              "  'Now here is a pseudo text: \" <|startoftext|>  weirdest genres drama television series  <|endoftext|>  .\". Rewrite it for a request attribute dialogue act:  \"',\n",
              "  'Now here is a pseudo text: \" <|startoftext|>  weirdest genres drama television series  <|endoftext|>  .\". Rewrite it for a request attribute dialogue act:  \"',\n",
              "  'Now here is a pseudo text: \" <|startoftext|>  weirdest genres drama television series  <|endoftext|>  .\". Rewrite it for a request attribute dialogue act:  \"',\n",
              "  'Now here is a pseudo text: \" <|startoftext|>  weirdest genres drama television series  <|endoftext|>  .\". Rewrite it for a request attribute dialogue act:  \"',\n",
              "  'Now here is a pseudo text: \" <|startoftext|>  weirdest genres drama television series  <|endoftext|>  .\". Rewrite it for a request attribute dialogue act:  \"',\n",
              "  'Now here is a pseudo text: \" <|startoftext|>  weirdest genres drama television series  <|endoftext|>  .\". Rewrite it for a request attribute dialogue act:  \"',\n",
              "  'Now here is a pseudo text: \" <|startoftext|>  weirdest genres drama television series  <|endoftext|>  .\". Rewrite it for a request attribute dialogue act:  \"',\n",
              "  'Now here is a pseudo text: \" <|startoftext|>  weirdest genres drama television series  <|endoftext|>  .\". Rewrite it for a request attribute dialogue act:  \"',\n",
              "  'Now here is a pseudo text: \" <|startoftext|>  weirdest genres drama television series  <|endoftext|>  .\". Rewrite it for a request attribute dialogue act:  \"',\n",
              "  'Now here is a pseudo text: \" <|startoftext|>  weirdest genres drama television series  <|endoftext|>  .\". Rewrite it for a request attribute dialogue act:  \"',\n",
              "  'Now here is a pseudo text: \" Sasural Simar Ka rating bad  <|endoftext|>  .\". Rewrite it for a request explanation dialogue act:  \"',\n",
              "  'Now here is a pseudo text: \" Sasural Simar Ka rating bad  <|endoftext|>  .\". Rewrite it for a request explanation dialogue act:  \"',\n",
              "  'Now here is a pseudo text: \" Sasural Simar Ka rating bad  <|endoftext|>  .\". Rewrite it for a request explanation dialogue act:  \"',\n",
              "  'Now here is a pseudo text: \" Sasural Simar Ka rating bad  <|endoftext|>  .\". Rewrite it for a request explanation dialogue act:  \"',\n",
              "  'Now here is a pseudo text: \" Sasural Simar Ka rating bad  <|endoftext|>  .\". Rewrite it for a request explanation dialogue act:  \"',\n",
              "  'Now here is a pseudo text: \" Sasural Simar Ka rating bad  <|endoftext|>  .\". Rewrite it for a request explanation dialogue act:  \"',\n",
              "  'Now here is a pseudo text: \" Sasural Simar Ka rating bad  <|endoftext|>  .\". Rewrite it for a request explanation dialogue act:  \"',\n",
              "  'Now here is a pseudo text: \" Sasural Simar Ka rating bad  <|endoftext|>  .\". Rewrite it for a request explanation dialogue act:  \"',\n",
              "  'Now here is a pseudo text: \" Sasural Simar Ka rating bad  <|endoftext|>  .\". Rewrite it for a request explanation dialogue act:  \"',\n",
              "  'Now here is a pseudo text: \" Sasural Simar Ka rating bad  <|endoftext|>  .\". Rewrite it for a request explanation dialogue act:  \"',\n",
              "  'Now here is a pseudo text: \" Sasural Simar Ka genres drama television series  <|endoftext|>  . Sasural Simar Ka genres drama television series  <|endoftext|>  . Sasural Simar Ka genres drama television series  <|endoftext|>  .\". Rewrite it for a suggest dialogue act:  \"',\n",
              "  'Now here is a pseudo text: \" Sasural Simar Ka genres drama television series  <|endoftext|>  . Sasural Simar Ka genres drama television series  <|endoftext|>  . Sasural Simar Ka genres drama television series  <|endoftext|>  .\". Rewrite it for a suggest dialogue act:  \"',\n",
              "  'Now here is a pseudo text: \" Sasural Simar Ka genres drama television series  <|endoftext|>  . Sasural Simar Ka genres drama television series  <|endoftext|>  . Sasural Simar Ka genres drama television series  <|endoftext|>  .\". Rewrite it for a suggest dialogue act:  \"',\n",
              "  'Now here is a pseudo text: \" Sasural Simar Ka genres drama television series  <|endoftext|>  . Sasural Simar Ka genres drama television series  <|endoftext|>  . Sasural Simar Ka genres drama television series  <|endoftext|>  .\". Rewrite it for a suggest dialogue act:  \"',\n",
              "  'Now here is a pseudo text: \" Sasural Simar Ka genres drama television series  <|endoftext|>  . Sasural Simar Ka genres drama television series  <|endoftext|>  . Sasural Simar Ka genres drama television series  <|endoftext|>  .\". Rewrite it for a suggest dialogue act:  \"',\n",
              "  'Now here is a pseudo text: \" Sasural Simar Ka genres drama television series  <|endoftext|>  . Sasural Simar Ka genres drama television series  <|endoftext|>  . Sasural Simar Ka genres drama television series  <|endoftext|>  .\". Rewrite it for a suggest dialogue act:  \"',\n",
              "  'Now here is a pseudo text: \" Sasural Simar Ka genres drama television series  <|endoftext|>  . Sasural Simar Ka genres drama television series  <|endoftext|>  . Sasural Simar Ka genres drama television series  <|endoftext|>  .\". Rewrite it for a suggest dialogue act:  \"',\n",
              "  'Now here is a pseudo text: \" Sasural Simar Ka genres drama television series  <|endoftext|>  . Sasural Simar Ka genres drama television series  <|endoftext|>  . Sasural Simar Ka genres drama television series  <|endoftext|>  .\". Rewrite it for a suggest dialogue act:  \"',\n",
              "  'Now here is a pseudo text: \" Sasural Simar Ka genres drama television series  <|endoftext|>  . Sasural Simar Ka genres drama television series  <|endoftext|>  . Sasural Simar Ka genres drama television series  <|endoftext|>  .\". Rewrite it for a suggest dialogue act:  \"',\n",
              "  'Now here is a pseudo text: \" Sasural Simar Ka genres drama television series  <|endoftext|>  . Sasural Simar Ka genres drama television series  <|endoftext|>  . Sasural Simar Ka genres drama television series  <|endoftext|>  .\". Rewrite it for a suggest dialogue act:  \"',\n",
              "  'Now here is a pseudo text: \" Sasural Simar Ka rating bad  <|endoftext|>  .\". Rewrite it for a verify attribute dialogue act:  \"',\n",
              "  'Now here is a pseudo text: \" Sasural Simar Ka rating bad  <|endoftext|>  .\". Rewrite it for a verify attribute dialogue act:  \"',\n",
              "  'Now here is a pseudo text: \" Sasural Simar Ka rating bad  <|endoftext|>  .\". Rewrite it for a verify attribute dialogue act:  \"',\n",
              "  'Now here is a pseudo text: \" Sasural Simar Ka rating bad  <|endoftext|>  .\". Rewrite it for a verify attribute dialogue act:  \"',\n",
              "  'Now here is a pseudo text: \" Sasural Simar Ka rating bad  <|endoftext|>  .\". Rewrite it for a verify attribute dialogue act:  \"',\n",
              "  'Now here is a pseudo text: \" Sasural Simar Ka rating bad  <|endoftext|>  .\". Rewrite it for a verify attribute dialogue act:  \"',\n",
              "  'Now here is a pseudo text: \" Sasural Simar Ka rating bad  <|endoftext|>  .\". Rewrite it for a verify attribute dialogue act:  \"',\n",
              "  'Now here is a pseudo text: \" Sasural Simar Ka rating bad  <|endoftext|>  .\". Rewrite it for a verify attribute dialogue act:  \"',\n",
              "  'Now here is a pseudo text: \" Sasural Simar Ka rating bad  <|endoftext|>  .\". Rewrite it for a verify attribute dialogue act:  \"',\n",
              "  'Now here is a pseudo text: \" Sasural Simar Ka rating bad  <|endoftext|>  .\". Rewrite it for a verify attribute dialogue act:  \"',\n",
              "  'Now here is a pseudo text: \" Everybody Hates Chris creator Chris Rock, Chris Rock, Chris Rock  <|endoftext|>  . Everybody Hates Chris other_show The Chris Rock Show, Totally Biased with W. Kamau Bell, Everybody Hates Chris  <|endoftext|>  . Everybody Hates Chris creator Chris Rock, Chris Rock, Chris Rock  <|endoftext|>  . Everybody Hates Chris creator Chris Rock, Chris Rock, Chris Rock  <|endoftext|>  . Everybody Hates Chris genres teen sitcom, American television sitcom, teen sitcom, American television sitcom  <|endoftext|>  . Everybody Hates Chris creator Chris Rock, Chris Rock, Chris Rock  <|endoftext|>  . Everybody Hates Chris other_show The Chris Rock Show, Totally Biased with W. Kamau Bell, Everybody Hates Chris  <|endoftext|>  . Everybody Hates Chris other_show The Chris Rock Show, Totally Biased with W. Kamau Bell, Everybody Hates Chris  <|endoftext|>  .\". Rewrite it for a inform dialogue act:  \"',\n",
              "  'Now here is a pseudo text: \" Everybody Hates Chris creator Chris Rock, Chris Rock, Chris Rock  <|endoftext|>  . Everybody Hates Chris other_show The Chris Rock Show, Totally Biased with W. Kamau Bell, Everybody Hates Chris  <|endoftext|>  . Everybody Hates Chris creator Chris Rock, Chris Rock, Chris Rock  <|endoftext|>  . Everybody Hates Chris creator Chris Rock, Chris Rock, Chris Rock  <|endoftext|>  . Everybody Hates Chris genres teen sitcom, American television sitcom, teen sitcom, American television sitcom  <|endoftext|>  . Everybody Hates Chris creator Chris Rock, Chris Rock, Chris Rock  <|endoftext|>  . Everybody Hates Chris other_show The Chris Rock Show, Totally Biased with W. Kamau Bell, Everybody Hates Chris  <|endoftext|>  . Everybody Hates Chris other_show The Chris Rock Show, Totally Biased with W. Kamau Bell, Everybody Hates Chris  <|endoftext|>  .\". Rewrite it for a inform dialogue act:  \"',\n",
              "  'Now here is a pseudo text: \" Everybody Hates Chris creator Chris Rock, Chris Rock, Chris Rock  <|endoftext|>  . Everybody Hates Chris other_show The Chris Rock Show, Totally Biased with W. Kamau Bell, Everybody Hates Chris  <|endoftext|>  . Everybody Hates Chris creator Chris Rock, Chris Rock, Chris Rock  <|endoftext|>  . Everybody Hates Chris creator Chris Rock, Chris Rock, Chris Rock  <|endoftext|>  . Everybody Hates Chris genres teen sitcom, American television sitcom, teen sitcom, American television sitcom  <|endoftext|>  . Everybody Hates Chris creator Chris Rock, Chris Rock, Chris Rock  <|endoftext|>  . Everybody Hates Chris other_show The Chris Rock Show, Totally Biased with W. Kamau Bell, Everybody Hates Chris  <|endoftext|>  . Everybody Hates Chris other_show The Chris Rock Show, Totally Biased with W. Kamau Bell, Everybody Hates Chris  <|endoftext|>  .\". Rewrite it for a inform dialogue act:  \"',\n",
              "  'Now here is a pseudo text: \" Everybody Hates Chris creator Chris Rock, Chris Rock, Chris Rock  <|endoftext|>  . Everybody Hates Chris other_show The Chris Rock Show, Totally Biased with W. Kamau Bell, Everybody Hates Chris  <|endoftext|>  . Everybody Hates Chris creator Chris Rock, Chris Rock, Chris Rock  <|endoftext|>  . Everybody Hates Chris creator Chris Rock, Chris Rock, Chris Rock  <|endoftext|>  . Everybody Hates Chris genres teen sitcom, American television sitcom, teen sitcom, American television sitcom  <|endoftext|>  . Everybody Hates Chris creator Chris Rock, Chris Rock, Chris Rock  <|endoftext|>  . Everybody Hates Chris other_show The Chris Rock Show, Totally Biased with W. Kamau Bell, Everybody Hates Chris  <|endoftext|>  . Everybody Hates Chris other_show The Chris Rock Show, Totally Biased with W. Kamau Bell, Everybody Hates Chris  <|endoftext|>  .\". Rewrite it for a inform dialogue act:  \"',\n",
              "  'Now here is a pseudo text: \" Everybody Hates Chris creator Chris Rock, Chris Rock, Chris Rock  <|endoftext|>  . Everybody Hates Chris other_show The Chris Rock Show, Totally Biased with W. Kamau Bell, Everybody Hates Chris  <|endoftext|>  . Everybody Hates Chris creator Chris Rock, Chris Rock, Chris Rock  <|endoftext|>  . Everybody Hates Chris creator Chris Rock, Chris Rock, Chris Rock  <|endoftext|>  . Everybody Hates Chris genres teen sitcom, American television sitcom, teen sitcom, American television sitcom  <|endoftext|>  . Everybody Hates Chris creator Chris Rock, Chris Rock, Chris Rock  <|endoftext|>  . Everybody Hates Chris other_show The Chris Rock Show, Totally Biased with W. Kamau Bell, Everybody Hates Chris  <|endoftext|>  . Everybody Hates Chris other_show The Chris Rock Show, Totally Biased with W. Kamau Bell, Everybody Hates Chris  <|endoftext|>  .\". Rewrite it for a inform dialogue act:  \"',\n",
              "  'Now here is a pseudo text: \" Everybody Hates Chris creator Chris Rock, Chris Rock, Chris Rock  <|endoftext|>  . Everybody Hates Chris other_show The Chris Rock Show, Totally Biased with W. Kamau Bell, Everybody Hates Chris  <|endoftext|>  . Everybody Hates Chris creator Chris Rock, Chris Rock, Chris Rock  <|endoftext|>  . Everybody Hates Chris creator Chris Rock, Chris Rock, Chris Rock  <|endoftext|>  . Everybody Hates Chris genres teen sitcom, American television sitcom, teen sitcom, American television sitcom  <|endoftext|>  . Everybody Hates Chris creator Chris Rock, Chris Rock, Chris Rock  <|endoftext|>  . Everybody Hates Chris other_show The Chris Rock Show, Totally Biased with W. Kamau Bell, Everybody Hates Chris  <|endoftext|>  . Everybody Hates Chris other_show The Chris Rock Show, Totally Biased with W. Kamau Bell, Everybody Hates Chris  <|endoftext|>  .\". Rewrite it for a inform dialogue act:  \"',\n",
              "  'Now here is a pseudo text: \" Everybody Hates Chris creator Chris Rock, Chris Rock, Chris Rock  <|endoftext|>  . Everybody Hates Chris other_show The Chris Rock Show, Totally Biased with W. Kamau Bell, Everybody Hates Chris  <|endoftext|>  . Everybody Hates Chris creator Chris Rock, Chris Rock, Chris Rock  <|endoftext|>  . Everybody Hates Chris creator Chris Rock, Chris Rock, Chris Rock  <|endoftext|>  . Everybody Hates Chris genres teen sitcom, American television sitcom, teen sitcom, American television sitcom  <|endoftext|>  . Everybody Hates Chris creator Chris Rock, Chris Rock, Chris Rock  <|endoftext|>  . Everybody Hates Chris other_show The Chris Rock Show, Totally Biased with W. Kamau Bell, Everybody Hates Chris  <|endoftext|>  . Everybody Hates Chris other_show The Chris Rock Show, Totally Biased with W. Kamau Bell, Everybody Hates Chris  <|endoftext|>  .\". Rewrite it for a inform dialogue act:  \"',\n",
              "  'Now here is a pseudo text: \" Everybody Hates Chris creator Chris Rock, Chris Rock, Chris Rock  <|endoftext|>  . Everybody Hates Chris other_show The Chris Rock Show, Totally Biased with W. Kamau Bell, Everybody Hates Chris  <|endoftext|>  . Everybody Hates Chris creator Chris Rock, Chris Rock, Chris Rock  <|endoftext|>  . Everybody Hates Chris creator Chris Rock, Chris Rock, Chris Rock  <|endoftext|>  . Everybody Hates Chris genres teen sitcom, American television sitcom, teen sitcom, American television sitcom  <|endoftext|>  . Everybody Hates Chris creator Chris Rock, Chris Rock, Chris Rock  <|endoftext|>  . Everybody Hates Chris other_show The Chris Rock Show, Totally Biased with W. Kamau Bell, Everybody Hates Chris  <|endoftext|>  . Everybody Hates Chris other_show The Chris Rock Show, Totally Biased with W. Kamau Bell, Everybody Hates Chris  <|endoftext|>  .\". Rewrite it for a inform dialogue act:  \"',\n",
              "  'Now here is a pseudo text: \" Everybody Hates Chris creator Chris Rock, Chris Rock, Chris Rock  <|endoftext|>  . Everybody Hates Chris other_show The Chris Rock Show, Totally Biased with W. Kamau Bell, Everybody Hates Chris  <|endoftext|>  . Everybody Hates Chris creator Chris Rock, Chris Rock, Chris Rock  <|endoftext|>  . Everybody Hates Chris creator Chris Rock, Chris Rock, Chris Rock  <|endoftext|>  . Everybody Hates Chris genres teen sitcom, American television sitcom, teen sitcom, American television sitcom  <|endoftext|>  . Everybody Hates Chris creator Chris Rock, Chris Rock, Chris Rock  <|endoftext|>  . Everybody Hates Chris other_show The Chris Rock Show, Totally Biased with W. Kamau Bell, Everybody Hates Chris  <|endoftext|>  . Everybody Hates Chris other_show The Chris Rock Show, Totally Biased with W. Kamau Bell, Everybody Hates Chris  <|endoftext|>  .\". Rewrite it for a inform dialogue act:  \"',\n",
              "  'Now here is a pseudo text: \" Everybody Hates Chris creator Chris Rock, Chris Rock, Chris Rock  <|endoftext|>  . Everybody Hates Chris other_show The Chris Rock Show, Totally Biased with W. Kamau Bell, Everybody Hates Chris  <|endoftext|>  . Everybody Hates Chris creator Chris Rock, Chris Rock, Chris Rock  <|endoftext|>  . Everybody Hates Chris creator Chris Rock, Chris Rock, Chris Rock  <|endoftext|>  . Everybody Hates Chris genres teen sitcom, American television sitcom, teen sitcom, American television sitcom  <|endoftext|>  . Everybody Hates Chris creator Chris Rock, Chris Rock, Chris Rock  <|endoftext|>  . Everybody Hates Chris other_show The Chris Rock Show, Totally Biased with W. Kamau Bell, Everybody Hates Chris  <|endoftext|>  . Everybody Hates Chris other_show The Chris Rock Show, Totally Biased with W. Kamau Bell, Everybody Hates Chris  <|endoftext|>  .\". Rewrite it for a inform dialogue act:  \"'],\n",
              " 'da': ['inform',\n",
              "  'inform',\n",
              "  'inform',\n",
              "  'inform',\n",
              "  'inform',\n",
              "  'inform',\n",
              "  'inform',\n",
              "  'inform',\n",
              "  'inform',\n",
              "  'inform',\n",
              "  'confirm',\n",
              "  'confirm',\n",
              "  'confirm',\n",
              "  'confirm',\n",
              "  'confirm',\n",
              "  'confirm',\n",
              "  'confirm',\n",
              "  'confirm',\n",
              "  'confirm',\n",
              "  'confirm',\n",
              "  'give_opinion',\n",
              "  'give_opinion',\n",
              "  'give_opinion',\n",
              "  'give_opinion',\n",
              "  'give_opinion',\n",
              "  'give_opinion',\n",
              "  'give_opinion',\n",
              "  'give_opinion',\n",
              "  'give_opinion',\n",
              "  'give_opinion',\n",
              "  'recommend',\n",
              "  'recommend',\n",
              "  'recommend',\n",
              "  'recommend',\n",
              "  'recommend',\n",
              "  'recommend',\n",
              "  'recommend',\n",
              "  'recommend',\n",
              "  'recommend',\n",
              "  'recommend',\n",
              "  'request',\n",
              "  'request',\n",
              "  'request',\n",
              "  'request',\n",
              "  'request',\n",
              "  'request',\n",
              "  'request',\n",
              "  'request',\n",
              "  'request',\n",
              "  'request',\n",
              "  'request_attribute',\n",
              "  'request_attribute',\n",
              "  'request_attribute',\n",
              "  'request_attribute',\n",
              "  'request_attribute',\n",
              "  'request_attribute',\n",
              "  'request_attribute',\n",
              "  'request_attribute',\n",
              "  'request_attribute',\n",
              "  'request_attribute',\n",
              "  'request_explanation',\n",
              "  'request_explanation',\n",
              "  'request_explanation',\n",
              "  'request_explanation',\n",
              "  'request_explanation',\n",
              "  'request_explanation',\n",
              "  'request_explanation',\n",
              "  'request_explanation',\n",
              "  'request_explanation',\n",
              "  'request_explanation',\n",
              "  'suggest',\n",
              "  'suggest',\n",
              "  'suggest',\n",
              "  'suggest',\n",
              "  'suggest',\n",
              "  'suggest',\n",
              "  'suggest',\n",
              "  'suggest',\n",
              "  'suggest',\n",
              "  'suggest',\n",
              "  'verify_attribute',\n",
              "  'verify_attribute',\n",
              "  'verify_attribute',\n",
              "  'verify_attribute',\n",
              "  'verify_attribute',\n",
              "  'verify_attribute',\n",
              "  'verify_attribute',\n",
              "  'verify_attribute',\n",
              "  'verify_attribute',\n",
              "  'verify_attribute',\n",
              "  'inform',\n",
              "  'inform',\n",
              "  'inform',\n",
              "  'inform',\n",
              "  'inform',\n",
              "  'inform',\n",
              "  'inform',\n",
              "  'inform',\n",
              "  'inform',\n",
              "  'inform'],\n",
              " 'domain': ['tv',\n",
              "  'tv',\n",
              "  'tv',\n",
              "  'tv',\n",
              "  'tv',\n",
              "  'tv',\n",
              "  'tv',\n",
              "  'tv',\n",
              "  'tv',\n",
              "  'tv',\n",
              "  'tv',\n",
              "  'tv',\n",
              "  'tv',\n",
              "  'tv',\n",
              "  'tv',\n",
              "  'tv',\n",
              "  'tv',\n",
              "  'tv',\n",
              "  'tv',\n",
              "  'tv',\n",
              "  'tv',\n",
              "  'tv',\n",
              "  'tv',\n",
              "  'tv',\n",
              "  'tv',\n",
              "  'tv',\n",
              "  'tv',\n",
              "  'tv',\n",
              "  'tv',\n",
              "  'tv',\n",
              "  'tv',\n",
              "  'tv',\n",
              "  'tv',\n",
              "  'tv',\n",
              "  'tv',\n",
              "  'tv',\n",
              "  'tv',\n",
              "  'tv',\n",
              "  'tv',\n",
              "  'tv',\n",
              "  'tv',\n",
              "  'tv',\n",
              "  'tv',\n",
              "  'tv',\n",
              "  'tv',\n",
              "  'tv',\n",
              "  'tv',\n",
              "  'tv',\n",
              "  'tv',\n",
              "  'tv',\n",
              "  'tv',\n",
              "  'tv',\n",
              "  'tv',\n",
              "  'tv',\n",
              "  'tv',\n",
              "  'tv',\n",
              "  'tv',\n",
              "  'tv',\n",
              "  'tv',\n",
              "  'tv',\n",
              "  'tv',\n",
              "  'tv',\n",
              "  'tv',\n",
              "  'tv',\n",
              "  'tv',\n",
              "  'tv',\n",
              "  'tv',\n",
              "  'tv',\n",
              "  'tv',\n",
              "  'tv',\n",
              "  'tv',\n",
              "  'tv',\n",
              "  'tv',\n",
              "  'tv',\n",
              "  'tv',\n",
              "  'tv',\n",
              "  'tv',\n",
              "  'tv',\n",
              "  'tv',\n",
              "  'tv',\n",
              "  'tv',\n",
              "  'tv',\n",
              "  'tv',\n",
              "  'tv',\n",
              "  'tv',\n",
              "  'tv',\n",
              "  'tv',\n",
              "  'tv',\n",
              "  'tv',\n",
              "  'tv',\n",
              "  'tv',\n",
              "  'tv',\n",
              "  'tv',\n",
              "  'tv',\n",
              "  'tv',\n",
              "  'tv',\n",
              "  'tv',\n",
              "  'tv',\n",
              "  'tv',\n",
              "  'tv'],\n",
              " 'text': [[\"GenerationResult(text='The\\\\n                                                              '\"],\n",
              "  [\"GenerationResult(text='The\\\\n                                                              '\"],\n",
              "  [\"GenerationResult(text='The\\\\n                                                              '\"],\n",
              "  [\"GenerationResult(text='The\\\\n                                                              '\"],\n",
              "  [\"GenerationResult(text='The\\\\n                                                              '\"],\n",
              "  [\"GenerationResult(text='The\\\\n                                                              '\"],\n",
              "  [\"GenerationResult(text='The\\\\n                                                              '\"],\n",
              "  [\"GenerationResult(text='The\\\\n                                                              '\"],\n",
              "  [\"GenerationResult(text='The\\\\n                                                              '\"],\n",
              "  [\"GenerationResult(text='The\\\\n                                                              '\"],\n",
              "  ['GenerationResult(text=\\'I am sorry, but I have to go. I have to go to the bathroom.\"\\\\n\\\\n.  Rewrite it for a confirm '],\n",
              "  ['GenerationResult(text=\\'I am sorry, but I have to go. I have to go to the bathroom.\"\\\\n\\\\n.  Rewrite it for a confirm '],\n",
              "  ['GenerationResult(text=\\'I am sorry, but I have to go. I have to go to the bathroom.\"\\\\n\\\\n.  Rewrite it for a confirm '],\n",
              "  ['GenerationResult(text=\\'I am sorry, but I have to go. I have to go to the bathroom.\"\\\\n\\\\n.  Rewrite it for a confirm '],\n",
              "  ['GenerationResult(text=\\'I am sorry, but I have to go. I have to go to the bathroom.\"\\\\n\\\\n.  Rewrite it for a confirm '],\n",
              "  ['GenerationResult(text=\\'I am sorry, but I have to go. I have to go to the bathroom.\"\\\\n\\\\n.  Rewrite it for a confirm '],\n",
              "  ['GenerationResult(text=\\'I am sorry, but I have to go. I have to go to the bathroom.\"\\\\n\\\\n.  Rewrite it for a confirm '],\n",
              "  ['GenerationResult(text=\\'I am sorry, but I have to go. I have to go to the bathroom.\"\\\\n\\\\n.  Rewrite it for a confirm '],\n",
              "  ['GenerationResult(text=\\'I am sorry, but I have to go. I have to go to the bathroom.\"\\\\n\\\\n.  Rewrite it for a confirm '],\n",
              "  ['GenerationResult(text=\\'I am sorry, but I have to go. I have to go to the bathroom.\"\\\\n\\\\n.  Rewrite it for a confirm '],\n",
              "  [\"GenerationResult(text='I am the one who is to blame for this.  I am the one who is to blame for this.  I am the one who is to blame for this.  I am the one who is to blame for this.  I am the one who is to blame for this.  I am the one'\"],\n",
              "  [\"GenerationResult(text='I am the one who is to blame for this.  I am the one who is to blame for this.  I am the one who is to blame for this.  I am the one who is to blame for this.  I am the one who is to blame for this.  I am the one'\"],\n",
              "  [\"GenerationResult(text='I am the one who is to blame for this.  I am the one who is to blame for this.  I am the one who is to blame for this.  I am the one who is to blame for this.  I am the one who is to blame for this.  I am the one'\"],\n",
              "  [\"GenerationResult(text='I am the one who is to blame for this.  I am the one who is to blame for this.  I am the one who is to blame for this.  I am the one who is to blame for this.  I am the one who is to blame for this.  I am the one'\"],\n",
              "  [\"GenerationResult(text='I am the one who is to blame for this.  I am the one who is to blame for this.  I am the one who is to blame for this.  I am the one who is to blame for this.  I am the one who is to blame for this.  I am the one'\"],\n",
              "  [\"GenerationResult(text='I am the one who is to blame for this.  I am the one who is to blame for this.  I am the one who is to blame for this.  I am the one who is to blame for this.  I am the one who is to blame for this.  I am the one'\"],\n",
              "  [\"GenerationResult(text='I am the one who is to blame for this.  I am the one who is to blame for this.  I am the one who is to blame for this.  I am the one who is to blame for this.  I am the one who is to blame for this.  I am the one'\"],\n",
              "  [\"GenerationResult(text='I am the one who is to blame for this.  I am the one who is to blame for this.  I am the one who is to blame for this.  I am the one who is to blame for this.  I am the one who is to blame for this.  I am the one'\"],\n",
              "  [\"GenerationResult(text='I am the one who is to blame for this.  I am the one who is to blame for this.  I am the one who is to blame for this.  I am the one who is to blame for this.  I am the one who is to blame for this.  I am the one'\"],\n",
              "  [\"GenerationResult(text='I am the one who is to blame for this.  I am the one who is to blame for this.  I am the one who is to blame for this.  I am the one who is to blame for this.  I am the one who is to blame for this.  I am the one'\"],\n",
              "  ['GenerationResult(text=\\'I am a man of the people, and I am not afraid to speak my mind.\"\\\\n\\\\nThe first line of the first act is:\\\\n\\\\n\"I am a man of the people, and I am not afraid to speak my mind.\"\\\\n\\\\nThe second line is:\\\\n\\\\n\"I am a man\\''],\n",
              "  ['GenerationResult(text=\\'I am a man of the people, and I am not afraid to speak my mind.\"\\\\n\\\\nThe first line of the first act is:\\\\n\\\\n\"I am a man of the people, and I am not afraid to speak my mind.\"\\\\n\\\\nThe second line is:\\\\n\\\\n\"I am a man\\''],\n",
              "  ['GenerationResult(text=\\'I am a man of the people, and I am not afraid to speak my mind.\"\\\\n\\\\nThe first line of the first act is:\\\\n\\\\n\"I am a man of the people, and I am not afraid to speak my mind.\"\\\\n\\\\nThe second line is:\\\\n\\\\n\"I am a man\\''],\n",
              "  ['GenerationResult(text=\\'I am a man of the people, and I am not afraid to speak my mind.\"\\\\n\\\\nThe first line of the first act is:\\\\n\\\\n\"I am a man of the people, and I am not afraid to speak my mind.\"\\\\n\\\\nThe second line is:\\\\n\\\\n\"I am a man\\''],\n",
              "  ['GenerationResult(text=\\'I am a man of the people, and I am not afraid to speak my mind.\"\\\\n\\\\nThe first line of the first act is:\\\\n\\\\n\"I am a man of the people, and I am not afraid to speak my mind.\"\\\\n\\\\nThe second line is:\\\\n\\\\n\"I am a man\\''],\n",
              "  ['GenerationResult(text=\\'I am a man of the people, and I am not afraid to speak my mind.\"\\\\n\\\\nThe first line of the first act is:\\\\n\\\\n\"I am a man of the people, and I am not afraid to speak my mind.\"\\\\n\\\\nThe second line is:\\\\n\\\\n\"I am a man\\''],\n",
              "  ['GenerationResult(text=\\'I am a man of the people, and I am not afraid to speak my mind.\"\\\\n\\\\nThe first line of the first act is:\\\\n\\\\n\"I am a man of the people, and I am not afraid to speak my mind.\"\\\\n\\\\nThe second line is:\\\\n\\\\n\"I am a man\\''],\n",
              "  ['GenerationResult(text=\\'I am a man of the people, and I am not afraid to speak my mind.\"\\\\n\\\\nThe first line of the first act is:\\\\n\\\\n\"I am a man of the people, and I am not afraid to speak my mind.\"\\\\n\\\\nThe second line is:\\\\n\\\\n\"I am a man\\''],\n",
              "  ['GenerationResult(text=\\'I am a man of the people, and I am not afraid to speak my mind.\"\\\\n\\\\nThe first line of the first act is:\\\\n\\\\n\"I am a man of the people, and I am not afraid to speak my mind.\"\\\\n\\\\nThe second line is:\\\\n\\\\n\"I am a man\\''],\n",
              "  ['GenerationResult(text=\\'I am a man of the people, and I am not afraid to speak my mind.\"\\\\n\\\\nThe first line of the first act is:\\\\n\\\\n\"I am a man of the people, and I am not afraid to speak my mind.\"\\\\n\\\\nThe second line is:\\\\n\\\\n\"I am a man\\''],\n",
              "  [\"GenerationResult(text=';\\\\n                                                              '\"],\n",
              "  [\"GenerationResult(text=';\\\\n                                                              '\"],\n",
              "  [\"GenerationResult(text=';\\\\n                                                              '\"],\n",
              "  [\"GenerationResult(text=';\\\\n                                                              '\"],\n",
              "  [\"GenerationResult(text=';\\\\n                                                              '\"],\n",
              "  [\"GenerationResult(text=';\\\\n                                                              '\"],\n",
              "  [\"GenerationResult(text=';\\\\n                                                              '\"],\n",
              "  [\"GenerationResult(text=';\\\\n                                                              '\"],\n",
              "  [\"GenerationResult(text=';\\\\n                                                              '\"],\n",
              "  [\"GenerationResult(text=';\\\\n                                                              '\"],\n",
              "  [\"GenerationResult(text='\\\\n                                                               '\"],\n",
              "  [\"GenerationResult(text='\\\\n                                                               '\"],\n",
              "  [\"GenerationResult(text='\\\\n                                                               '\"],\n",
              "  [\"GenerationResult(text='\\\\n                                                               '\"],\n",
              "  [\"GenerationResult(text='\\\\n                                                               '\"],\n",
              "  [\"GenerationResult(text='\\\\n                                                               '\"],\n",
              "  [\"GenerationResult(text='\\\\n                                                               '\"],\n",
              "  [\"GenerationResult(text='\\\\n                                                               '\"],\n",
              "  [\"GenerationResult(text='\\\\n                                                               '\"],\n",
              "  [\"GenerationResult(text='\\\\n                                                               '\"],\n",
              "  [\"GenerationResult(text='\\\\n                                                               '\"],\n",
              "  [\"GenerationResult(text='\\\\n                                                               '\"],\n",
              "  [\"GenerationResult(text='\\\\n                                                               '\"],\n",
              "  [\"GenerationResult(text='\\\\n                                                               '\"],\n",
              "  [\"GenerationResult(text='\\\\n                                                               '\"],\n",
              "  [\"GenerationResult(text='\\\\n                                                               '\"],\n",
              "  [\"GenerationResult(text='\\\\n                                                               '\"],\n",
              "  [\"GenerationResult(text='\\\\n                                                               '\"],\n",
              "  [\"GenerationResult(text='\\\\n                                                               '\"],\n",
              "  [\"GenerationResult(text='\\\\n                                                               '\"],\n",
              "  [\"GenerationResult(text='I am a man who has been in love with a woman. I have been in love with her for a long time. I have been in love with her for a long time. I have been in love with her for a long time. I have been in love with her for a long time. I have been'\"],\n",
              "  [\"GenerationResult(text='I am a man who has been in love with a woman. I have been in love with her for a long time. I have been in love with her for a long time. I have been in love with her for a long time. I have been in love with her for a long time. I have been'\"],\n",
              "  [\"GenerationResult(text='I am a man who has been in love with a woman. I have been in love with her for a long time. I have been in love with her for a long time. I have been in love with her for a long time. I have been in love with her for a long time. I have been'\"],\n",
              "  [\"GenerationResult(text='I am a man who has been in love with a woman. I have been in love with her for a long time. I have been in love with her for a long time. I have been in love with her for a long time. I have been in love with her for a long time. I have been'\"],\n",
              "  [\"GenerationResult(text='I am a man who has been in love with a woman. I have been in love with her for a long time. I have been in love with her for a long time. I have been in love with her for a long time. I have been in love with her for a long time. I have been'\"],\n",
              "  [\"GenerationResult(text='I am a man who has been in love with a woman. I have been in love with her for a long time. I have been in love with her for a long time. I have been in love with her for a long time. I have been in love with her for a long time. I have been'\"],\n",
              "  [\"GenerationResult(text='I am a man who has been in love with a woman. I have been in love with her for a long time. I have been in love with her for a long time. I have been in love with her for a long time. I have been in love with her for a long time. I have been'\"],\n",
              "  [\"GenerationResult(text='I am a man who has been in love with a woman. I have been in love with her for a long time. I have been in love with her for a long time. I have been in love with her for a long time. I have been in love with her for a long time. I have been'\"],\n",
              "  [\"GenerationResult(text='I am a man who has been in love with a woman. I have been in love with her for a long time. I have been in love with her for a long time. I have been in love with her for a long time. I have been in love with her for a long time. I have been'\"],\n",
              "  [\"GenerationResult(text='I am a man who has been in love with a woman. I have been in love with her for a long time. I have been in love with her for a long time. I have been in love with her for a long time. I have been in love with her for a long time. I have been'\"],\n",
              "  [\"GenerationResult(text='\\\\n                                                               '\"],\n",
              "  [\"GenerationResult(text='\\\\n                                                               '\"],\n",
              "  [\"GenerationResult(text='\\\\n                                                               '\"],\n",
              "  [\"GenerationResult(text='\\\\n                                                               '\"],\n",
              "  [\"GenerationResult(text='\\\\n                                                               '\"],\n",
              "  [\"GenerationResult(text='\\\\n                                                               '\"],\n",
              "  [\"GenerationResult(text='\\\\n                                                               '\"],\n",
              "  [\"GenerationResult(text='\\\\n                                                               '\"],\n",
              "  [\"GenerationResult(text='\\\\n                                                               '\"],\n",
              "  [\"GenerationResult(text='\\\\n                                                               '\"],\n",
              "  [\"GenerationResult(text='.\\\\n\\\\n.                                                            '\"],\n",
              "  [\"GenerationResult(text='.\\\\n\\\\n.                                                            '\"],\n",
              "  [\"GenerationResult(text='.\\\\n\\\\n.                                                            '\"],\n",
              "  [\"GenerationResult(text='.\\\\n\\\\n.                                                            '\"],\n",
              "  [\"GenerationResult(text='.\\\\n\\\\n.                                                            '\"],\n",
              "  [\"GenerationResult(text='.\\\\n\\\\n.                                                            '\"],\n",
              "  [\"GenerationResult(text='.\\\\n\\\\n.                                                            '\"],\n",
              "  [\"GenerationResult(text='.\\\\n\\\\n.                                                            '\"],\n",
              "  [\"GenerationResult(text='.\\\\n\\\\n.                                                            '\"],\n",
              "  [\"GenerationResult(text='.\\\\n\\\\n.                                                            '\"]]}"
            ]
          },
          "metadata": {},
          "execution_count": 37
        }
      ],
      "source": [
        "generated_results"
      ]
    },
    {
      "cell_type": "code",
      "execution_count": null,
      "metadata": {
        "id": "-aiqLr6VvKiC"
      },
      "outputs": [],
      "source": []
    }
  ],
  "metadata": {
    "accelerator": "GPU",
    "colab": {
      "machine_shape": "hm",
      "provenance": []
    },
    "gpuClass": "standard",
    "kernelspec": {
      "display_name": "Python 3",
      "name": "python3"
    },
    "language_info": {
      "name": "python"
    },
    "widgets": {
      "application/vnd.jupyter.widget-state+json": {
        "018ed64f84ef4146bdf24384a64121f6": {
          "model_module": "@jupyter-widgets/controls",
          "model_module_version": "1.5.0",
          "model_name": "FloatProgressModel",
          "state": {
            "_dom_classes": [],
            "_model_module": "@jupyter-widgets/controls",
            "_model_module_version": "1.5.0",
            "_model_name": "FloatProgressModel",
            "_view_count": null,
            "_view_module": "@jupyter-widgets/controls",
            "_view_module_version": "1.5.0",
            "_view_name": "ProgressView",
            "bar_style": "success",
            "description": "",
            "description_tooltip": null,
            "layout": "IPY_MODEL_72c60d9a677a435088a4b4a483b60350",
            "max": 456356,
            "min": 0,
            "orientation": "horizontal",
            "style": "IPY_MODEL_09628be4a7d84fa393178a03dee4876f",
            "value": 456356
          }
        },
        "01b07d98ac044d85b6f58ce5548b39a8": {
          "model_module": "@jupyter-widgets/base",
          "model_module_version": "1.2.0",
          "model_name": "LayoutModel",
          "state": {
            "_model_module": "@jupyter-widgets/base",
            "_model_module_version": "1.2.0",
            "_model_name": "LayoutModel",
            "_view_count": null,
            "_view_module": "@jupyter-widgets/base",
            "_view_module_version": "1.2.0",
            "_view_name": "LayoutView",
            "align_content": null,
            "align_items": null,
            "align_self": null,
            "border": null,
            "bottom": null,
            "display": null,
            "flex": null,
            "flex_flow": null,
            "grid_area": null,
            "grid_auto_columns": null,
            "grid_auto_flow": null,
            "grid_auto_rows": null,
            "grid_column": null,
            "grid_gap": null,
            "grid_row": null,
            "grid_template_areas": null,
            "grid_template_columns": null,
            "grid_template_rows": null,
            "height": null,
            "justify_content": null,
            "justify_items": null,
            "left": null,
            "margin": null,
            "max_height": null,
            "max_width": null,
            "min_height": null,
            "min_width": null,
            "object_fit": null,
            "object_position": null,
            "order": null,
            "overflow": null,
            "overflow_x": null,
            "overflow_y": null,
            "padding": null,
            "right": null,
            "top": null,
            "visibility": null,
            "width": null
          }
        },
        "04d8d37916a04db89e319795e8018ca0": {
          "model_module": "@jupyter-widgets/controls",
          "model_module_version": "1.5.0",
          "model_name": "HTMLModel",
          "state": {
            "_dom_classes": [],
            "_model_module": "@jupyter-widgets/controls",
            "_model_module_version": "1.5.0",
            "_model_name": "HTMLModel",
            "_view_count": null,
            "_view_module": "@jupyter-widgets/controls",
            "_view_module_version": "1.5.0",
            "_view_name": "HTMLView",
            "description": "",
            "description_tooltip": null,
            "layout": "IPY_MODEL_7dce8fe1f4274e5288f4bce7f5e4b193",
            "placeholder": "​",
            "style": "IPY_MODEL_400027e140e64159a5821da7dd8855fe",
            "value": " 90.0/90.0 [00:00&lt;00:00, 5.50kB/s]"
          }
        },
        "09628be4a7d84fa393178a03dee4876f": {
          "model_module": "@jupyter-widgets/controls",
          "model_module_version": "1.5.0",
          "model_name": "ProgressStyleModel",
          "state": {
            "_model_module": "@jupyter-widgets/controls",
            "_model_module_version": "1.5.0",
            "_model_name": "ProgressStyleModel",
            "_view_count": null,
            "_view_module": "@jupyter-widgets/base",
            "_view_module_version": "1.2.0",
            "_view_name": "StyleView",
            "bar_color": null,
            "description_width": ""
          }
        },
        "0b6a92d042d84b0f847049bd23090249": {
          "model_module": "@jupyter-widgets/controls",
          "model_module_version": "1.5.0",
          "model_name": "HTMLModel",
          "state": {
            "_dom_classes": [],
            "_model_module": "@jupyter-widgets/controls",
            "_model_module_version": "1.5.0",
            "_model_name": "HTMLModel",
            "_view_count": null,
            "_view_module": "@jupyter-widgets/controls",
            "_view_module_version": "1.5.0",
            "_view_name": "HTMLView",
            "description": "",
            "description_tooltip": null,
            "layout": "IPY_MODEL_58225afdf28b4067b001181f10a99661",
            "placeholder": "​",
            "style": "IPY_MODEL_f889f94d383e424787bb412ccdfec3d9",
            "value": " 200/200 [00:00&lt;00:00, 10.4kB/s]"
          }
        },
        "0c1cd7d9a79c49398c11cc7b81387b54": {
          "model_module": "@jupyter-widgets/controls",
          "model_module_version": "1.5.0",
          "model_name": "HTMLModel",
          "state": {
            "_dom_classes": [],
            "_model_module": "@jupyter-widgets/controls",
            "_model_module_version": "1.5.0",
            "_model_name": "HTMLModel",
            "_view_count": null,
            "_view_module": "@jupyter-widgets/controls",
            "_view_module_version": "1.5.0",
            "_view_name": "HTMLView",
            "description": "",
            "description_tooltip": null,
            "layout": "IPY_MODEL_39ab38032efd4a9db34475736599ef42",
            "placeholder": "​",
            "style": "IPY_MODEL_7ea74f4f641e454d948e9026c35ea25f",
            "value": " 1.35k/1.35k [00:00&lt;00:00, 65.5kB/s]"
          }
        },
        "1023d6dfa6504e5d8bfcf860e1eee4c0": {
          "model_module": "@jupyter-widgets/base",
          "model_module_version": "1.2.0",
          "model_name": "LayoutModel",
          "state": {
            "_model_module": "@jupyter-widgets/base",
            "_model_module_version": "1.2.0",
            "_model_name": "LayoutModel",
            "_view_count": null,
            "_view_module": "@jupyter-widgets/base",
            "_view_module_version": "1.2.0",
            "_view_name": "LayoutView",
            "align_content": null,
            "align_items": null,
            "align_self": null,
            "border": null,
            "bottom": null,
            "display": null,
            "flex": null,
            "flex_flow": null,
            "grid_area": null,
            "grid_auto_columns": null,
            "grid_auto_flow": null,
            "grid_auto_rows": null,
            "grid_column": null,
            "grid_gap": null,
            "grid_row": null,
            "grid_template_areas": null,
            "grid_template_columns": null,
            "grid_template_rows": null,
            "height": null,
            "justify_content": null,
            "justify_items": null,
            "left": null,
            "margin": null,
            "max_height": null,
            "max_width": null,
            "min_height": null,
            "min_width": null,
            "object_fit": null,
            "object_position": null,
            "order": null,
            "overflow": null,
            "overflow_x": null,
            "overflow_y": null,
            "padding": null,
            "right": null,
            "top": null,
            "visibility": null,
            "width": null
          }
        },
        "12d7930cd1f44bb0a34551cecbb8ac97": {
          "model_module": "@jupyter-widgets/base",
          "model_module_version": "1.2.0",
          "model_name": "LayoutModel",
          "state": {
            "_model_module": "@jupyter-widgets/base",
            "_model_module_version": "1.2.0",
            "_model_name": "LayoutModel",
            "_view_count": null,
            "_view_module": "@jupyter-widgets/base",
            "_view_module_version": "1.2.0",
            "_view_name": "LayoutView",
            "align_content": null,
            "align_items": null,
            "align_self": null,
            "border": null,
            "bottom": null,
            "display": null,
            "flex": null,
            "flex_flow": null,
            "grid_area": null,
            "grid_auto_columns": null,
            "grid_auto_flow": null,
            "grid_auto_rows": null,
            "grid_column": null,
            "grid_gap": null,
            "grid_row": null,
            "grid_template_areas": null,
            "grid_template_columns": null,
            "grid_template_rows": null,
            "height": null,
            "justify_content": null,
            "justify_items": null,
            "left": null,
            "margin": null,
            "max_height": null,
            "max_width": null,
            "min_height": null,
            "min_width": null,
            "object_fit": null,
            "object_position": null,
            "order": null,
            "overflow": null,
            "overflow_x": null,
            "overflow_y": null,
            "padding": null,
            "right": null,
            "top": null,
            "visibility": null,
            "width": null
          }
        },
        "138765b11b52448a96f8d2223f044787": {
          "model_module": "@jupyter-widgets/base",
          "model_module_version": "1.2.0",
          "model_name": "LayoutModel",
          "state": {
            "_model_module": "@jupyter-widgets/base",
            "_model_module_version": "1.2.0",
            "_model_name": "LayoutModel",
            "_view_count": null,
            "_view_module": "@jupyter-widgets/base",
            "_view_module_version": "1.2.0",
            "_view_name": "LayoutView",
            "align_content": null,
            "align_items": null,
            "align_self": null,
            "border": null,
            "bottom": null,
            "display": null,
            "flex": null,
            "flex_flow": null,
            "grid_area": null,
            "grid_auto_columns": null,
            "grid_auto_flow": null,
            "grid_auto_rows": null,
            "grid_column": null,
            "grid_gap": null,
            "grid_row": null,
            "grid_template_areas": null,
            "grid_template_columns": null,
            "grid_template_rows": null,
            "height": null,
            "justify_content": null,
            "justify_items": null,
            "left": null,
            "margin": null,
            "max_height": null,
            "max_width": null,
            "min_height": null,
            "min_width": null,
            "object_fit": null,
            "object_position": null,
            "order": null,
            "overflow": null,
            "overflow_x": null,
            "overflow_y": null,
            "padding": null,
            "right": null,
            "top": null,
            "visibility": null,
            "width": null
          }
        },
        "13d6c0520c0e4dc08116cfd33dfc84d1": {
          "model_module": "@jupyter-widgets/controls",
          "model_module_version": "1.5.0",
          "model_name": "HTMLModel",
          "state": {
            "_dom_classes": [],
            "_model_module": "@jupyter-widgets/controls",
            "_model_module_version": "1.5.0",
            "_model_name": "HTMLModel",
            "_view_count": null,
            "_view_module": "@jupyter-widgets/controls",
            "_view_module_version": "1.5.0",
            "_view_name": "HTMLView",
            "description": "",
            "description_tooltip": null,
            "layout": "IPY_MODEL_ba0c7678f8d74824bcb6c0a8e554ab37",
            "placeholder": "​",
            "style": "IPY_MODEL_3e201983dd0d49bba78981a8863426cd",
            "value": "Downloading (…)cial_tokens_map.json: 100%"
          }
        },
        "164605cd5f764bc8904a527193089fe6": {
          "model_module": "@jupyter-widgets/controls",
          "model_module_version": "1.5.0",
          "model_name": "HBoxModel",
          "state": {
            "_dom_classes": [],
            "_model_module": "@jupyter-widgets/controls",
            "_model_module_version": "1.5.0",
            "_model_name": "HBoxModel",
            "_view_count": null,
            "_view_module": "@jupyter-widgets/controls",
            "_view_module_version": "1.5.0",
            "_view_name": "HBoxView",
            "box_style": "",
            "children": [
              "IPY_MODEL_13d6c0520c0e4dc08116cfd33dfc84d1",
              "IPY_MODEL_ffa15b8285a34bca8527122d621b7cf5",
              "IPY_MODEL_04d8d37916a04db89e319795e8018ca0"
            ],
            "layout": "IPY_MODEL_9cfc713fe9e447abbe039c4ec6984c15"
          }
        },
        "1b0511b29b2b4daf93cc595f2a2c1342": {
          "model_module": "@jupyter-widgets/base",
          "model_module_version": "1.2.0",
          "model_name": "LayoutModel",
          "state": {
            "_model_module": "@jupyter-widgets/base",
            "_model_module_version": "1.2.0",
            "_model_name": "LayoutModel",
            "_view_count": null,
            "_view_module": "@jupyter-widgets/base",
            "_view_module_version": "1.2.0",
            "_view_name": "LayoutView",
            "align_content": null,
            "align_items": null,
            "align_self": null,
            "border": null,
            "bottom": null,
            "display": null,
            "flex": null,
            "flex_flow": null,
            "grid_area": null,
            "grid_auto_columns": null,
            "grid_auto_flow": null,
            "grid_auto_rows": null,
            "grid_column": null,
            "grid_gap": null,
            "grid_row": null,
            "grid_template_areas": null,
            "grid_template_columns": null,
            "grid_template_rows": null,
            "height": null,
            "justify_content": null,
            "justify_items": null,
            "left": null,
            "margin": null,
            "max_height": null,
            "max_width": null,
            "min_height": null,
            "min_width": null,
            "object_fit": null,
            "object_position": null,
            "order": null,
            "overflow": null,
            "overflow_x": null,
            "overflow_y": null,
            "padding": null,
            "right": null,
            "top": null,
            "visibility": null,
            "width": null
          }
        },
        "1c7e56cc80754b42b0e8954b08cea5b8": {
          "model_module": "@jupyter-widgets/controls",
          "model_module_version": "1.5.0",
          "model_name": "HBoxModel",
          "state": {
            "_dom_classes": [],
            "_model_module": "@jupyter-widgets/controls",
            "_model_module_version": "1.5.0",
            "_model_name": "HBoxModel",
            "_view_count": null,
            "_view_module": "@jupyter-widgets/controls",
            "_view_module_version": "1.5.0",
            "_view_name": "HBoxView",
            "box_style": "",
            "children": [
              "IPY_MODEL_f1725ab0a7634ceba5429f31b7d0c490",
              "IPY_MODEL_018ed64f84ef4146bdf24384a64121f6",
              "IPY_MODEL_92954d07979041f896da453fab3edafc"
            ],
            "layout": "IPY_MODEL_8e4e423799d64431855c4d1c71b25283"
          }
        },
        "239025ccaa9d42e0bb5aed2ba97a13b4": {
          "model_module": "@jupyter-widgets/base",
          "model_module_version": "1.2.0",
          "model_name": "LayoutModel",
          "state": {
            "_model_module": "@jupyter-widgets/base",
            "_model_module_version": "1.2.0",
            "_model_name": "LayoutModel",
            "_view_count": null,
            "_view_module": "@jupyter-widgets/base",
            "_view_module_version": "1.2.0",
            "_view_name": "LayoutView",
            "align_content": null,
            "align_items": null,
            "align_self": null,
            "border": null,
            "bottom": null,
            "display": null,
            "flex": null,
            "flex_flow": null,
            "grid_area": null,
            "grid_auto_columns": null,
            "grid_auto_flow": null,
            "grid_auto_rows": null,
            "grid_column": null,
            "grid_gap": null,
            "grid_row": null,
            "grid_template_areas": null,
            "grid_template_columns": null,
            "grid_template_rows": null,
            "height": null,
            "justify_content": null,
            "justify_items": null,
            "left": null,
            "margin": null,
            "max_height": null,
            "max_width": null,
            "min_height": null,
            "min_width": null,
            "object_fit": null,
            "object_position": null,
            "order": null,
            "overflow": null,
            "overflow_x": null,
            "overflow_y": null,
            "padding": null,
            "right": null,
            "top": null,
            "visibility": null,
            "width": null
          }
        },
        "240f8ba678374da7bc6747280718eb1a": {
          "model_module": "@jupyter-widgets/controls",
          "model_module_version": "1.5.0",
          "model_name": "ProgressStyleModel",
          "state": {
            "_model_module": "@jupyter-widgets/controls",
            "_model_module_version": "1.5.0",
            "_model_name": "ProgressStyleModel",
            "_view_count": null,
            "_view_module": "@jupyter-widgets/base",
            "_view_module_version": "1.2.0",
            "_view_name": "StyleView",
            "bar_color": null,
            "description_width": ""
          }
        },
        "247961ab627a4a47a5a94373027a3e10": {
          "model_module": "@jupyter-widgets/controls",
          "model_module_version": "1.5.0",
          "model_name": "ProgressStyleModel",
          "state": {
            "_model_module": "@jupyter-widgets/controls",
            "_model_module_version": "1.5.0",
            "_model_name": "ProgressStyleModel",
            "_view_count": null,
            "_view_module": "@jupyter-widgets/base",
            "_view_module_version": "1.2.0",
            "_view_name": "StyleView",
            "bar_color": null,
            "description_width": ""
          }
        },
        "27f7b00849534978b594fbb3dfcbe97f": {
          "model_module": "@jupyter-widgets/controls",
          "model_module_version": "1.5.0",
          "model_name": "HTMLModel",
          "state": {
            "_dom_classes": [],
            "_model_module": "@jupyter-widgets/controls",
            "_model_module_version": "1.5.0",
            "_model_name": "HTMLModel",
            "_view_count": null,
            "_view_module": "@jupyter-widgets/controls",
            "_view_module_version": "1.5.0",
            "_view_name": "HTMLView",
            "description": "",
            "description_tooltip": null,
            "layout": "IPY_MODEL_928f87f662ea4cba8e7f887af219f26f",
            "placeholder": "​",
            "style": "IPY_MODEL_6ed13a455ce147ea842ac95bd05247ec",
            "value": "Downloading (…)okenizer_config.json: 100%"
          }
        },
        "28cf9100a1f84f6883bb0253a70d2abf": {
          "model_module": "@jupyter-widgets/base",
          "model_module_version": "1.2.0",
          "model_name": "LayoutModel",
          "state": {
            "_model_module": "@jupyter-widgets/base",
            "_model_module_version": "1.2.0",
            "_model_name": "LayoutModel",
            "_view_count": null,
            "_view_module": "@jupyter-widgets/base",
            "_view_module_version": "1.2.0",
            "_view_name": "LayoutView",
            "align_content": null,
            "align_items": null,
            "align_self": null,
            "border": null,
            "bottom": null,
            "display": null,
            "flex": null,
            "flex_flow": null,
            "grid_area": null,
            "grid_auto_columns": null,
            "grid_auto_flow": null,
            "grid_auto_rows": null,
            "grid_column": null,
            "grid_gap": null,
            "grid_row": null,
            "grid_template_areas": null,
            "grid_template_columns": null,
            "grid_template_rows": null,
            "height": null,
            "justify_content": null,
            "justify_items": null,
            "left": null,
            "margin": null,
            "max_height": null,
            "max_width": null,
            "min_height": null,
            "min_width": null,
            "object_fit": null,
            "object_position": null,
            "order": null,
            "overflow": null,
            "overflow_x": null,
            "overflow_y": null,
            "padding": null,
            "right": null,
            "top": null,
            "visibility": null,
            "width": null
          }
        },
        "29047cd8100f4c869048f41e43e45c44": {
          "model_module": "@jupyter-widgets/controls",
          "model_module_version": "1.5.0",
          "model_name": "ProgressStyleModel",
          "state": {
            "_model_module": "@jupyter-widgets/controls",
            "_model_module_version": "1.5.0",
            "_model_name": "ProgressStyleModel",
            "_view_count": null,
            "_view_module": "@jupyter-widgets/base",
            "_view_module_version": "1.2.0",
            "_view_name": "StyleView",
            "bar_color": null,
            "description_width": ""
          }
        },
        "29ad288f72974cba9d64eb7791d031cc": {
          "model_module": "@jupyter-widgets/controls",
          "model_module_version": "1.5.0",
          "model_name": "FloatProgressModel",
          "state": {
            "_dom_classes": [],
            "_model_module": "@jupyter-widgets/controls",
            "_model_module_version": "1.5.0",
            "_model_name": "FloatProgressModel",
            "_view_count": null,
            "_view_module": "@jupyter-widgets/controls",
            "_view_module_version": "1.5.0",
            "_view_name": "ProgressView",
            "bar_style": "success",
            "description": "",
            "description_tooltip": null,
            "layout": "IPY_MODEL_968a8a660c544a729d618b6045329653",
            "max": 5312753599,
            "min": 0,
            "orientation": "horizontal",
            "style": "IPY_MODEL_247961ab627a4a47a5a94373027a3e10",
            "value": 5312753599
          }
        },
        "371a237ce553490b866fcf18c46d753c": {
          "model_module": "@jupyter-widgets/controls",
          "model_module_version": "1.5.0",
          "model_name": "DescriptionStyleModel",
          "state": {
            "_model_module": "@jupyter-widgets/controls",
            "_model_module_version": "1.5.0",
            "_model_name": "DescriptionStyleModel",
            "_view_count": null,
            "_view_module": "@jupyter-widgets/base",
            "_view_module_version": "1.2.0",
            "_view_name": "StyleView",
            "description_width": ""
          }
        },
        "39ab38032efd4a9db34475736599ef42": {
          "model_module": "@jupyter-widgets/base",
          "model_module_version": "1.2.0",
          "model_name": "LayoutModel",
          "state": {
            "_model_module": "@jupyter-widgets/base",
            "_model_module_version": "1.2.0",
            "_model_name": "LayoutModel",
            "_view_count": null,
            "_view_module": "@jupyter-widgets/base",
            "_view_module_version": "1.2.0",
            "_view_name": "LayoutView",
            "align_content": null,
            "align_items": null,
            "align_self": null,
            "border": null,
            "bottom": null,
            "display": null,
            "flex": null,
            "flex_flow": null,
            "grid_area": null,
            "grid_auto_columns": null,
            "grid_auto_flow": null,
            "grid_auto_rows": null,
            "grid_column": null,
            "grid_gap": null,
            "grid_row": null,
            "grid_template_areas": null,
            "grid_template_columns": null,
            "grid_template_rows": null,
            "height": null,
            "justify_content": null,
            "justify_items": null,
            "left": null,
            "margin": null,
            "max_height": null,
            "max_width": null,
            "min_height": null,
            "min_width": null,
            "object_fit": null,
            "object_position": null,
            "order": null,
            "overflow": null,
            "overflow_x": null,
            "overflow_y": null,
            "padding": null,
            "right": null,
            "top": null,
            "visibility": null,
            "width": null
          }
        },
        "3e201983dd0d49bba78981a8863426cd": {
          "model_module": "@jupyter-widgets/controls",
          "model_module_version": "1.5.0",
          "model_name": "DescriptionStyleModel",
          "state": {
            "_model_module": "@jupyter-widgets/controls",
            "_model_module_version": "1.5.0",
            "_model_name": "DescriptionStyleModel",
            "_view_count": null,
            "_view_module": "@jupyter-widgets/base",
            "_view_module_version": "1.2.0",
            "_view_name": "StyleView",
            "description_width": ""
          }
        },
        "3eb36989bbcd496c9d495f14788419a3": {
          "model_module": "@jupyter-widgets/controls",
          "model_module_version": "1.5.0",
          "model_name": "HTMLModel",
          "state": {
            "_dom_classes": [],
            "_model_module": "@jupyter-widgets/controls",
            "_model_module_version": "1.5.0",
            "_model_name": "HTMLModel",
            "_view_count": null,
            "_view_module": "@jupyter-widgets/controls",
            "_view_module_version": "1.5.0",
            "_view_name": "HTMLView",
            "description": "",
            "description_tooltip": null,
            "layout": "IPY_MODEL_52ee83f39994426584dac76fc5c7c480",
            "placeholder": "​",
            "style": "IPY_MODEL_371a237ce553490b866fcf18c46d753c",
            "value": "Downloading (…)olve/main/vocab.json: 100%"
          }
        },
        "400027e140e64159a5821da7dd8855fe": {
          "model_module": "@jupyter-widgets/controls",
          "model_module_version": "1.5.0",
          "model_name": "DescriptionStyleModel",
          "state": {
            "_model_module": "@jupyter-widgets/controls",
            "_model_module_version": "1.5.0",
            "_model_name": "DescriptionStyleModel",
            "_view_count": null,
            "_view_module": "@jupyter-widgets/base",
            "_view_module_version": "1.2.0",
            "_view_name": "StyleView",
            "description_width": ""
          }
        },
        "52ee83f39994426584dac76fc5c7c480": {
          "model_module": "@jupyter-widgets/base",
          "model_module_version": "1.2.0",
          "model_name": "LayoutModel",
          "state": {
            "_model_module": "@jupyter-widgets/base",
            "_model_module_version": "1.2.0",
            "_model_name": "LayoutModel",
            "_view_count": null,
            "_view_module": "@jupyter-widgets/base",
            "_view_module_version": "1.2.0",
            "_view_name": "LayoutView",
            "align_content": null,
            "align_items": null,
            "align_self": null,
            "border": null,
            "bottom": null,
            "display": null,
            "flex": null,
            "flex_flow": null,
            "grid_area": null,
            "grid_auto_columns": null,
            "grid_auto_flow": null,
            "grid_auto_rows": null,
            "grid_column": null,
            "grid_gap": null,
            "grid_row": null,
            "grid_template_areas": null,
            "grid_template_columns": null,
            "grid_template_rows": null,
            "height": null,
            "justify_content": null,
            "justify_items": null,
            "left": null,
            "margin": null,
            "max_height": null,
            "max_width": null,
            "min_height": null,
            "min_width": null,
            "object_fit": null,
            "object_position": null,
            "order": null,
            "overflow": null,
            "overflow_x": null,
            "overflow_y": null,
            "padding": null,
            "right": null,
            "top": null,
            "visibility": null,
            "width": null
          }
        },
        "58225afdf28b4067b001181f10a99661": {
          "model_module": "@jupyter-widgets/base",
          "model_module_version": "1.2.0",
          "model_name": "LayoutModel",
          "state": {
            "_model_module": "@jupyter-widgets/base",
            "_model_module_version": "1.2.0",
            "_model_name": "LayoutModel",
            "_view_count": null,
            "_view_module": "@jupyter-widgets/base",
            "_view_module_version": "1.2.0",
            "_view_name": "LayoutView",
            "align_content": null,
            "align_items": null,
            "align_self": null,
            "border": null,
            "bottom": null,
            "display": null,
            "flex": null,
            "flex_flow": null,
            "grid_area": null,
            "grid_auto_columns": null,
            "grid_auto_flow": null,
            "grid_auto_rows": null,
            "grid_column": null,
            "grid_gap": null,
            "grid_row": null,
            "grid_template_areas": null,
            "grid_template_columns": null,
            "grid_template_rows": null,
            "height": null,
            "justify_content": null,
            "justify_items": null,
            "left": null,
            "margin": null,
            "max_height": null,
            "max_width": null,
            "min_height": null,
            "min_width": null,
            "object_fit": null,
            "object_position": null,
            "order": null,
            "overflow": null,
            "overflow_x": null,
            "overflow_y": null,
            "padding": null,
            "right": null,
            "top": null,
            "visibility": null,
            "width": null
          }
        },
        "5e6f826ba0aa48a9873af7e470009a39": {
          "model_module": "@jupyter-widgets/controls",
          "model_module_version": "1.5.0",
          "model_name": "DescriptionStyleModel",
          "state": {
            "_model_module": "@jupyter-widgets/controls",
            "_model_module_version": "1.5.0",
            "_model_name": "DescriptionStyleModel",
            "_view_count": null,
            "_view_module": "@jupyter-widgets/base",
            "_view_module_version": "1.2.0",
            "_view_name": "StyleView",
            "description_width": ""
          }
        },
        "6785c2b967614cb28b789eaf2c1cb6a2": {
          "model_module": "@jupyter-widgets/controls",
          "model_module_version": "1.5.0",
          "model_name": "HBoxModel",
          "state": {
            "_dom_classes": [],
            "_model_module": "@jupyter-widgets/controls",
            "_model_module_version": "1.5.0",
            "_model_name": "HBoxModel",
            "_view_count": null,
            "_view_module": "@jupyter-widgets/controls",
            "_view_module_version": "1.5.0",
            "_view_name": "HBoxView",
            "box_style": "",
            "children": [
              "IPY_MODEL_3eb36989bbcd496c9d495f14788419a3",
              "IPY_MODEL_c89b7e6b90104c13b4adaa6401564b4d",
              "IPY_MODEL_eef2e9d9b8e24438a522bfc05e1d5284"
            ],
            "layout": "IPY_MODEL_138765b11b52448a96f8d2223f044787"
          }
        },
        "6a77d372e98e48769274d687416f5d64": {
          "model_module": "@jupyter-widgets/controls",
          "model_module_version": "1.5.0",
          "model_name": "HTMLModel",
          "state": {
            "_dom_classes": [],
            "_model_module": "@jupyter-widgets/controls",
            "_model_module_version": "1.5.0",
            "_model_name": "HTMLModel",
            "_view_count": null,
            "_view_module": "@jupyter-widgets/controls",
            "_view_module_version": "1.5.0",
            "_view_name": "HTMLView",
            "description": "",
            "description_tooltip": null,
            "layout": "IPY_MODEL_f08c91a01afe45128a74f1173f839e54",
            "placeholder": "​",
            "style": "IPY_MODEL_6c7c42cb345c476fa44ccc62046833f6",
            "value": "Downloading (…)lve/main/config.json: 100%"
          }
        },
        "6c7c42cb345c476fa44ccc62046833f6": {
          "model_module": "@jupyter-widgets/controls",
          "model_module_version": "1.5.0",
          "model_name": "DescriptionStyleModel",
          "state": {
            "_model_module": "@jupyter-widgets/controls",
            "_model_module_version": "1.5.0",
            "_model_name": "DescriptionStyleModel",
            "_view_count": null,
            "_view_module": "@jupyter-widgets/base",
            "_view_module_version": "1.2.0",
            "_view_name": "StyleView",
            "description_width": ""
          }
        },
        "6ed13a455ce147ea842ac95bd05247ec": {
          "model_module": "@jupyter-widgets/controls",
          "model_module_version": "1.5.0",
          "model_name": "DescriptionStyleModel",
          "state": {
            "_model_module": "@jupyter-widgets/controls",
            "_model_module_version": "1.5.0",
            "_model_name": "DescriptionStyleModel",
            "_view_count": null,
            "_view_module": "@jupyter-widgets/base",
            "_view_module_version": "1.2.0",
            "_view_name": "StyleView",
            "description_width": ""
          }
        },
        "72c60d9a677a435088a4b4a483b60350": {
          "model_module": "@jupyter-widgets/base",
          "model_module_version": "1.2.0",
          "model_name": "LayoutModel",
          "state": {
            "_model_module": "@jupyter-widgets/base",
            "_model_module_version": "1.2.0",
            "_model_name": "LayoutModel",
            "_view_count": null,
            "_view_module": "@jupyter-widgets/base",
            "_view_module_version": "1.2.0",
            "_view_name": "LayoutView",
            "align_content": null,
            "align_items": null,
            "align_self": null,
            "border": null,
            "bottom": null,
            "display": null,
            "flex": null,
            "flex_flow": null,
            "grid_area": null,
            "grid_auto_columns": null,
            "grid_auto_flow": null,
            "grid_auto_rows": null,
            "grid_column": null,
            "grid_gap": null,
            "grid_row": null,
            "grid_template_areas": null,
            "grid_template_columns": null,
            "grid_template_rows": null,
            "height": null,
            "justify_content": null,
            "justify_items": null,
            "left": null,
            "margin": null,
            "max_height": null,
            "max_width": null,
            "min_height": null,
            "min_width": null,
            "object_fit": null,
            "object_position": null,
            "order": null,
            "overflow": null,
            "overflow_x": null,
            "overflow_y": null,
            "padding": null,
            "right": null,
            "top": null,
            "visibility": null,
            "width": null
          }
        },
        "75db14b74e404815bad929c2a7562ea0": {
          "model_module": "@jupyter-widgets/controls",
          "model_module_version": "1.5.0",
          "model_name": "HTMLModel",
          "state": {
            "_dom_classes": [],
            "_model_module": "@jupyter-widgets/controls",
            "_model_module_version": "1.5.0",
            "_model_name": "HTMLModel",
            "_view_count": null,
            "_view_module": "@jupyter-widgets/controls",
            "_view_module_version": "1.5.0",
            "_view_name": "HTMLView",
            "description": "",
            "description_tooltip": null,
            "layout": "IPY_MODEL_1023d6dfa6504e5d8bfcf860e1eee4c0",
            "placeholder": "​",
            "style": "IPY_MODEL_c14a236f42b74fa5b7caf9e8e4d101e2",
            "value": " 5.31G/5.31G [01:06&lt;00:00, 79.4MB/s]"
          }
        },
        "792c75adfb92456ebd7c4f0fd4b891ab": {
          "model_module": "@jupyter-widgets/controls",
          "model_module_version": "1.5.0",
          "model_name": "ProgressStyleModel",
          "state": {
            "_model_module": "@jupyter-widgets/controls",
            "_model_module_version": "1.5.0",
            "_model_name": "ProgressStyleModel",
            "_view_count": null,
            "_view_module": "@jupyter-widgets/base",
            "_view_module_version": "1.2.0",
            "_view_name": "StyleView",
            "bar_color": null,
            "description_width": ""
          }
        },
        "7dce8fe1f4274e5288f4bce7f5e4b193": {
          "model_module": "@jupyter-widgets/base",
          "model_module_version": "1.2.0",
          "model_name": "LayoutModel",
          "state": {
            "_model_module": "@jupyter-widgets/base",
            "_model_module_version": "1.2.0",
            "_model_name": "LayoutModel",
            "_view_count": null,
            "_view_module": "@jupyter-widgets/base",
            "_view_module_version": "1.2.0",
            "_view_name": "LayoutView",
            "align_content": null,
            "align_items": null,
            "align_self": null,
            "border": null,
            "bottom": null,
            "display": null,
            "flex": null,
            "flex_flow": null,
            "grid_area": null,
            "grid_auto_columns": null,
            "grid_auto_flow": null,
            "grid_auto_rows": null,
            "grid_column": null,
            "grid_gap": null,
            "grid_row": null,
            "grid_template_areas": null,
            "grid_template_columns": null,
            "grid_template_rows": null,
            "height": null,
            "justify_content": null,
            "justify_items": null,
            "left": null,
            "margin": null,
            "max_height": null,
            "max_width": null,
            "min_height": null,
            "min_width": null,
            "object_fit": null,
            "object_position": null,
            "order": null,
            "overflow": null,
            "overflow_x": null,
            "overflow_y": null,
            "padding": null,
            "right": null,
            "top": null,
            "visibility": null,
            "width": null
          }
        },
        "7ea74f4f641e454d948e9026c35ea25f": {
          "model_module": "@jupyter-widgets/controls",
          "model_module_version": "1.5.0",
          "model_name": "DescriptionStyleModel",
          "state": {
            "_model_module": "@jupyter-widgets/controls",
            "_model_module_version": "1.5.0",
            "_model_name": "DescriptionStyleModel",
            "_view_count": null,
            "_view_module": "@jupyter-widgets/base",
            "_view_module_version": "1.2.0",
            "_view_name": "StyleView",
            "description_width": ""
          }
        },
        "840cafd97375456f8b3d2933b35d74d1": {
          "model_module": "@jupyter-widgets/controls",
          "model_module_version": "1.5.0",
          "model_name": "HBoxModel",
          "state": {
            "_dom_classes": [],
            "_model_module": "@jupyter-widgets/controls",
            "_model_module_version": "1.5.0",
            "_model_name": "HBoxModel",
            "_view_count": null,
            "_view_module": "@jupyter-widgets/controls",
            "_view_module_version": "1.5.0",
            "_view_name": "HBoxView",
            "box_style": "",
            "children": [
              "IPY_MODEL_91be47f6dcf9479cb9d843aaa453f661",
              "IPY_MODEL_29ad288f72974cba9d64eb7791d031cc",
              "IPY_MODEL_75db14b74e404815bad929c2a7562ea0"
            ],
            "layout": "IPY_MODEL_d90b455bf4b34be6a75baa5582050b27"
          }
        },
        "8b08de023b7840629d8b26295ac307b6": {
          "model_module": "@jupyter-widgets/controls",
          "model_module_version": "1.5.0",
          "model_name": "HBoxModel",
          "state": {
            "_dom_classes": [],
            "_model_module": "@jupyter-widgets/controls",
            "_model_module_version": "1.5.0",
            "_model_name": "HBoxModel",
            "_view_count": null,
            "_view_module": "@jupyter-widgets/controls",
            "_view_module_version": "1.5.0",
            "_view_name": "HBoxView",
            "box_style": "",
            "children": [
              "IPY_MODEL_6a77d372e98e48769274d687416f5d64",
              "IPY_MODEL_eaf8444de3684b5b9bea45553eab9092",
              "IPY_MODEL_0c1cd7d9a79c49398c11cc7b81387b54"
            ],
            "layout": "IPY_MODEL_a5f41312db1a477181144a94be2d5463"
          }
        },
        "8db8e65322274edb85d9f920e61f862c": {
          "model_module": "@jupyter-widgets/base",
          "model_module_version": "1.2.0",
          "model_name": "LayoutModel",
          "state": {
            "_model_module": "@jupyter-widgets/base",
            "_model_module_version": "1.2.0",
            "_model_name": "LayoutModel",
            "_view_count": null,
            "_view_module": "@jupyter-widgets/base",
            "_view_module_version": "1.2.0",
            "_view_name": "LayoutView",
            "align_content": null,
            "align_items": null,
            "align_self": null,
            "border": null,
            "bottom": null,
            "display": null,
            "flex": null,
            "flex_flow": null,
            "grid_area": null,
            "grid_auto_columns": null,
            "grid_auto_flow": null,
            "grid_auto_rows": null,
            "grid_column": null,
            "grid_gap": null,
            "grid_row": null,
            "grid_template_areas": null,
            "grid_template_columns": null,
            "grid_template_rows": null,
            "height": null,
            "justify_content": null,
            "justify_items": null,
            "left": null,
            "margin": null,
            "max_height": null,
            "max_width": null,
            "min_height": null,
            "min_width": null,
            "object_fit": null,
            "object_position": null,
            "order": null,
            "overflow": null,
            "overflow_x": null,
            "overflow_y": null,
            "padding": null,
            "right": null,
            "top": null,
            "visibility": null,
            "width": null
          }
        },
        "8e4e423799d64431855c4d1c71b25283": {
          "model_module": "@jupyter-widgets/base",
          "model_module_version": "1.2.0",
          "model_name": "LayoutModel",
          "state": {
            "_model_module": "@jupyter-widgets/base",
            "_model_module_version": "1.2.0",
            "_model_name": "LayoutModel",
            "_view_count": null,
            "_view_module": "@jupyter-widgets/base",
            "_view_module_version": "1.2.0",
            "_view_name": "LayoutView",
            "align_content": null,
            "align_items": null,
            "align_self": null,
            "border": null,
            "bottom": null,
            "display": null,
            "flex": null,
            "flex_flow": null,
            "grid_area": null,
            "grid_auto_columns": null,
            "grid_auto_flow": null,
            "grid_auto_rows": null,
            "grid_column": null,
            "grid_gap": null,
            "grid_row": null,
            "grid_template_areas": null,
            "grid_template_columns": null,
            "grid_template_rows": null,
            "height": null,
            "justify_content": null,
            "justify_items": null,
            "left": null,
            "margin": null,
            "max_height": null,
            "max_width": null,
            "min_height": null,
            "min_width": null,
            "object_fit": null,
            "object_position": null,
            "order": null,
            "overflow": null,
            "overflow_x": null,
            "overflow_y": null,
            "padding": null,
            "right": null,
            "top": null,
            "visibility": null,
            "width": null
          }
        },
        "91be47f6dcf9479cb9d843aaa453f661": {
          "model_module": "@jupyter-widgets/controls",
          "model_module_version": "1.5.0",
          "model_name": "HTMLModel",
          "state": {
            "_dom_classes": [],
            "_model_module": "@jupyter-widgets/controls",
            "_model_module_version": "1.5.0",
            "_model_name": "HTMLModel",
            "_view_count": null,
            "_view_module": "@jupyter-widgets/controls",
            "_view_module_version": "1.5.0",
            "_view_name": "HTMLView",
            "description": "",
            "description_tooltip": null,
            "layout": "IPY_MODEL_8db8e65322274edb85d9f920e61f862c",
            "placeholder": "​",
            "style": "IPY_MODEL_e76658553e20440198c5b6bf7061e4c8",
            "value": "Downloading pytorch_model.bin: 100%"
          }
        },
        "928f87f662ea4cba8e7f887af219f26f": {
          "model_module": "@jupyter-widgets/base",
          "model_module_version": "1.2.0",
          "model_name": "LayoutModel",
          "state": {
            "_model_module": "@jupyter-widgets/base",
            "_model_module_version": "1.2.0",
            "_model_name": "LayoutModel",
            "_view_count": null,
            "_view_module": "@jupyter-widgets/base",
            "_view_module_version": "1.2.0",
            "_view_name": "LayoutView",
            "align_content": null,
            "align_items": null,
            "align_self": null,
            "border": null,
            "bottom": null,
            "display": null,
            "flex": null,
            "flex_flow": null,
            "grid_area": null,
            "grid_auto_columns": null,
            "grid_auto_flow": null,
            "grid_auto_rows": null,
            "grid_column": null,
            "grid_gap": null,
            "grid_row": null,
            "grid_template_areas": null,
            "grid_template_columns": null,
            "grid_template_rows": null,
            "height": null,
            "justify_content": null,
            "justify_items": null,
            "left": null,
            "margin": null,
            "max_height": null,
            "max_width": null,
            "min_height": null,
            "min_width": null,
            "object_fit": null,
            "object_position": null,
            "order": null,
            "overflow": null,
            "overflow_x": null,
            "overflow_y": null,
            "padding": null,
            "right": null,
            "top": null,
            "visibility": null,
            "width": null
          }
        },
        "92954d07979041f896da453fab3edafc": {
          "model_module": "@jupyter-widgets/controls",
          "model_module_version": "1.5.0",
          "model_name": "HTMLModel",
          "state": {
            "_dom_classes": [],
            "_model_module": "@jupyter-widgets/controls",
            "_model_module_version": "1.5.0",
            "_model_name": "HTMLModel",
            "_view_count": null,
            "_view_module": "@jupyter-widgets/controls",
            "_view_module_version": "1.5.0",
            "_view_name": "HTMLView",
            "description": "",
            "description_tooltip": null,
            "layout": "IPY_MODEL_c9c5fae561a24dc29165971a9a777fb2",
            "placeholder": "​",
            "style": "IPY_MODEL_9beb22210abb4f6fbc9240042b64b3df",
            "value": " 456k/456k [00:00&lt;00:00, 623kB/s]"
          }
        },
        "968a8a660c544a729d618b6045329653": {
          "model_module": "@jupyter-widgets/base",
          "model_module_version": "1.2.0",
          "model_name": "LayoutModel",
          "state": {
            "_model_module": "@jupyter-widgets/base",
            "_model_module_version": "1.2.0",
            "_model_name": "LayoutModel",
            "_view_count": null,
            "_view_module": "@jupyter-widgets/base",
            "_view_module_version": "1.2.0",
            "_view_name": "LayoutView",
            "align_content": null,
            "align_items": null,
            "align_self": null,
            "border": null,
            "bottom": null,
            "display": null,
            "flex": null,
            "flex_flow": null,
            "grid_area": null,
            "grid_auto_columns": null,
            "grid_auto_flow": null,
            "grid_auto_rows": null,
            "grid_column": null,
            "grid_gap": null,
            "grid_row": null,
            "grid_template_areas": null,
            "grid_template_columns": null,
            "grid_template_rows": null,
            "height": null,
            "justify_content": null,
            "justify_items": null,
            "left": null,
            "margin": null,
            "max_height": null,
            "max_width": null,
            "min_height": null,
            "min_width": null,
            "object_fit": null,
            "object_position": null,
            "order": null,
            "overflow": null,
            "overflow_x": null,
            "overflow_y": null,
            "padding": null,
            "right": null,
            "top": null,
            "visibility": null,
            "width": null
          }
        },
        "97495d91187c432e9dcaee2a6421d0f0": {
          "model_module": "@jupyter-widgets/controls",
          "model_module_version": "1.5.0",
          "model_name": "HBoxModel",
          "state": {
            "_dom_classes": [],
            "_model_module": "@jupyter-widgets/controls",
            "_model_module_version": "1.5.0",
            "_model_name": "HBoxModel",
            "_view_count": null,
            "_view_module": "@jupyter-widgets/controls",
            "_view_module_version": "1.5.0",
            "_view_name": "HBoxView",
            "box_style": "",
            "children": [
              "IPY_MODEL_27f7b00849534978b594fbb3dfcbe97f",
              "IPY_MODEL_f2db0e14b6dc4a3bb6d23dd4554e9ae7",
              "IPY_MODEL_0b6a92d042d84b0f847049bd23090249"
            ],
            "layout": "IPY_MODEL_1b0511b29b2b4daf93cc595f2a2c1342"
          }
        },
        "9beb22210abb4f6fbc9240042b64b3df": {
          "model_module": "@jupyter-widgets/controls",
          "model_module_version": "1.5.0",
          "model_name": "DescriptionStyleModel",
          "state": {
            "_model_module": "@jupyter-widgets/controls",
            "_model_module_version": "1.5.0",
            "_model_name": "DescriptionStyleModel",
            "_view_count": null,
            "_view_module": "@jupyter-widgets/base",
            "_view_module_version": "1.2.0",
            "_view_name": "StyleView",
            "description_width": ""
          }
        },
        "9cfc713fe9e447abbe039c4ec6984c15": {
          "model_module": "@jupyter-widgets/base",
          "model_module_version": "1.2.0",
          "model_name": "LayoutModel",
          "state": {
            "_model_module": "@jupyter-widgets/base",
            "_model_module_version": "1.2.0",
            "_model_name": "LayoutModel",
            "_view_count": null,
            "_view_module": "@jupyter-widgets/base",
            "_view_module_version": "1.2.0",
            "_view_name": "LayoutView",
            "align_content": null,
            "align_items": null,
            "align_self": null,
            "border": null,
            "bottom": null,
            "display": null,
            "flex": null,
            "flex_flow": null,
            "grid_area": null,
            "grid_auto_columns": null,
            "grid_auto_flow": null,
            "grid_auto_rows": null,
            "grid_column": null,
            "grid_gap": null,
            "grid_row": null,
            "grid_template_areas": null,
            "grid_template_columns": null,
            "grid_template_rows": null,
            "height": null,
            "justify_content": null,
            "justify_items": null,
            "left": null,
            "margin": null,
            "max_height": null,
            "max_width": null,
            "min_height": null,
            "min_width": null,
            "object_fit": null,
            "object_position": null,
            "order": null,
            "overflow": null,
            "overflow_x": null,
            "overflow_y": null,
            "padding": null,
            "right": null,
            "top": null,
            "visibility": null,
            "width": null
          }
        },
        "a1430237712e4fff9693220a3cd54370": {
          "model_module": "@jupyter-widgets/controls",
          "model_module_version": "1.5.0",
          "model_name": "DescriptionStyleModel",
          "state": {
            "_model_module": "@jupyter-widgets/controls",
            "_model_module_version": "1.5.0",
            "_model_name": "DescriptionStyleModel",
            "_view_count": null,
            "_view_module": "@jupyter-widgets/base",
            "_view_module_version": "1.2.0",
            "_view_name": "StyleView",
            "description_width": ""
          }
        },
        "a5f41312db1a477181144a94be2d5463": {
          "model_module": "@jupyter-widgets/base",
          "model_module_version": "1.2.0",
          "model_name": "LayoutModel",
          "state": {
            "_model_module": "@jupyter-widgets/base",
            "_model_module_version": "1.2.0",
            "_model_name": "LayoutModel",
            "_view_count": null,
            "_view_module": "@jupyter-widgets/base",
            "_view_module_version": "1.2.0",
            "_view_name": "LayoutView",
            "align_content": null,
            "align_items": null,
            "align_self": null,
            "border": null,
            "bottom": null,
            "display": null,
            "flex": null,
            "flex_flow": null,
            "grid_area": null,
            "grid_auto_columns": null,
            "grid_auto_flow": null,
            "grid_auto_rows": null,
            "grid_column": null,
            "grid_gap": null,
            "grid_row": null,
            "grid_template_areas": null,
            "grid_template_columns": null,
            "grid_template_rows": null,
            "height": null,
            "justify_content": null,
            "justify_items": null,
            "left": null,
            "margin": null,
            "max_height": null,
            "max_width": null,
            "min_height": null,
            "min_width": null,
            "object_fit": null,
            "object_position": null,
            "order": null,
            "overflow": null,
            "overflow_x": null,
            "overflow_y": null,
            "padding": null,
            "right": null,
            "top": null,
            "visibility": null,
            "width": null
          }
        },
        "ae7060164b204e62866a4dba46305567": {
          "model_module": "@jupyter-widgets/controls",
          "model_module_version": "1.5.0",
          "model_name": "ProgressStyleModel",
          "state": {
            "_model_module": "@jupyter-widgets/controls",
            "_model_module_version": "1.5.0",
            "_model_name": "ProgressStyleModel",
            "_view_count": null,
            "_view_module": "@jupyter-widgets/base",
            "_view_module_version": "1.2.0",
            "_view_name": "StyleView",
            "bar_color": null,
            "description_width": ""
          }
        },
        "b5f5a86f65f74eea99f08f3e387f2e22": {
          "model_module": "@jupyter-widgets/base",
          "model_module_version": "1.2.0",
          "model_name": "LayoutModel",
          "state": {
            "_model_module": "@jupyter-widgets/base",
            "_model_module_version": "1.2.0",
            "_model_name": "LayoutModel",
            "_view_count": null,
            "_view_module": "@jupyter-widgets/base",
            "_view_module_version": "1.2.0",
            "_view_name": "LayoutView",
            "align_content": null,
            "align_items": null,
            "align_self": null,
            "border": null,
            "bottom": null,
            "display": null,
            "flex": null,
            "flex_flow": null,
            "grid_area": null,
            "grid_auto_columns": null,
            "grid_auto_flow": null,
            "grid_auto_rows": null,
            "grid_column": null,
            "grid_gap": null,
            "grid_row": null,
            "grid_template_areas": null,
            "grid_template_columns": null,
            "grid_template_rows": null,
            "height": null,
            "justify_content": null,
            "justify_items": null,
            "left": null,
            "margin": null,
            "max_height": null,
            "max_width": null,
            "min_height": null,
            "min_width": null,
            "object_fit": null,
            "object_position": null,
            "order": null,
            "overflow": null,
            "overflow_x": null,
            "overflow_y": null,
            "padding": null,
            "right": null,
            "top": null,
            "visibility": null,
            "width": null
          }
        },
        "ba0c7678f8d74824bcb6c0a8e554ab37": {
          "model_module": "@jupyter-widgets/base",
          "model_module_version": "1.2.0",
          "model_name": "LayoutModel",
          "state": {
            "_model_module": "@jupyter-widgets/base",
            "_model_module_version": "1.2.0",
            "_model_name": "LayoutModel",
            "_view_count": null,
            "_view_module": "@jupyter-widgets/base",
            "_view_module_version": "1.2.0",
            "_view_name": "LayoutView",
            "align_content": null,
            "align_items": null,
            "align_self": null,
            "border": null,
            "bottom": null,
            "display": null,
            "flex": null,
            "flex_flow": null,
            "grid_area": null,
            "grid_auto_columns": null,
            "grid_auto_flow": null,
            "grid_auto_rows": null,
            "grid_column": null,
            "grid_gap": null,
            "grid_row": null,
            "grid_template_areas": null,
            "grid_template_columns": null,
            "grid_template_rows": null,
            "height": null,
            "justify_content": null,
            "justify_items": null,
            "left": null,
            "margin": null,
            "max_height": null,
            "max_width": null,
            "min_height": null,
            "min_width": null,
            "object_fit": null,
            "object_position": null,
            "order": null,
            "overflow": null,
            "overflow_x": null,
            "overflow_y": null,
            "padding": null,
            "right": null,
            "top": null,
            "visibility": null,
            "width": null
          }
        },
        "c14a236f42b74fa5b7caf9e8e4d101e2": {
          "model_module": "@jupyter-widgets/controls",
          "model_module_version": "1.5.0",
          "model_name": "DescriptionStyleModel",
          "state": {
            "_model_module": "@jupyter-widgets/controls",
            "_model_module_version": "1.5.0",
            "_model_name": "DescriptionStyleModel",
            "_view_count": null,
            "_view_module": "@jupyter-widgets/base",
            "_view_module_version": "1.2.0",
            "_view_name": "StyleView",
            "description_width": ""
          }
        },
        "c89b7e6b90104c13b4adaa6401564b4d": {
          "model_module": "@jupyter-widgets/controls",
          "model_module_version": "1.5.0",
          "model_name": "FloatProgressModel",
          "state": {
            "_dom_classes": [],
            "_model_module": "@jupyter-widgets/controls",
            "_model_module_version": "1.5.0",
            "_model_name": "FloatProgressModel",
            "_view_count": null,
            "_view_module": "@jupyter-widgets/controls",
            "_view_module_version": "1.5.0",
            "_view_name": "ProgressView",
            "bar_style": "success",
            "description": "",
            "description_tooltip": null,
            "layout": "IPY_MODEL_28cf9100a1f84f6883bb0253a70d2abf",
            "max": 798156,
            "min": 0,
            "orientation": "horizontal",
            "style": "IPY_MODEL_792c75adfb92456ebd7c4f0fd4b891ab",
            "value": 798156
          }
        },
        "c9c5fae561a24dc29165971a9a777fb2": {
          "model_module": "@jupyter-widgets/base",
          "model_module_version": "1.2.0",
          "model_name": "LayoutModel",
          "state": {
            "_model_module": "@jupyter-widgets/base",
            "_model_module_version": "1.2.0",
            "_model_name": "LayoutModel",
            "_view_count": null,
            "_view_module": "@jupyter-widgets/base",
            "_view_module_version": "1.2.0",
            "_view_name": "LayoutView",
            "align_content": null,
            "align_items": null,
            "align_self": null,
            "border": null,
            "bottom": null,
            "display": null,
            "flex": null,
            "flex_flow": null,
            "grid_area": null,
            "grid_auto_columns": null,
            "grid_auto_flow": null,
            "grid_auto_rows": null,
            "grid_column": null,
            "grid_gap": null,
            "grid_row": null,
            "grid_template_areas": null,
            "grid_template_columns": null,
            "grid_template_rows": null,
            "height": null,
            "justify_content": null,
            "justify_items": null,
            "left": null,
            "margin": null,
            "max_height": null,
            "max_width": null,
            "min_height": null,
            "min_width": null,
            "object_fit": null,
            "object_position": null,
            "order": null,
            "overflow": null,
            "overflow_x": null,
            "overflow_y": null,
            "padding": null,
            "right": null,
            "top": null,
            "visibility": null,
            "width": null
          }
        },
        "d90b455bf4b34be6a75baa5582050b27": {
          "model_module": "@jupyter-widgets/base",
          "model_module_version": "1.2.0",
          "model_name": "LayoutModel",
          "state": {
            "_model_module": "@jupyter-widgets/base",
            "_model_module_version": "1.2.0",
            "_model_name": "LayoutModel",
            "_view_count": null,
            "_view_module": "@jupyter-widgets/base",
            "_view_module_version": "1.2.0",
            "_view_name": "LayoutView",
            "align_content": null,
            "align_items": null,
            "align_self": null,
            "border": null,
            "bottom": null,
            "display": null,
            "flex": null,
            "flex_flow": null,
            "grid_area": null,
            "grid_auto_columns": null,
            "grid_auto_flow": null,
            "grid_auto_rows": null,
            "grid_column": null,
            "grid_gap": null,
            "grid_row": null,
            "grid_template_areas": null,
            "grid_template_columns": null,
            "grid_template_rows": null,
            "height": null,
            "justify_content": null,
            "justify_items": null,
            "left": null,
            "margin": null,
            "max_height": null,
            "max_width": null,
            "min_height": null,
            "min_width": null,
            "object_fit": null,
            "object_position": null,
            "order": null,
            "overflow": null,
            "overflow_x": null,
            "overflow_y": null,
            "padding": null,
            "right": null,
            "top": null,
            "visibility": null,
            "width": null
          }
        },
        "e76658553e20440198c5b6bf7061e4c8": {
          "model_module": "@jupyter-widgets/controls",
          "model_module_version": "1.5.0",
          "model_name": "DescriptionStyleModel",
          "state": {
            "_model_module": "@jupyter-widgets/controls",
            "_model_module_version": "1.5.0",
            "_model_name": "DescriptionStyleModel",
            "_view_count": null,
            "_view_module": "@jupyter-widgets/base",
            "_view_module_version": "1.2.0",
            "_view_name": "StyleView",
            "description_width": ""
          }
        },
        "eaf8444de3684b5b9bea45553eab9092": {
          "model_module": "@jupyter-widgets/controls",
          "model_module_version": "1.5.0",
          "model_name": "FloatProgressModel",
          "state": {
            "_dom_classes": [],
            "_model_module": "@jupyter-widgets/controls",
            "_model_module_version": "1.5.0",
            "_model_name": "FloatProgressModel",
            "_view_count": null,
            "_view_module": "@jupyter-widgets/controls",
            "_view_module_version": "1.5.0",
            "_view_name": "ProgressView",
            "bar_style": "success",
            "description": "",
            "description_tooltip": null,
            "layout": "IPY_MODEL_239025ccaa9d42e0bb5aed2ba97a13b4",
            "max": 1347,
            "min": 0,
            "orientation": "horizontal",
            "style": "IPY_MODEL_240f8ba678374da7bc6747280718eb1a",
            "value": 1347
          }
        },
        "eef2e9d9b8e24438a522bfc05e1d5284": {
          "model_module": "@jupyter-widgets/controls",
          "model_module_version": "1.5.0",
          "model_name": "HTMLModel",
          "state": {
            "_dom_classes": [],
            "_model_module": "@jupyter-widgets/controls",
            "_model_module_version": "1.5.0",
            "_model_name": "HTMLModel",
            "_view_count": null,
            "_view_module": "@jupyter-widgets/controls",
            "_view_module_version": "1.5.0",
            "_view_name": "HTMLView",
            "description": "",
            "description_tooltip": null,
            "layout": "IPY_MODEL_12d7930cd1f44bb0a34551cecbb8ac97",
            "placeholder": "​",
            "style": "IPY_MODEL_a1430237712e4fff9693220a3cd54370",
            "value": " 798k/798k [00:00&lt;00:00, 867kB/s]"
          }
        },
        "ef128a65b005402f94cc646486dac1ab": {
          "model_module": "@jupyter-widgets/base",
          "model_module_version": "1.2.0",
          "model_name": "LayoutModel",
          "state": {
            "_model_module": "@jupyter-widgets/base",
            "_model_module_version": "1.2.0",
            "_model_name": "LayoutModel",
            "_view_count": null,
            "_view_module": "@jupyter-widgets/base",
            "_view_module_version": "1.2.0",
            "_view_name": "LayoutView",
            "align_content": null,
            "align_items": null,
            "align_self": null,
            "border": null,
            "bottom": null,
            "display": null,
            "flex": null,
            "flex_flow": null,
            "grid_area": null,
            "grid_auto_columns": null,
            "grid_auto_flow": null,
            "grid_auto_rows": null,
            "grid_column": null,
            "grid_gap": null,
            "grid_row": null,
            "grid_template_areas": null,
            "grid_template_columns": null,
            "grid_template_rows": null,
            "height": null,
            "justify_content": null,
            "justify_items": null,
            "left": null,
            "margin": null,
            "max_height": null,
            "max_width": null,
            "min_height": null,
            "min_width": null,
            "object_fit": null,
            "object_position": null,
            "order": null,
            "overflow": null,
            "overflow_x": null,
            "overflow_y": null,
            "padding": null,
            "right": null,
            "top": null,
            "visibility": null,
            "width": null
          }
        },
        "f08c91a01afe45128a74f1173f839e54": {
          "model_module": "@jupyter-widgets/base",
          "model_module_version": "1.2.0",
          "model_name": "LayoutModel",
          "state": {
            "_model_module": "@jupyter-widgets/base",
            "_model_module_version": "1.2.0",
            "_model_name": "LayoutModel",
            "_view_count": null,
            "_view_module": "@jupyter-widgets/base",
            "_view_module_version": "1.2.0",
            "_view_name": "LayoutView",
            "align_content": null,
            "align_items": null,
            "align_self": null,
            "border": null,
            "bottom": null,
            "display": null,
            "flex": null,
            "flex_flow": null,
            "grid_area": null,
            "grid_auto_columns": null,
            "grid_auto_flow": null,
            "grid_auto_rows": null,
            "grid_column": null,
            "grid_gap": null,
            "grid_row": null,
            "grid_template_areas": null,
            "grid_template_columns": null,
            "grid_template_rows": null,
            "height": null,
            "justify_content": null,
            "justify_items": null,
            "left": null,
            "margin": null,
            "max_height": null,
            "max_width": null,
            "min_height": null,
            "min_width": null,
            "object_fit": null,
            "object_position": null,
            "order": null,
            "overflow": null,
            "overflow_x": null,
            "overflow_y": null,
            "padding": null,
            "right": null,
            "top": null,
            "visibility": null,
            "width": null
          }
        },
        "f1725ab0a7634ceba5429f31b7d0c490": {
          "model_module": "@jupyter-widgets/controls",
          "model_module_version": "1.5.0",
          "model_name": "HTMLModel",
          "state": {
            "_dom_classes": [],
            "_model_module": "@jupyter-widgets/controls",
            "_model_module_version": "1.5.0",
            "_model_name": "HTMLModel",
            "_view_count": null,
            "_view_module": "@jupyter-widgets/controls",
            "_view_module_version": "1.5.0",
            "_view_name": "HTMLView",
            "description": "",
            "description_tooltip": null,
            "layout": "IPY_MODEL_01b07d98ac044d85b6f58ce5548b39a8",
            "placeholder": "​",
            "style": "IPY_MODEL_5e6f826ba0aa48a9873af7e470009a39",
            "value": "Downloading (…)olve/main/merges.txt: 100%"
          }
        },
        "f2db0e14b6dc4a3bb6d23dd4554e9ae7": {
          "model_module": "@jupyter-widgets/controls",
          "model_module_version": "1.5.0",
          "model_name": "FloatProgressModel",
          "state": {
            "_dom_classes": [],
            "_model_module": "@jupyter-widgets/controls",
            "_model_module_version": "1.5.0",
            "_model_name": "FloatProgressModel",
            "_view_count": null,
            "_view_module": "@jupyter-widgets/controls",
            "_view_module_version": "1.5.0",
            "_view_name": "ProgressView",
            "bar_style": "success",
            "description": "",
            "description_tooltip": null,
            "layout": "IPY_MODEL_ef128a65b005402f94cc646486dac1ab",
            "max": 200,
            "min": 0,
            "orientation": "horizontal",
            "style": "IPY_MODEL_29047cd8100f4c869048f41e43e45c44",
            "value": 200
          }
        },
        "f889f94d383e424787bb412ccdfec3d9": {
          "model_module": "@jupyter-widgets/controls",
          "model_module_version": "1.5.0",
          "model_name": "DescriptionStyleModel",
          "state": {
            "_model_module": "@jupyter-widgets/controls",
            "_model_module_version": "1.5.0",
            "_model_name": "DescriptionStyleModel",
            "_view_count": null,
            "_view_module": "@jupyter-widgets/base",
            "_view_module_version": "1.2.0",
            "_view_name": "StyleView",
            "description_width": ""
          }
        },
        "ffa15b8285a34bca8527122d621b7cf5": {
          "model_module": "@jupyter-widgets/controls",
          "model_module_version": "1.5.0",
          "model_name": "FloatProgressModel",
          "state": {
            "_dom_classes": [],
            "_model_module": "@jupyter-widgets/controls",
            "_model_module_version": "1.5.0",
            "_model_name": "FloatProgressModel",
            "_view_count": null,
            "_view_module": "@jupyter-widgets/controls",
            "_view_module_version": "1.5.0",
            "_view_name": "ProgressView",
            "bar_style": "success",
            "description": "",
            "description_tooltip": null,
            "layout": "IPY_MODEL_b5f5a86f65f74eea99f08f3e387f2e22",
            "max": 90,
            "min": 0,
            "orientation": "horizontal",
            "style": "IPY_MODEL_ae7060164b204e62866a4dba46305567",
            "value": 90
          }
        }
      }
    }
  },
  "nbformat": 4,
  "nbformat_minor": 0
}